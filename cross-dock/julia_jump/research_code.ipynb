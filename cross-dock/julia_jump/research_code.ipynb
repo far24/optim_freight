{
 "cells": [
  {
   "cell_type": "markdown",
   "metadata": {},
   "source": [
    "---\n",
    "title: \"VRPCD with information exchange\"\n",
    "author: \"FA\"\n",
    "date: 2021-01-07\n",
    "tags: [\"VRPCD\", \"realtime\", \"information exchange\"]\n",
    "categories: \"research\"\n",
    "---"
   ]
  },
  {
   "cell_type": "code",
   "execution_count": 1,
   "metadata": {},
   "outputs": [],
   "source": [
    "#*****************************************\n",
    "# Necessary Package\n",
    "#*****************************************\n",
    "using Random\n",
    "using JuMP\n",
    "using LinearAlgebra\n",
    "using GLPK"
   ]
  },
  {
   "cell_type": "code",
   "execution_count": 2,
   "metadata": {},
   "outputs": [
    {
     "name": "stdout",
     "output_type": "stream",
     "text": [
      "[2, 3][6, 7][4][5][1, 2, 3, 4][5, 6, 7, 8][1, 2, 3, 4, 5, 6, 7, 8][1, 2, 3, 4]"
     ]
    }
   ],
   "source": [
    "#*****************************************\n",
    "# Network Property\n",
    "#*****************************************\n",
    "# P: set of pickup nodes\n",
    "P = [2,3]\n",
    "\n",
    "# D: set of delivery nodes\n",
    "D = [6,7]\n",
    "\n",
    "# O: cross-dock (assume single cross dock in the network)\n",
    "O_pick = [4]\n",
    "O_del = [5]\n",
    "\n",
    "# O1: dummy cross-dock\n",
    "O_dum_pick = [1]\n",
    "O_dum_del = [8]\n",
    "\n",
    "# pickup nodes\n",
    "N_pickup = vcat(O_dum_pick, P, O_pick)\n",
    "\n",
    "# delivery nodes\n",
    "N_delivery = vcat(O_del, D, O_dum_del)\n",
    "\n",
    "# all nodes\n",
    "N = vcat(O_dum_pick, P, O_pick, O_del, D, O_dum_del)\n",
    "\n",
    "# M: set of available vehicles\n",
    "M = [1,2,3,4]\n",
    "\n",
    "# may be we need to position each entity in a graph to find distance/ time automatically\n",
    "print(P,D,O_pick, O_del, N_pickup, N_delivery, N, M)\n"
   ]
  },
  {
   "cell_type": "code",
   "execution_count": 3,
   "metadata": {},
   "outputs": [
    {
     "data": {
      "text/plain": [
       "960"
      ]
     },
     "execution_count": 3,
     "metadata": {},
     "output_type": "execute_result"
    }
   ],
   "source": [
    "#****************************************\n",
    "# parameters\n",
    "#*****************************************\n",
    "\n",
    "# ---------- Nodes\n",
    "# p = number of pickup nodes\n",
    "p = length(P)\n",
    "\n",
    "# d = number of delivery nodes\n",
    "d = length(D)\n",
    "\n",
    "# o = number of cross dock\n",
    "o_pick = length(O_pick)\n",
    "o_del = length(O_del)\n",
    "\n",
    "\n",
    "# p_cd: number of nodes in pickup process (dummy CD + P + CD)\n",
    "p_cd = length(N_pickup)\n",
    "\n",
    "# d_cd: number of nodes in delivery process (CD + P + dummy CD)\n",
    "d_cd = length(N_delivery)\n",
    "\n",
    "# n: total nodes in the network\n",
    "n = length(N)\n",
    "\n",
    "# p_i: quantity of products to be collected at pickup node i; [include product type in future]\n",
    "p_i = [0, 30, 50, 0, 0, 0, 0, 0]\n",
    "\n",
    "# d_i: quantity of products to be delivered at delivery node i; [include product type in future]\n",
    "d_i = [0, 0, 0, 0, 0, 30, 50, 0]\n",
    "\n",
    "# a_i: starting time window of node i\n",
    "a_i = [0, 0, 0, 0, 0, 5, 0, 0]\n",
    "\n",
    "# b_i: ending time window of node i\n",
    "b_i = [0, 1, 2, 24, 24, 10, 3, 24]\n",
    "\n",
    "# --------- vehicles\n",
    "\n",
    "# number of availble vehicles\n",
    "m = length(M)\n",
    "\n",
    "# capacity of vehicle (homogenous); in-future define as cap/veh\n",
    "Q = 50\n",
    "\n",
    "# Random.seed!(314)\n",
    "# travel time matrix for all nodes\n",
    "# c_ij = the travel time (minutes)/cost between node i and node j; (assuming the cost is the same as the time req.)\n",
    "B = 999\n",
    "t_ij= \n",
    "    [0 2 4 0 B B B B;\n",
    "     2 0 5 2 B B B B;\n",
    "     4 5 0 4 B B B B;\n",
    "     0 2 4 0 B B B B;\n",
    "     B B B B 0 6 2 0;\n",
    "     B B B B 6 0 5 6;\n",
    "     B B B B 2 5 0 2;\n",
    "     B B B B 0 6 2 0]\n",
    "\n",
    "# Cross-dock activity time\n",
    "T_o = 15\n",
    "\n",
    "# time horizon (16 hr a day)\n",
    "T_max = 16*60"
   ]
  },
  {
   "cell_type": "code",
   "execution_count": 4,
   "metadata": {},
   "outputs": [
    {
     "data": {
      "text/plain": [
       "1-dimensional DenseAxisArray{VariableRef,1,...} with index sets:\n",
       "    Dimension 1, [1, 2, 3, 4]\n",
       "And data, a 4-element Array{VariableRef,1}:\n",
       " AT_k[1]\n",
       " AT_k[2]\n",
       " AT_k[3]\n",
       " AT_k[4]"
      ]
     },
     "execution_count": 4,
     "metadata": {},
     "output_type": "execute_result"
    }
   ],
   "source": [
    "# ****************************************\n",
    "# Create a JuMP model\n",
    "# ****************************************\n",
    "cd_modl = Model(GLPK.Optimizer)\n",
    "\n",
    "# ****************************************\n",
    "# Decision variables\n",
    "#*****************************************\n",
    "\n",
    "# x_ijk = 1 if vehicle k travels from node i to node j; 0 otherwise;\n",
    "@variable(cd_modl, x_ijk[i=N, j=N, k=M], Bin)\n",
    "\n",
    "# y_i = total quantity of collected/delivered products after leaving node i\n",
    "@variable(cd_modl, y_i[i = N] >= 0)\n",
    "\n",
    "# v_ik = 1 if vehicle k visits node i; 0 otherwise\n",
    "# @variable(cd_modl, v_ik[i = N, k = M], Bin)\n",
    "\n",
    "# s_ik = arrival time at node i by vehicle k\n",
    "@variable(cd_modl, s_ik[i = N, k = M] >= 0)\n",
    "\n",
    "# l_ik = tardiness (tardiness/lateness = upper TW (b_i) - arrival time (s_ik)) at node i by vehicle k ==> this would be a non-linear constraint\n",
    "# l_i = tardiness at node i\n",
    "@variable(cd_modl, l_ik[i= N, k = M] >= 0)\n",
    "\n",
    "# t_pickup = latest arrival time a cross dock\n",
    "@variable(cd_modl, t_pick>=0)\n",
    "\n",
    "# AT_k = arrival time of vehicle k at the cross-dock\n",
    "@variable(cd_modl, AT_k[k =M]>=0)"
   ]
  },
  {
   "cell_type": "code",
   "execution_count": 5,
   "metadata": {},
   "outputs": [
    {
     "data": {
      "text/plain": [
       "2-dimensional DenseAxisArray{ConstraintRef{Model,MathOptInterface.ConstraintIndex{MathOptInterface.ScalarAffineFunction{Float64},MathOptInterface.LessThan{Float64}},ScalarShape},2,...} with index sets:\n",
       "    Dimension 1, [1, 2, 3, 4]\n",
       "    Dimension 2, [1, 2, 3, 4]\n",
       "And data, a 4×4 Array{ConstraintRef{Model,MathOptInterface.ConstraintIndex{MathOptInterface.ScalarAffineFunction{Float64},MathOptInterface.LessThan{Float64}},ScalarShape},2}:\n",
       " tard_pick[1,1] : 999 x_ijk[2,1,1] + 999 x_ijk[3,1,1] + 999 x_ijk[4,1,1] + s_ik[1,1] - l_ik[1,1] <= 999.0   …  tard_pick[1,4] : 999 x_ijk[2,1,4] + 999 x_ijk[3,1,4] + 999 x_ijk[4,1,4] + s_ik[1,4] - l_ik[1,4] <= 999.0\n",
       " tard_pick[2,1] : 999 x_ijk[1,2,1] + 999 x_ijk[3,2,1] + 999 x_ijk[4,2,1] + s_ik[2,1] - l_ik[2,1] <= 1000.0     tard_pick[2,4] : 999 x_ijk[1,2,4] + 999 x_ijk[3,2,4] + 999 x_ijk[4,2,4] + s_ik[2,4] - l_ik[2,4] <= 1000.0\n",
       " tard_pick[3,1] : 999 x_ijk[1,3,1] + 999 x_ijk[2,3,1] + 999 x_ijk[4,3,1] + s_ik[3,1] - l_ik[3,1] <= 1001.0     tard_pick[3,4] : 999 x_ijk[1,3,4] + 999 x_ijk[2,3,4] + 999 x_ijk[4,3,4] + s_ik[3,4] - l_ik[3,4] <= 1001.0\n",
       " tard_pick[4,1] : 999 x_ijk[1,4,1] + 999 x_ijk[2,4,1] + 999 x_ijk[3,4,1] + s_ik[4,1] - l_ik[4,1] <= 1023.0     tard_pick[4,4] : 999 x_ijk[1,4,4] + 999 x_ijk[2,4,4] + 999 x_ijk[3,4,4] + s_ik[4,4] - l_ik[4,4] <= 1023.0"
      ]
     },
     "execution_count": 5,
     "metadata": {},
     "output_type": "execute_result"
    }
   ],
   "source": [
    "#*****************************************\n",
    "# Constraints\n",
    "#*****************************************\n",
    "\n",
    "# Pick-up Process\n",
    "#----------------\n",
    "\n",
    "# [Pick-up Process] 01: only one vehicle can arrive at a pickup node\n",
    "@constraint(cd_modl, p_node_entry[j= P],\n",
    "                    sum(x_ijk[i,j,k] for i=vcat(O_dum_pick, P) for k=1:m if i != j) == 1)\n",
    "\n",
    "#[Pick-up Process] 02: Only one vehicle depart from the pickup node\n",
    "@constraint(cd_modl, p_node_exit[i= P],\n",
    "                    sum(x_ijk[i,j,k] for j=vcat(P,O_pick) for k=1:m if i != j) == 1)\n",
    "\n",
    "# [Pick-up Process] 03: Consecutive movement of vehicles\n",
    "@constraint(cd_modl, cons_move_pick[l = P, k=1:m],\n",
    "    sum(x_ijk[i,l,k] for i=vcat(O_dum_pick, P) if i != l) \n",
    "    -sum(x_ijk[l,j,k] for j=vcat(P,O_pick) if j != l) \n",
    "    == 0)\n",
    "\n",
    "# [Pick-up Process] 04: vehicle leave at dummy cross dock\n",
    "@constraint(cd_modl, p_dum_leave[i= O_dum_pick, k=1:m],\n",
    "    sum(x_ijk[i,j,k] for j = P) <= 1)\n",
    "\n",
    "\n",
    "# [Pick-up Process] 05: vehicle that leave at dummy cross dock visit cross dock immdiately after last pickup\n",
    "@constraint(cd_modl, p_cd_entry[j = O_pick, k=M],\n",
    "    sum(x_ijk[i,j,k] for i= P) <= 1)\n",
    "\n",
    "\n",
    "# [Pick-up Process] 06:  track vehicles k visits to nodes i\n",
    "# @constraint(cd_modl, veh_visit_pick[i = vcat(O_dum_pick, P, O_pick), k=M],\n",
    "#     sum(x_ijk[j,i,k] for j= vcat(O_dum_pick, P) if i != j) <= v_ik[i,k])\n",
    "\n",
    "\n",
    "# [Pick-up Process] 06: \n",
    "@constraint(cd_modl, p_pick_qnt[i = P, j = P,  k=1:m; i!=j],\n",
    "    y_i[j] \n",
    "    - y_i[i] \n",
    "    - p_i[j] \n",
    "    + Q \n",
    "    - (Q*(x_ijk[i,j,k] + x_ijk[j,i,k])) \n",
    "    + ((p_i[j]+p_i[i])*x_ijk[j,i,k])\n",
    "    >= 0)\n",
    "\n",
    "# [Pick-up Process] 07: \n",
    "@constraint(cd_modl, p_pick_qnt2[i = O_dum_pick, j = P, k=1:m],\n",
    "    y_i[j]\n",
    "    - x_ijk[i,j,k]*p_i[j]\n",
    "    - (1-x_ijk[i,j,k])*Q\n",
    "    <= 0)\n",
    "\n",
    "# [Pick-up Process] 08a: does not exceed the capacity of the trucks\n",
    "@constraint(cd_modl, pick_cap1[i = P],\n",
    "    y_i[i] >= p_i[i] )\n",
    "\n",
    "# [Pick-up Process] 08b: does not exceed the capacity of the trucks \n",
    "@constraint(cd_modl, pick_cap2[i = P],\n",
    "    y_i[i] <= Q)\n",
    "\n",
    "# # [Pick-up Process] 09: track the arrival time of vehicle k at node i\n",
    "@constraint(cd_modl, serv_time_pick[i = vcat(O_dum_pick, P, O_pick), j = vcat(O_dum_pick, P, O_pick),k= M; i !=j],\n",
    "        s_ik[i,k] + t_ij[i,j] - B*(1 - x_ijk[i,j,k]) <= s_ik[j,k]\n",
    ")\n",
    "\n",
    "\n",
    "# [Pick-up Process] 10: calculate the tardiness of vehicle arrival at node i\n",
    "@constraint(cd_modl, tard_pick[j=vcat(O_dum_pick, P, O_pick), k=M],\n",
    "    s_ik[j,k] \n",
    "    - b_i[j] \n",
    "    + B*(sum(x_ijk[i,j,k] for i = vcat(O_dum_pick, P, O_pick) if i !=j) - 1) \n",
    "    <= l_ik[j,k]\n",
    ")\n",
    "\n",
    "\n",
    "# arrival time of start of dummy depot ?? (do I need to set this?)\n",
    "# tardiness of dummy depot of pickup process?? \n",
    "\n",
    "\n",
    "# # [Pick-up Process] 10a: the start of servicing node i by vehicle k must be greater than the start of TW\n",
    "# @constraint(cd_modl, pick_TW_begin[i = vcat(O_dum_pick, P), k = M],\n",
    "#     s_ik[i,k] >= a_i[i])\n",
    "\n",
    "# # [Pick-up Process] 10b: the end of servicing node i by vehicle k must be greater than the end of TW\n",
    "# @constraint(cd_modl, pick_TW_end[i = vcat(O_dum_pick, P), k = M],\n",
    "#     s_ik[i,k] <= b_i[i])"
   ]
  },
  {
   "cell_type": "code",
   "execution_count": 6,
   "metadata": {},
   "outputs": [
    {
     "data": {
      "text/plain": [
       "2-dimensional DenseAxisArray{ConstraintRef{Model,MathOptInterface.ConstraintIndex{MathOptInterface.ScalarAffineFunction{Float64},MathOptInterface.LessThan{Float64}},ScalarShape},2,...} with index sets:\n",
       "    Dimension 1, [5, 6, 7, 8]\n",
       "    Dimension 2, [1, 2, 3, 4]\n",
       "And data, a 4×4 Array{ConstraintRef{Model,MathOptInterface.ConstraintIndex{MathOptInterface.ScalarAffineFunction{Float64},MathOptInterface.LessThan{Float64}},ScalarShape},2}:\n",
       " tard_del[5,1] : 999 x_ijk[6,5,1] + 999 x_ijk[7,5,1] + 999 x_ijk[8,5,1] + s_ik[5,1] - l_ik[5,1] <= 1023.0  …  tard_del[5,4] : 999 x_ijk[6,5,4] + 999 x_ijk[7,5,4] + 999 x_ijk[8,5,4] + s_ik[5,4] - l_ik[5,4] <= 1023.0\n",
       " tard_del[6,1] : 999 x_ijk[5,6,1] + 999 x_ijk[7,6,1] + 999 x_ijk[8,6,1] + s_ik[6,1] - l_ik[6,1] <= 1009.0     tard_del[6,4] : 999 x_ijk[5,6,4] + 999 x_ijk[7,6,4] + 999 x_ijk[8,6,4] + s_ik[6,4] - l_ik[6,4] <= 1009.0\n",
       " tard_del[7,1] : 999 x_ijk[5,7,1] + 999 x_ijk[6,7,1] + 999 x_ijk[8,7,1] + s_ik[7,1] - l_ik[7,1] <= 1002.0     tard_del[7,4] : 999 x_ijk[5,7,4] + 999 x_ijk[6,7,4] + 999 x_ijk[8,7,4] + s_ik[7,4] - l_ik[7,4] <= 1002.0\n",
       " tard_del[8,1] : 999 x_ijk[5,8,1] + 999 x_ijk[6,8,1] + 999 x_ijk[7,8,1] + s_ik[8,1] - l_ik[8,1] <= 1023.0     tard_del[8,4] : 999 x_ijk[5,8,4] + 999 x_ijk[6,8,4] + 999 x_ijk[7,8,4] + s_ik[8,4] - l_ik[8,4] <= 1023.0"
      ]
     },
     "execution_count": 6,
     "metadata": {},
     "output_type": "execute_result"
    }
   ],
   "source": [
    "#*****************************************\n",
    "# Constraints\n",
    "#*****************************************\n",
    "\n",
    "# Delivery Process\n",
    "#----------------\n",
    "\n",
    "# [Delivery Process] 01: only one vehicle can arrive at a pickup node\n",
    "@constraint(cd_modl, d_node_entry[j= D],\n",
    "                    sum(x_ijk[i,j,k] for i=vcat(O_del, D) for k=1:m if i != j) == 1)\n",
    "\n",
    "# [Delivery Process] 02: Only one vehicle depart from the pickup node\n",
    "@constraint(cd_modl, d_node_exit[i= D],\n",
    "                    sum(x_ijk[i,j,k] for j=vcat(D,O_dum_del) for k=1:m if i != j) == 1)\n",
    "\n",
    "# [Delivery Process] 03: Consecutive movement of vehicles\n",
    "@constraint(cd_modl, cons_move_del[l = D, k=1:m],\n",
    "    sum(x_ijk[i,l,k] for i=vcat(O_del, D) if i != l) \n",
    "    -sum(x_ijk[l,j,k] for j=vcat(D,O_dum_del) if j != l) \n",
    "    == 0)\n",
    "\n",
    "# [Delivery Process] 04: vehicle enter at dummy cross dock after last delivery\n",
    "@constraint(cd_modl, d_dum_enter[k=1:m],\n",
    "    sum(x_ijk[i,j,k] for i= D for j = O_dum_del) <= 1)\n",
    "\n",
    "# [Delivery Process] 05: vehicle leave cross dock\n",
    "@constraint(cd_modl, d_cd_leave[k=1:m],\n",
    "    sum(x_ijk[i,j,k] for i= O_del for j = D) <= 1)\n",
    "\n",
    "# [Delivery Process] 06: \n",
    "@constraint(cd_modl, d_del_qnt[k=1:m, i = D, j = D; i!=j],\n",
    "    y_i[j] \n",
    "    - y_i[i] \n",
    "    - d_i[j] \n",
    "    + Q \n",
    "    - (Q*(x_ijk[i,j,k] + x_ijk[j,i,k])) \n",
    "    + ((d_i[j]+d_i[i])*x_ijk[j,i,k])\n",
    "    >= 0)\n",
    "\n",
    "# [Delivery Process] 07: \n",
    "@constraint(cd_modl, d_del_qnt2[i = O_del, j = D, k=1:m],\n",
    "    y_i[j]\n",
    "    - x_ijk[i,j,k]*d_i[j]\n",
    "    - (1-x_ijk[i,j,k])*Q\n",
    "    <= 0)\n",
    "\n",
    "# [Delivery Process] 08a: \n",
    "@constraint(cd_modl, del_cap1[i = D],\n",
    "    y_i[i] >= d_i[i] )\n",
    "\n",
    "# [Delivery Process] 08b: \n",
    "@constraint(cd_modl, del_cap2[i = D],\n",
    "    y_i[i] <= Q)\n",
    "\n",
    "# [Delivery Process] 09: track the start of service time of vehicle k at node i\n",
    "@constraint(cd_modl, serv_time_del[i = vcat(O_del, D, O_dum_del), j = vcat(O_del, D, O_dum_del),k= M; i !=j],\n",
    "        t_pick + s_ik[i,k] + t_ij[i,j] - B*(1 - x_ijk[i,j,k]) <= s_ik[j,k]\n",
    ")\n",
    "\n",
    "\n",
    "# [Delivery Process] 10: calculate the tardiness of vehicle arrival at node i\n",
    "@constraint(cd_modl, tard_del[j=vcat(O_del, D, O_dum_del), k=M],\n",
    "    s_ik[j,k] \n",
    "    - b_i[j] \n",
    "    + B*(sum(x_ijk[i,j,k] for i = vcat(O_del, D, O_dum_del) if i !=j) - 1) \n",
    "    <= l_ik[j,k]\n",
    ")\n",
    "\n",
    "\n",
    "\n",
    "# [delivery Process] 10: calculate the tardiness of vehicle arrival at node i\n",
    "# @constraint(cd_modl, del_tard[i = vcat(D, O_dum_del), k=M],\n",
    "#     l_ik[i,k] >= s_ik[i,k] - b_i[i]\n",
    "# )\n",
    "\n",
    "\n",
    "# # [Delivery Process] 10a: the start of servicing node i by vehicle k must be greater than the start of TW\n",
    "# @constraint(cd_modl, del_TW_begin[i = vcat(O_del, D), k = M],\n",
    "#     s_ik[i,k] >= a_i[i])\n",
    "\n",
    "# # [Pick-up Process] 10b: the end of servicing node i by vehicle k must be greater than the end of TW\n",
    "# @constraint(cd_modl, del_TW_end[i = vcat(O_del, D), k = M],\n",
    "#     s_ik[i,k] <= b_i[i])"
   ]
  },
  {
   "cell_type": "code",
   "execution_count": 7,
   "metadata": {},
   "outputs": [
    {
     "data": {
      "text/plain": [
       "4-element Array{ConstraintRef{Model,MathOptInterface.ConstraintIndex{MathOptInterface.ScalarAffineFunction{Float64},MathOptInterface.LessThan{Float64}},ScalarShape},1}:\n",
       " time_hor[1] : 6 x_ijk[5,6,1] + 5 x_ijk[7,6,1] + 2 x_ijk[5,7,1] + 5 x_ijk[6,7,1] + 6 x_ijk[6,8,1] + 2 x_ijk[7,8,1] + t_pick <= 945.0\n",
       " time_hor[2] : 6 x_ijk[5,6,2] + 5 x_ijk[7,6,2] + 2 x_ijk[5,7,2] + 5 x_ijk[6,7,2] + 6 x_ijk[6,8,2] + 2 x_ijk[7,8,2] + t_pick <= 945.0\n",
       " time_hor[3] : 6 x_ijk[5,6,3] + 5 x_ijk[7,6,3] + 2 x_ijk[5,7,3] + 5 x_ijk[6,7,3] + 6 x_ijk[6,8,3] + 2 x_ijk[7,8,3] + t_pick <= 945.0\n",
       " time_hor[4] : 6 x_ijk[5,6,4] + 5 x_ijk[7,6,4] + 2 x_ijk[5,7,4] + 5 x_ijk[6,7,4] + 6 x_ijk[6,8,4] + 2 x_ijk[7,8,4] + t_pick <= 945.0"
      ]
     },
     "execution_count": 7,
     "metadata": {},
     "output_type": "execute_result"
    }
   ],
   "source": [
    "#*****************************************\n",
    "# Constraints\n",
    "#*****************************************\n",
    "\n",
    "# @cross dock:: Connection Between Pickup and Delivery Process (using time)\n",
    "#------------------------------------------------------------\n",
    "\n",
    "# [cross-dock] 01: track time for product collection in the pickup process\n",
    "@constraint(cd_modl, cd_prod_col[k = M],\n",
    "    AT_k[k]\n",
    "    -sum(t_ij[i,j] * x_ijk[i,j,k] for i=vcat(O_dum_pick, P) for j=vcat(P, O_pick) if i != j) >= 0)\n",
    "\n",
    "# [cross-dock] 02: all trucks arrive at the same time at cross-dock\n",
    "@constraint(cd_modl, cd_truck_arr[k = M, k_prime = M; k != k_prime],\n",
    "    AT_k[k] - AT_k[k_prime] == 0)\n",
    "\n",
    "# [cross-dock] 03: total time at the pickup process\n",
    "@constraint(cd_modl, time_pick[k = M],\n",
    "    t_pick - AT_k[k] >= 0)\n",
    "\n",
    "# [cross-dock] 04: total transportation time and processing time does not exceed the planning horizon T_max\n",
    "@constraint(cd_modl, time_hor[k = 1: m],\n",
    "    t_pick + T_o + sum(t_ij[i,j] * x_ijk[i,j,k] for i = vcat(O_del, D) for j = vcat(D, O_dum_del)) - T_max <= 0)\n"
   ]
  },
  {
   "cell_type": "code",
   "execution_count": 8,
   "metadata": {},
   "outputs": [
    {
     "data": {
      "text/latex": [
       "$$ 2 x_ijk_{1,2,1} + 2 x_ijk_{1,2,2} + 2 x_ijk_{1,2,3} + 2 x_ijk_{1,2,4} + 4 x_ijk_{1,3,1} + 4 x_ijk_{1,3,2} + 4 x_ijk_{1,3,3} + 4 x_ijk_{1,3,4} + 5 x_ijk_{2,3,1} + 5 x_ijk_{2,3,2} + 5 x_ijk_{2,3,3} + 5 x_ijk_{2,3,4} + 2 x_ijk_{2,4,1} + 2 x_ijk_{2,4,2} + 2 x_ijk_{2,4,3} + 2 x_ijk_{2,4,4} + 5 x_ijk_{3,2,1} + 5 x_ijk_{3,2,2} + 5 x_ijk_{3,2,3} + 5 x_ijk_{3,2,4} + 4 x_ijk_{3,4,1} + 4 x_ijk_{3,4,2} + 4 x_ijk_{3,4,3} + 4 x_ijk_{3,4,4} + 6 x_ijk_{5,6,1} + 6 x_ijk_{5,6,2} + 6 x_ijk_{5,6,3} + 6 x_ijk_{5,6,4} + 2 x_ijk_{5,7,1} + 2 x_ijk_{5,7,2} + 2 x_ijk_{5,7,3} + 2 x_ijk_{5,7,4} + 5 x_ijk_{6,7,1} + 5 x_ijk_{6,7,2} + 5 x_ijk_{6,7,3} + 5 x_ijk_{6,7,4} + 6 x_ijk_{6,8,1} + 6 x_ijk_{6,8,2} + 6 x_ijk_{6,8,3} + 6 x_ijk_{6,8,4} + 5 x_ijk_{7,6,1} + 5 x_ijk_{7,6,2} + 5 x_ijk_{7,6,3} + 5 x_ijk_{7,6,4} + 2 x_ijk_{7,8,1} + 2 x_ijk_{7,8,2} + 2 x_ijk_{7,8,3} + 2 x_ijk_{7,8,4} + 999 l_ik_{1,1} + 999 l_ik_{1,2} + 999 l_ik_{1,3} + 999 l_ik_{1,4} + 999 l_ik_{2,1} + 999 l_ik_{2,2} + 999 l_ik_{2,3} + 999 l_ik_{2,4} + 999 l_ik_{3,1} + 999 l_ik_{3,2} + 999 l_ik_{3,3} + 999 l_ik_{3,4} + 999 l_ik_{4,1} + 999 l_ik_{4,2} + 999 l_ik_{4,3} + 999 l_ik_{4,4} $$"
      ],
      "text/plain": [
       "2 x_ijk[1,2,1] + 2 x_ijk[1,2,2] + 2 x_ijk[1,2,3] + 2 x_ijk[1,2,4] + 4 x_ijk[1,3,1] + 4 x_ijk[1,3,2] + 4 x_ijk[1,3,3] + 4 x_ijk[1,3,4] + 5 x_ijk[2,3,1] + 5 x_ijk[2,3,2] + 5 x_ijk[2,3,3] + 5 x_ijk[2,3,4] + 2 x_ijk[2,4,1] + 2 x_ijk[2,4,2] + 2 x_ijk[2,4,3] + 2 x_ijk[2,4,4] + 5 x_ijk[3,2,1] + 5 x_ijk[3,2,2] + 5 x_ijk[3,2,3] + 5 x_ijk[3,2,4] + 4 x_ijk[3,4,1] + 4 x_ijk[3,4,2] + 4 x_ijk[3,4,3] + 4 x_ijk[3,4,4] + 6 x_ijk[5,6,1] + 6 x_ijk[5,6,2] + 6 x_ijk[5,6,3] + 6 x_ijk[5,6,4] + 2 x_ijk[5,7,1] + 2 x_ijk[5,7,2] + 2 x_ijk[5,7,3] + 2 x_ijk[5,7,4] + 5 x_ijk[6,7,1] + 5 x_ijk[6,7,2] + 5 x_ijk[6,7,3] + 5 x_ijk[6,7,4] + 6 x_ijk[6,8,1] + 6 x_ijk[6,8,2] + 6 x_ijk[6,8,3] + 6 x_ijk[6,8,4] + 5 x_ijk[7,6,1] + 5 x_ijk[7,6,2] + 5 x_ijk[7,6,3] + 5 x_ijk[7,6,4] + 2 x_ijk[7,8,1] + 2 x_ijk[7,8,2] + 2 x_ijk[7,8,3] + 2 x_ijk[7,8,4] + 999 l_ik[1,1] + 999 l_ik[1,2] + 999 l_ik[1,3] + 999 l_ik[1,4] + 999 l_ik[2,1] + 999 l_ik[2,2] + 999 l_ik[2,3] + 999 l_ik[2,4] + 999 l_ik[3,1] + 999 l_ik[3,2] + 999 l_ik[3,3] + 999 l_ik[3,4] + 999 l_ik[4,1] + 999 l_ik[4,2] + 999 l_ik[4,3] + 999 l_ik[4,4]"
      ]
     },
     "execution_count": 8,
     "metadata": {},
     "output_type": "execute_result"
    }
   ],
   "source": [
    "#****************************************\n",
    "# Objective\n",
    "#*****************************************\n",
    "# minimization problem (convex optimization)\n",
    "\n",
    "# min travel time for pickup process\n",
    "# min travel time for delivery process\n",
    "# min tardiness at customer location\n",
    "\n",
    "@objective(cd_modl, Min, \n",
    "    sum(t_ij[i,j]*x_ijk[i,j,k] for i=vcat(O_dum_pick, P) for j=vcat(P, O_pick) for k=M) \n",
    "    + sum(t_ij[i,j]*x_ijk[i,j,k] for i=vcat(O_del, D) for j=vcat(D, O_dum_del) for k=M)\n",
    "    + sum(B * l_ik[i,k] for i = vcat(O_dum_pick, P, O_pick) for k=M)\n",
    "\n",
    ")"
   ]
  },
  {
   "cell_type": "code",
   "execution_count": 9,
   "metadata": {},
   "outputs": [],
   "source": [
    "optimize!(cd_modl)"
   ]
  },
  {
   "cell_type": "code",
   "execution_count": 10,
   "metadata": {},
   "outputs": [
    {
     "name": "stdout",
     "output_type": "stream",
     "text": [
      "objective_value(cd_modl) = 3025.0\n"
     ]
    },
    {
     "data": {
      "text/plain": [
       "3025.0"
      ]
     },
     "execution_count": 10,
     "metadata": {},
     "output_type": "execute_result"
    }
   ],
   "source": [
    "@show objective_value(cd_modl)"
   ]
  },
  {
   "cell_type": "code",
   "execution_count": null,
   "metadata": {},
   "outputs": [],
   "source": [
    "@show value.(x_ijk);"
   ]
  },
  {
   "cell_type": "code",
   "execution_count": null,
   "metadata": {},
   "outputs": [],
   "source": [
    "@show value.(y_i)"
   ]
  },
  {
   "cell_type": "code",
   "execution_count": null,
   "metadata": {},
   "outputs": [],
   "source": [
    "@show value.(v_ik)"
   ]
  },
  {
   "cell_type": "code",
   "execution_count": null,
   "metadata": {},
   "outputs": [],
   "source": [
    "@show value.(AT_k);"
   ]
  },
  {
   "cell_type": "code",
   "execution_count": null,
   "metadata": {},
   "outputs": [],
   "source": [
    "@show value.(t_pick);"
   ]
  },
  {
   "cell_type": "code",
   "execution_count": 11,
   "metadata": {},
   "outputs": [
    {
     "name": "stdout",
     "output_type": "stream",
     "text": [
      "value.(s_ik) = 2-dimensional DenseAxisArray{Float64,2,...} with index sets:\n",
      "    Dimension 1, [1, 2, 3, 4, 5, 6, 7, 8]\n",
      "    Dimension 2, [1, 2, 3, 4]\n",
      "And data, a 8×4 Array{Float64,2}:\n",
      "  0.0   0.0  0.0  0.0\n",
      "  0.0   0.0  2.0  0.0\n",
      "  0.0   4.0  0.0  0.0\n",
      "  0.0   8.0  4.0  0.0\n",
      "  0.0   0.0  0.0  0.0\n",
      "  0.0  14.0  0.0  0.0\n",
      " 10.0   0.0  0.0  0.0\n",
      " 20.0  28.0  0.0  0.0\n"
     ]
    },
    {
     "data": {
      "text/plain": [
       "2-dimensional DenseAxisArray{Float64,2,...} with index sets:\n",
       "    Dimension 1, [1, 2, 3, 4, 5, 6, 7, 8]\n",
       "    Dimension 2, [1, 2, 3, 4]\n",
       "And data, a 8×4 Array{Float64,2}:\n",
       "  0.0   0.0  0.0  0.0\n",
       "  0.0   0.0  2.0  0.0\n",
       "  0.0   4.0  0.0  0.0\n",
       "  0.0   8.0  4.0  0.0\n",
       "  0.0   0.0  0.0  0.0\n",
       "  0.0  14.0  0.0  0.0\n",
       " 10.0   0.0  0.0  0.0\n",
       " 20.0  28.0  0.0  0.0"
      ]
     },
     "execution_count": 11,
     "metadata": {},
     "output_type": "execute_result"
    }
   ],
   "source": [
    "@show value.(s_ik)"
   ]
  },
  {
   "cell_type": "code",
   "execution_count": 12,
   "metadata": {},
   "outputs": [
    {
     "name": "stdout",
     "output_type": "stream",
     "text": [
      "value.(l_ik) = "
     ]
    },
    {
     "data": {
      "text/plain": [
       "2-dimensional DenseAxisArray{Float64,2,...} with index sets:\n",
       "    Dimension 1, [1, 2, 3, 4, 5, 6, 7, 8]\n",
       "    Dimension 2, [1, 2, 3, 4]\n",
       "And data, a 8×4 Array{Float64,2}:\n",
       " 0.0  0.0  0.0  0.0\n",
       " 0.0  0.0  1.0  0.0\n",
       " 0.0  2.0  0.0  0.0\n",
       " 0.0  0.0  0.0  0.0\n",
       " 0.0  0.0  0.0  0.0\n",
       " 0.0  4.0  0.0  0.0\n",
       " 7.0  0.0  0.0  0.0\n",
       " 0.0  4.0  0.0  0.0"
      ]
     },
     "execution_count": 12,
     "metadata": {},
     "output_type": "execute_result"
    },
    {
     "name": "stdout",
     "output_type": "stream",
     "text": [
      "2-dimensional DenseAxisArray{Float64,2,...} with index sets:\n",
      "    Dimension 1, [1, 2, 3, 4, 5, 6, 7, 8]\n",
      "    Dimension 2, [1, 2, 3, 4]\n",
      "And data, a 8×4 Array{Float64,2}:\n",
      " 0.0  0.0  0.0  0.0\n",
      " 0.0  0.0  1.0  0.0\n",
      " 0.0  2.0  0.0  0.0\n",
      " 0.0  0.0  0.0  0.0\n",
      " 0.0  0.0  0.0  0.0\n",
      " 0.0  4.0  0.0  0.0\n",
      " 7.0  0.0  0.0  0.0\n",
      " 0.0  4.0  0.0  0.0\n"
     ]
    }
   ],
   "source": [
    "@show value.(l_ik)"
   ]
  },
  {
   "cell_type": "code",
   "execution_count": null,
   "metadata": {},
   "outputs": [],
   "source": [
    "# vehicle routing information\n",
    "print( \"veh \\t node \\t arr_time \\n\")\n",
    "\n",
    "temp = 0\n",
    "for k=1:m\n",
    "    for i= 1:n\n",
    "        if value.(s_ik[i,k]) > 0\n",
    "            print(k, \"\\t\", i, \"\\t\", value.(s_ik[i,k]), \"\\n\")\n",
    "        end\n",
    "    end\n",
    "end"
   ]
  },
  {
   "cell_type": "code",
   "execution_count": null,
   "metadata": {},
   "outputs": [],
   "source": [
    "# vehicle routing information\n",
    "print( \"t \\t from \\t to \\t veh \\t tt \\t prod_amt_j \\n\")\n",
    "\n",
    "temp = 0\n",
    "for k=1:m\n",
    "    for i= 1:n\n",
    "        for j=1:n\n",
    "            if value.(x_ijk[i,j,k]) > 0\n",
    "                temp = temp + t_ij[i,j]\n",
    "                print(\"0 \\t\", i, \"\\t\", j, \"\\t\",k, \"\\t\", temp, \"\\t\", value.(y_i[j]), \"\\n\")\n",
    "            end\n",
    "            temp = 0\n",
    "        end\n",
    "    end\n",
    "end"
   ]
  },
  {
   "cell_type": "code",
   "execution_count": null,
   "metadata": {},
   "outputs": [],
   "source": [
    "using DataFrames\n",
    "pick_amt = DataFrame(node =[], amount =[])\n",
    "\n",
    "for k in keys(y_i)\n",
    "    print(k[1])\n",
    "    val = getvalue.(y_i[k[1]])\n",
    "    print(val)\n",
    "    push!(pick_amt, vcat(k[1], val))\n",
    "end\n",
    "\n",
    "pick_amt\n"
   ]
  },
  {
   "cell_type": "code",
   "execution_count": null,
   "metadata": {},
   "outputs": [],
   "source": [
    "mvmt_pick = DataFrame(from=[], to=[], veh=[], status=[])\n",
    "mvmt_del = DataFrame(from=[], to=[], veh=[], status=[])\n",
    "\n",
    "print(\"key \\t\\t from \\t to \\t veh \\t status \\n\")\n",
    "for k in keys(x_ijk)\n",
    "    key = Tuple(k[:])\n",
    "    from_node = key[1]\n",
    "    to_node = key[2]\n",
    "    veh = key[3]\n",
    "    val = getvalue.(x_ijk[key...])\n",
    "    if val > 0\n",
    "        print( \"x\",[key...], \"\\t\", key[1], \"\\t\", key[2] , \"\\t\", key[3] , \"\\t\", val, \"\\n\")\n",
    "    end\n",
    "    \n",
    "    # record the routing of pickup process\n",
    "#     if val > 0 && to_node <= 4\n",
    "#         print(key , \"\\t\", key[1], \"\\t\", key[2] , \"\\t\", key[3] , \"\\t\", val, \"\\n\")\n",
    "#         push!(mvmt_pick, vcat([key...], val))\n",
    "#     end\n",
    "    \n",
    "#     # record the routing of delivery process\n",
    "#     if val > 0 && end_node > 4\n",
    "#         push!(mvmt_del, vcat([key], val))\n",
    "#     end\n",
    "end\n",
    "\n",
    "mvmt_pick"
   ]
  },
  {
   "cell_type": "code",
   "execution_count": null,
   "metadata": {},
   "outputs": [],
   "source": [
    "mvmt_pick"
   ]
  },
  {
   "cell_type": "code",
   "execution_count": null,
   "metadata": {},
   "outputs": [],
   "source": [
    "mvmt_del"
   ]
  },
  {
   "cell_type": "code",
   "execution_count": null,
   "metadata": {},
   "outputs": [],
   "source": [
    "# inialize empty array to capture travel time, tt\n",
    "tt_pick = []\n",
    "prod_pick = []\n",
    "for i=1:nrow(mvmt_pick)\n",
    "    x = Int(mvmt_pick[i,1])\n",
    "    y = Int(mvmt_pick[i,2])\n",
    "    prod_amt = pick_amt[y, 2]\n",
    "    print(x, \"\\t\", y, \"\\t\", prod_amt, \"\\n\")\n",
    "    append!(tt_pick,t_ij[x,y]) ## append data to the tt array\n",
    "    append!(prod_pick,prod_amt)\n",
    "end\n",
    "\n",
    "tt_pick\n",
    "prod_pick\n",
    "insert!(mvmt_pick, 5, tt_pick, :tt)\n",
    "insert!(mvmt_pick, 6, prod_pick, :prod_amt)"
   ]
  },
  {
   "cell_type": "code",
   "execution_count": null,
   "metadata": {},
   "outputs": [],
   "source": [
    "# inialize empty array to capture travel time, tt\n",
    "tt_del = []\n",
    "prod_del = []\n",
    "for i=1:nrow(mvmt_del)\n",
    "    x = Int(mvmt_del[i,1])\n",
    "    y = Int(mvmt_del[i,2])\n",
    "    prod_amt = pick_amt[y, 2]\n",
    "    append!(tt_del,t_ij[x,y]) ## append data to the tt array\n",
    "    append!(prod_del,prod_amt)\n",
    "end\n",
    "\n",
    "tt_del\n",
    "\n",
    "#insert!(mvmt_del, 5, tt_del, :tt)\n",
    "insert!(mvmt_del, 6, prod_del, :prod_del)"
   ]
  },
  {
   "cell_type": "code",
   "execution_count": null,
   "metadata": {},
   "outputs": [],
   "source": [
    "# group by vehicle number and sum the travel time to get the estimated arrival at cross-dock\n",
    "cd_arr_time = combine(groupby(mvmt_pick,  [:veh]) , :tt => sum)"
   ]
  },
  {
   "cell_type": "code",
   "execution_count": null,
   "metadata": {},
   "outputs": [],
   "source": [
    "# group by vehicle number and sum the travel time to get the estimated arrival at cross-dock\n",
    "cd_product = combine(groupby(mvmt_pick,  [:veh]) , :prod_amt => sum)"
   ]
  },
  {
   "cell_type": "code",
   "execution_count": null,
   "metadata": {},
   "outputs": [],
   "source": [
    "join(cd_arr_time, cd_product, on = :veh)"
   ]
  },
  {
   "cell_type": "code",
   "execution_count": null,
   "metadata": {},
   "outputs": [],
   "source": [
    "del_time = combine(groupby(mvmt_del,  [:veh]) , :tt => sum)\n",
    "\n",
    "est_del = []\n",
    "for i= 1:nrow(del_time)\n",
    "    temp = del_time[i, 2] + value.(t_pick)[1]  # add the latest time for pickup process\n",
    "    append!(est_del, temp)\n",
    "end\n",
    "\n",
    "insert!(del_time, 3, est_del, :est_del)"
   ]
  },
  {
   "cell_type": "code",
   "execution_count": null,
   "metadata": {},
   "outputs": [],
   "source": [
    "for t in [0:15:120;]\n",
    "    print(\"\\n\\ncurrent time: \", t)\n",
    "    # check status of each vehicle\n",
    "    \n",
    "    # where is the position of each vehicle?\n",
    "    # is the current time less than t_pick? if yes \"pickup process\"; \"delivery process\" other wise\n",
    "    tt = []\n",
    "    tt_del = []\n",
    "    if t <= value.(t_pick)[1]\n",
    "        print(\"\\nvehicles in PICKUP process\")\n",
    "        for i=1:nrow(cd_arr_time)\n",
    "            curr_arr_time = cd_arr_time[i,2]\n",
    "            update_time = curr_arr_time - t\n",
    "            append!(tt, update_time)\n",
    "        end\n",
    "        \n",
    "        # update time for delivery process\n",
    "        for i=1:nrow(del_time)\n",
    "            curr_del_time = del_time[i,3]\n",
    "            update_time = curr_del_time - t\n",
    "            append!(tt_del, update_time)\n",
    "        end\n",
    "        \n",
    "        # print table\n",
    "        cd_arr_time.est = tt\n",
    "        del_time.est = tt_del\n",
    "    else\n",
    "        print(\"\\nvehicles in DELIVERY process\")\n",
    "    end\n",
    "    print(\"\\n Pickup Process\", cd_arr_time, \"\\n\")\n",
    "    print(\"\\n Delivery Process:\", del_time, \"\\n\")\n",
    "\n",
    "end"
   ]
  },
  {
   "cell_type": "code",
   "execution_count": null,
   "metadata": {},
   "outputs": [],
   "source": [
    "# vehicle status: first digit indicate whether it is used in none(0)/pickup(1)/delivery(2)/both(3); last two digits indicate active(10)/broke(99)/available(00)\n",
    "veh_status = [10, 99, 10, 10]\n",
    "veh_use = [1,3,0,2]"
   ]
  },
  {
   "cell_type": "code",
   "execution_count": null,
   "metadata": {},
   "outputs": [],
   "source": [
    "# current time\n",
    "t = 15\n",
    "\n",
    "veh_break = findall( x -> x == 999, veh_status)\n",
    "num_veh_break = length(veh_break)\n",
    "\n",
    "veh_avl = \n",
    "num_veh_avl = length(m) - num_veh_break"
   ]
  },
  {
   "cell_type": "code",
   "execution_count": null,
   "metadata": {},
   "outputs": [],
   "source": [
    "# updated available veh\n",
    "\n",
    "m2 = [1,3, 4]\n",
    "\n",
    "# ****************************************\n",
    "# Create a JuMP model\n",
    "# ****************************************\n",
    "cd_modl2 = Model(GLPK.Optimizer)"
   ]
  },
  {
   "cell_type": "code",
   "execution_count": null,
   "metadata": {},
   "outputs": [],
   "source": [
    "# ****************************************\n",
    "# Decision variables\n",
    "#*****************************************\n",
    "# x_ijk = 1 if vehicle k travels from node i to node j; 0 otherwise;\n",
    "@variable(cd_modl2, p_ijk[i=1:n, j=1:n, k=1:m], Bin)\n",
    "\n",
    "# y_i = total quantity of collected/delivered products after leaving node i\n",
    "@variable(cd_modl2, y_i[i = 1:n], Int)\n",
    "\n",
    "\n"
   ]
  },
  {
   "cell_type": "code",
   "execution_count": null,
   "metadata": {},
   "outputs": [],
   "source": [
    "#*****************************************\n",
    "# Constraints\n",
    "#*****************************************\n",
    "\n",
    "# Delivery Process\n",
    "#----------------\n",
    "\n",
    "# [Delivery Process] 01: only one vehicle can arrive at a pickup node\n",
    "@constraint(cd_modl2, d_node_entry[j= D],\n",
    "                    sum(p_ijk[i,j,k] for i=vcat(O_del, D) for k=m2 if i != j) == 1)\n",
    "\n",
    "# [Delivery Process] 02: Only one vehicle depart from the pickup node\n",
    "@constraint(cd_modl2, d_node_exit[i= D],\n",
    "                    sum(p_ijk[i,j,k] for j=vcat(D,O_dum_del) for k=m2 if i != j) == 1)\n",
    "\n",
    "# [Delivery Process] 03: Consecutive movement of vehicles\n",
    "@constraint(cd_modl2, cons_move_del[l = D, k=m2],\n",
    "    sum(p_ijk[i,l,k] for i=vcat(O_del, D) if i != l) \n",
    "    -sum(p_ijk[l,j,k] for j=vcat(D,O_dum_del) if j != l) \n",
    "    == 0)\n",
    "\n",
    "# [Delivery Process] 04: vehicle enter at dummy cross dock after last delivery\n",
    "@constraint(cd_modl2, d_dum_enter[k=m2],\n",
    "    sum(p_ijk[i,j,k] for i= D for j = O_dum_del) <= 1)\n",
    "\n",
    "# [Delivery Process] 05: vehicle leave cross dock\n",
    "@constraint(cd_modl2, d_cd_leave[k=m2],\n",
    "    sum(p_ijk[i,j,k] for i= O_del for j = D) <= 1)\n",
    "\n",
    "# [Delivery Process] 06: \n",
    "@constraint(cd_modl2, d_del_qnt[k=m, i = D, j = D; i!=j],\n",
    "    y_i[j] \n",
    "    - y_i[i] \n",
    "    - d_i[j] \n",
    "    + Q \n",
    "    - (Q*(p_ijk[i,j,k] + p_ijk[j,i,k])) \n",
    "    + ((d_i[j]+d_i[i])*p_ijk[j,i,k])\n",
    "    >= 0)\n",
    "\n",
    "# [Delivery Process] 07: \n",
    "@constraint(cd_modl2, d_del_qnt2[i = O_del, j = D, k=m2],\n",
    "    y_i[j]\n",
    "    - p_ijk[i,j,k]*d_i[j]\n",
    "    - (1-p_ijk[i,j,k])*Q\n",
    "    <= 0)"
   ]
  },
  {
   "cell_type": "code",
   "execution_count": null,
   "metadata": {},
   "outputs": [],
   "source": [
    "#*****************************************\n",
    "# Objective\n",
    "#*****************************************\n",
    "\n",
    "@objective(cd_modl2, Min, sum(t_ij[i,j]*p_ijk[i,j,k] for i=vcat(O_del, D) for j=vcat(D, O_dum_del) for k=m2))"
   ]
  },
  {
   "cell_type": "code",
   "execution_count": null,
   "metadata": {},
   "outputs": [],
   "source": [
    "optimize!(cd_modl2)"
   ]
  },
  {
   "cell_type": "code",
   "execution_count": null,
   "metadata": {},
   "outputs": [],
   "source": [
    "# vehicle routing information\n",
    "\n",
    "for k=m\n",
    "    print(\"\\nveh: \", k, \"\\t\")\n",
    "    for i= 1:n\n",
    "        for j=1:n\n",
    "            if value.(p_ijk[i,j,k]) == 1\n",
    "                print(i, \"-->\", j, \"\\t\")\n",
    "            end\n",
    "        end\n",
    "    end\n",
    "end"
   ]
  },
  {
   "cell_type": "code",
   "execution_count": null,
   "metadata": {},
   "outputs": [],
   "source": [
    "@show value.(p_ijk)"
   ]
  },
  {
   "cell_type": "code",
   "execution_count": null,
   "metadata": {},
   "outputs": [],
   "source": [
    "# ****************************************\n",
    "# Create a JuMP model\n",
    "# ****************************************\n",
    "cd_modl3 = Model(GLPK.Optimizer)"
   ]
  },
  {
   "cell_type": "code",
   "execution_count": null,
   "metadata": {},
   "outputs": [],
   "source": [
    "# ****************************************\n",
    "# Decision variables\n",
    "#*****************************************\n",
    "N = [1, 3, 4, 5, 6, 7, 8]\n",
    "m3 = [3]\n",
    "\n",
    "# x_ijk = 1 if vehicle k travels from node i to node j; 0 otherwise;\n",
    "@variable(cd_modl3, x3_ijk[i=N, j=N, k=m3], Bin)\n",
    "\n",
    "# y_i = total quantity of collected/delivered products after leaving node i\n",
    "@variable(cd_modl3, y3_i[i = N], Int)\n",
    "\n",
    "# t_pickup = latest arrival time a cross dock\n",
    "@variable(cd_modl3, t3_pick[pick = 1:o_pick])\n",
    "\n",
    "# AT_k = arrival time of vehicle k at the cross-dock\n",
    "@variable(cd_modl3, AT3_k[k =m3])"
   ]
  },
  {
   "cell_type": "code",
   "execution_count": null,
   "metadata": {},
   "outputs": [],
   "source": [
    "#*****************************************\n",
    "# Constraints\n",
    "#*****************************************\n",
    "\n",
    "# Pick-up Process\n",
    "#----------------\n",
    "P3 = [3]\n",
    "\n",
    "# [Pick-up Process] 01: only one vehicle can arrive at a pickup node\n",
    "@constraint(cd_modl3, p_node_entry[j= P3],\n",
    "                    sum(x3_ijk[i,j,k] for i=vcat(O_dum_pick, P3) for k=m3 if i != j) == 1)\n",
    "\n",
    "#[Pick-up Process] 02: Only one vehicle depart from the pickup node\n",
    "@constraint(cd_modl3, p_node_exit[i= P3],\n",
    "                    sum(x3_ijk[i,j,k] for j=vcat(P3,O_pick) for k=m3 if i != j) == 1)\n",
    "\n",
    "# [Pick-up Process] 03: Consecutive movement of vehicles\n",
    "@constraint(cd_modl3, cons_move_pick[l = P3, k=m3],\n",
    "    sum(x3_ijk[i,l,k] for i=vcat(O_dum_pick, P3) if i != l) \n",
    "    -sum(x3_ijk[l,j,k] for j=vcat(P3,O_pick) if j != l) \n",
    "    == 0)\n",
    "\n",
    "# [Pick-up Process] 04: vehicle leave at dummy cross dock\n",
    "@constraint(cd_modl3, p_dum_leave[i= O_dum_pick, k=m3],\n",
    "    sum(x3_ijk[i,j,k] for j = P3) <= 1)\n",
    "\n",
    "\n",
    "# [Pick-up Process] 05: vehicle that leave at dummy cross dock visit cross dock immdiately after last pickup\n",
    "@constraint(cd_modl3, p_cd_entry[j = O_pick, k=m3],\n",
    "    sum(x3_ijk[i,j,k] for i= P3) <= 1)\n",
    "\n",
    "# [Pick-up Process] 06: \n",
    "@constraint(cd_modl3, p_pick_qnt[i = P3, j = P3,  k=m3; i!=j],\n",
    "    y3_i[j] \n",
    "    - y3_i[i] \n",
    "    - p_i[j] \n",
    "    + Q \n",
    "    - (Q*(x3_ijk[i,j,k] + x3_ijk[j,i,k])) \n",
    "    + ((p_i[j]+p_i[i])*x3_ijk[j,i,k])\n",
    "    >= 0)\n",
    "\n",
    "# [Pick-up Process] 07: \n",
    "@constraint(cd_modl3, p_pick_qnt2[i = O_dum_pick, j = P3, k=m3],\n",
    "    y3_i[j]\n",
    "    - x3_ijk[i,j,k]*p_i[j]\n",
    "    - (1-x3_ijk[i,j,k])*Q\n",
    "    <= 0)\n",
    "\n",
    "# [Pick-up Process] 08a: \n",
    "@constraint(cd_modl3, pick_cap1[i = P3],\n",
    "    y3_i[i] >= p_i[i] )\n",
    "\n",
    "# [Pick-up Process] 08b: \n",
    "@constraint(cd_modl3, pick_cap2[i = P3],\n",
    "    y3_i[i] <= Q)"
   ]
  },
  {
   "cell_type": "code",
   "execution_count": null,
   "metadata": {},
   "outputs": [],
   "source": [
    "#*****************************************\n",
    "# Constraints\n",
    "#*****************************************\n",
    "m3_del  = [1, 3, 4]\n",
    "\n",
    "# Delivery Process\n",
    "#----------------\n",
    "\n",
    "# [Delivery Process] 01: only one vehicle can arrive at a pickup node\n",
    "@constraint(cd_modl3, d_node_entry[j= D],\n",
    "                    sum(x3_ijk[i,j,k] for i=vcat(O_del, D) for k=m3_del if i != j) == 1)\n",
    "\n",
    "# [Delivery Process] 02: Only one vehicle depart from the pickup node\n",
    "@constraint(cd_modl3, d_node_exit[i= D],\n",
    "                    sum(x3_ijk[i,j,k] for j=vcat(D,O_dum_del) for k=m3_del if i != j) == 1)\n",
    "\n",
    "# [Delivery Process] 03: Consecutive movement of vehicles\n",
    "@constraint(cd_modl3, cons_move_del[l = D, k=m3_del],\n",
    "    sum(x3_ijk[i,l,k] for i=vcat(O_del, D) if i != l) \n",
    "    -sum(x3_ijk[l,j,k] for j=vcat(D,O_dum_del) if j != l) \n",
    "    == 0)\n",
    "\n",
    "# [Delivery Process] 04: vehicle enter at dummy cross dock after last delivery\n",
    "@constraint(cd_modl3, d_dum_enter[k=m3_del],\n",
    "    sum(x3_ijk[i,j,k] for i= D for j = O_dum_del) <= 1)\n",
    "\n",
    "# [Delivery Process] 05: vehicle leave cross dock\n",
    "@constraint(cd_modl3, d_cd_leave[k=m3_del],\n",
    "    sum(x3_ijk[i,j,k] for i= O_del for j = D) <= 1)\n",
    "\n",
    "# [Delivery Process] 06: \n",
    "@constraint(cd_modl3, d_del_qnt[i = D, j = D, k=m3_del; i!=j],\n",
    "    y3_i[j] \n",
    "    - y3_i[i] \n",
    "    - d_i[j] \n",
    "    + Q \n",
    "    - (Q*(x3_ijk[i,j,k] + x3_ijk[j,i,k])) \n",
    "    + ((d_i[j]+d_i[i])*x3_ijk[j,i,k])\n",
    "    >= 0)\n",
    "\n",
    "# [Delivery Process] 07: \n",
    "@constraint(cd_modl3, d_del_qnt2[i = O_del, j = D, k=m3_del],\n",
    "    y3_i[j]\n",
    "    - x3_ijk[i,j,k]*d_i[j]\n",
    "    - (1-x3_ijk[i,j,k])*Q\n",
    "    <= 0)"
   ]
  },
  {
   "cell_type": "code",
   "execution_count": null,
   "metadata": {},
   "outputs": [],
   "source": [
    "#*****************************************\n",
    "# Constraints\n",
    "#*****************************************\n",
    "\n",
    "# @cross dock:: Connection Between Pickup and Delivery Process (using time)\n",
    "#------------------------------------------------------------\n",
    "\n",
    "# [cross-dock] 01: track time for product collection in the pickup process\n",
    "@constraint(cd_modl3, cd_prod_col[k = 1: m],\n",
    "    AT3_k[k]\n",
    "    -sum(t_ij[i,j] * x3_ijk[i,j,k] for i=vcat(O_dum_pick, P3) for j=vcat(P3, O_pick) if i != j) >= 0)\n",
    "\n",
    "# [cross-dock] 02: all trucks arrive at the same time at cross-dock\n",
    "@constraint(cd_modl3, cd_truck_arr[k = m3, k_prime = m3; k != k_prime],\n",
    "    AT3_k[k] - AT3_k[k_prime] == 0)\n",
    "\n",
    "# [cross-dock] 03: total time at the pickup process\n",
    "@constraint(cd_modl3, time_pick[k = m3],\n",
    "    t3_pick[o_pick] - AT3_k[k] >= 0)\n",
    "\n",
    "# [cross-dock] 04: total transportation time and processing time does not exceed the planning horizon T_max\n",
    "@constraint(cd_modl3, time_hor[k = 1: m],\n",
    "    t3_pick[o_pick]+ T_o + sum(t_ij[i,j] * x3_ijk[i,j,k] for i = vcat(O_del, D) for j = vcat(D, O_dum_del)) - T_max <= 0)"
   ]
  },
  {
   "cell_type": "code",
   "execution_count": null,
   "metadata": {},
   "outputs": [],
   "source": [
    "#*****************************************\n",
    "# Objective\n",
    "#*****************************************\n",
    "\n",
    "@objective(cd_modl3, Min, \n",
    "    sum(t_ij[i,j]*x3_ijk[i,j,k] for i=vcat(O_dum_pick, P3) for j=vcat(P3, O_pick) for k=m3) \n",
    "    + sum(t_ij[i,j]*x3_ijk[i,j,k] for i=vcat(O_del, D) for j=vcat(D, O_dum_del) for k=m3_del))"
   ]
  },
  {
   "cell_type": "code",
   "execution_count": null,
   "metadata": {},
   "outputs": [],
   "source": [
    "optimize!(cd_modl3)"
   ]
  },
  {
   "cell_type": "code",
   "execution_count": null,
   "metadata": {},
   "outputs": [],
   "source": [
    "@show objective_value(cd_modl3)"
   ]
  },
  {
   "cell_type": "code",
   "execution_count": null,
   "metadata": {},
   "outputs": [],
   "source": [
    "# vehicle routing information\n",
    "\n",
    "for k=m3_del\n",
    "    print(\"\\nveh: \", k, \"\\t\")\n",
    "    for i= 1:n\n",
    "        for j=1:n\n",
    "            if value.(x3_ijk[i,j,k]) == 1\n",
    "                print(i, \"-->\", j, \"\\t\")\n",
    "            end\n",
    "        end\n",
    "    end\n",
    "end"
   ]
  },
  {
   "cell_type": "code",
   "execution_count": null,
   "metadata": {},
   "outputs": [],
   "source": [
    "# vehicle routing information\n",
    "\n",
    "for k=m3\n",
    "    print(\"\\nveh: \", k, \"\\t\")\n",
    "    for i= 1:n\n",
    "        for j=1:n\n",
    "            if value.(x3_ijk[i,j,k]) == 1\n",
    "                print(i, \"-->\", j, \"\\t\")\n",
    "            end\n",
    "        end\n",
    "    end\n",
    "end"
   ]
  }
 ],
 "metadata": {
  "kernelspec": {
   "display_name": "JuliaPro_v1.5.2-1 1.5.2",
   "language": "julia",
   "name": "juliapro_v1.5.2-1-1.5"
  },
  "language_info": {
   "file_extension": ".jl",
   "mimetype": "application/julia",
   "name": "julia",
   "version": "1.5.2"
  }
 },
 "nbformat": 4,
 "nbformat_minor": 4
}
