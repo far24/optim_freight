{
 "cells": [
  {
   "cell_type": "markdown",
   "metadata": {},
   "source": [
    "---\n",
    "title: \"VRPCD with information exchange\"\n",
    "author: \"FA\"\n",
    "date: 2021-01-07\n",
    "tags: [\"VRPCD\", \"realtime\", \"information exchange\"]\n",
    "categories: \"research\"\n",
    "---"
   ]
  },
  {
   "cell_type": "code",
   "execution_count": 77,
   "metadata": {},
   "outputs": [],
   "source": [
    "#*****************************************\n",
    "# Necessary Package\n",
    "#*****************************************\n",
    "using Random\n",
    "using JuMP\n",
    "using LinearAlgebra\n",
    "using GLPK"
   ]
  },
  {
   "cell_type": "code",
   "execution_count": 78,
   "metadata": {},
   "outputs": [
    {
     "name": "stdout",
     "output_type": "stream",
     "text": [
      "[2, 3][6, 7][4][5][1, 2, 3, 4][5, 6, 7, 8][1, 2, 3, 4, 5, 6, 7, 8][\"v1\", \"v2\", \"v3\", \"v4\"]"
     ]
    }
   ],
   "source": [
    "#*****************************************\n",
    "# Network Property\n",
    "#*****************************************\n",
    "# P: set of pickup nodes\n",
    "P = [2,3]\n",
    "\n",
    "# D: set of delivery nodes\n",
    "D = [6,7]\n",
    "\n",
    "# O: cross-dock (assume single cross dock in the network)\n",
    "O_pick = [4]\n",
    "O_del = [5]\n",
    "\n",
    "# O1: dummy cross-dock\n",
    "O_dum_pick = [1]\n",
    "O_dum_del = [8]\n",
    "\n",
    "# pickup nodes\n",
    "N_pickup = vcat(O_dum_pick, P, O_pick)\n",
    "\n",
    "# delivery nodes\n",
    "N_delivery = vcat(O_del, D, O_dum_del)\n",
    "\n",
    "# all nodes\n",
    "N = vcat(O_dum_pick, P, O_pick, O_del, D, O_dum_del)\n",
    "\n",
    "# M: set of available vehicles\n",
    "M = [\"v1\", \"v2\", \"v3\", \"v4\"]\n",
    "\n",
    "# may be we need to position each entity in a graph to find distance/ time automatically\n",
    "print(P,D,O_pick, O_del, N_pickup, N_delivery, N, M)\n"
   ]
  },
  {
   "cell_type": "code",
   "execution_count": 79,
   "metadata": {},
   "outputs": [
    {
     "data": {
      "text/plain": [
       "960"
      ]
     },
     "execution_count": 79,
     "metadata": {},
     "output_type": "execute_result"
    }
   ],
   "source": [
    "#****************************************\n",
    "# parameters\n",
    "#*****************************************\n",
    "# p = number of pickup nodes\n",
    "p = length(P)\n",
    "\n",
    "# d = number of delivery nodes\n",
    "d = length(D)\n",
    "\n",
    "# o = number of cross dock\n",
    "o_pick = length(O_pick)\n",
    "o_del = length(O_del)\n",
    "\n",
    "\n",
    "# p_cd: number of nodes in pickup process (dummy CD + P + CD)\n",
    "p_cd = length(N_pickup)\n",
    "\n",
    "# d_cd: number of nodes in delivery process (CD + P + dummy CD)\n",
    "d_cd = length(N_delivery)\n",
    "\n",
    "# n: total nodes in the network\n",
    "n = length(N)\n",
    "\n",
    "# number of availble vehicles\n",
    "m = length(M)\n",
    "\n",
    "# p_i: quantity of products to be collected at pickup node i; [include product type in future]\n",
    "p_i = [0, 30, 50, 0, 0, 0, 0, 0]\n",
    "\n",
    "# d_i: quantity of products to be delivered at delivery node i; [include product type in future]\n",
    "d_i = [0, 0, 0, 0, 0, 30, 50, 0]\n",
    "\n",
    "# capacity of vehicle (homogenous)\n",
    "Q = 50\n",
    "\n",
    "# Random.seed!(314)\n",
    "# c_ij = the travel time (minutes)/cost between node i and node j; (assuming the cost is the same as the time req.)\n",
    "t_ij= \n",
    "    [0 20 30 0 0 0 0 0;\n",
    "    20 0 50 40 0 0 0 0;\n",
    "    30 50 0 40 0 0 0 0;\n",
    "    0 40 40 0 0 0 0 0;\n",
    "    0 0 0 0 0 70 80 0;\n",
    "    0 0 0 0 20 0 70 60;\n",
    "    0 0 0 0 80 70 0 60;\n",
    "    0 0 0 0 0 60 60 0]\n",
    "\n",
    "# Cross-dock activity time\n",
    "T_o = 15\n",
    "\n",
    "# time horizon (16 hr a day)\n",
    "T_max = 16*60"
   ]
  },
  {
   "cell_type": "code",
   "execution_count": 80,
   "metadata": {},
   "outputs": [
    {
     "data": {
      "text/latex": [
       "$$ \\begin{alignat*}{1}\\text{feasibility}\\\\\n",
       "\\text{Subject to} \\quad\\end{alignat*}\n",
       " $$"
      ],
      "text/plain": [
       "A JuMP Model\n",
       "Feasibility problem with:\n",
       "Variables: 0\n",
       "Model mode: AUTOMATIC\n",
       "CachingOptimizer state: EMPTY_OPTIMIZER\n",
       "Solver name: GLPK"
      ]
     },
     "execution_count": 80,
     "metadata": {},
     "output_type": "execute_result"
    }
   ],
   "source": [
    "# ****************************************\n",
    "# Create a JuMP model\n",
    "# ****************************************\n",
    "cd_modl = Model(GLPK.Optimizer)"
   ]
  },
  {
   "cell_type": "code",
   "execution_count": 81,
   "metadata": {},
   "outputs": [
    {
     "data": {
      "text/plain": [
       "4-element Array{VariableRef,1}:\n",
       " AT_k[1]\n",
       " AT_k[2]\n",
       " AT_k[3]\n",
       " AT_k[4]"
      ]
     },
     "execution_count": 81,
     "metadata": {},
     "output_type": "execute_result"
    }
   ],
   "source": [
    "# ****************************************\n",
    "# Decision variables\n",
    "#*****************************************\n",
    "# x_ijk = 1 if vehicle k travels from node i to node j; 0 otherwise;\n",
    "@variable(cd_modl, x_ijk[i=1:n, j=1:n, k=1:m], Bin)\n",
    "\n",
    "# y_i = total quantity of collected/delivered products after leaving node i\n",
    "@variable(cd_modl, y_i[i = 1:n], Int)\n",
    "\n",
    "# t_pickup = latest arrival time a cross dock\n",
    "@variable(cd_modl, t_pick[pick = 1:o_pick])\n",
    "\n",
    "# AT_k = arrival time of vehicle k at the cross-dock\n",
    "@variable(cd_modl, AT_k[k =1:m])"
   ]
  },
  {
   "cell_type": "code",
   "execution_count": 82,
   "metadata": {},
   "outputs": [
    {
     "data": {
      "text/plain": [
       "1-dimensional DenseAxisArray{ConstraintRef{Model,MathOptInterface.ConstraintIndex{MathOptInterface.ScalarAffineFunction{Float64},MathOptInterface.LessThan{Float64}},ScalarShape},1,...} with index sets:\n",
       "    Dimension 1, [2, 3]\n",
       "And data, a 2-element Array{ConstraintRef{Model,MathOptInterface.ConstraintIndex{MathOptInterface.ScalarAffineFunction{Float64},MathOptInterface.LessThan{Float64}},ScalarShape},1}:\n",
       " pick_cap2[2] : y_i[2] <= 50.0\n",
       " pick_cap2[3] : y_i[3] <= 50.0"
      ]
     },
     "execution_count": 82,
     "metadata": {},
     "output_type": "execute_result"
    }
   ],
   "source": [
    "#*****************************************\n",
    "# Constraints\n",
    "#*****************************************\n",
    "\n",
    "# Pick-up Process\n",
    "#----------------\n",
    "\n",
    "\n",
    "# [Pick-up Process] 01: only one vehicle can arrive at a pickup node\n",
    "@constraint(cd_modl, p_node_entry[j= P],\n",
    "                    sum(x_ijk[i,j,k] for i=vcat(O_dum_pick, P) for k=1:m if i != j) == 1)\n",
    "\n",
    "#[Pick-up Process] 02: Only one vehicle depart from the pickup node\n",
    "@constraint(cd_modl, p_node_exit[i= P],\n",
    "                    sum(x_ijk[i,j,k] for j=vcat(P,O_pick) for k=1:m if i != j) == 1)\n",
    "\n",
    "# [Pick-up Process] 03: Consecutive movement of vehicles\n",
    "@constraint(cd_modl, cons_move_pick[l = P, k=1:m],\n",
    "    sum(x_ijk[i,l,k] for i=vcat(O_dum_pick, P) if i != l) \n",
    "    -sum(x_ijk[l,j,k] for j=vcat(P,O_pick) if j != l) \n",
    "    == 0)\n",
    "\n",
    "# [Pick-up Process] 04: vehicle leave at dummy cross dock\n",
    "@constraint(cd_modl, p_dum_leave[i= O_dum_pick, k=1:m],\n",
    "    sum(x_ijk[i,j,k] for j = P) <= 1)\n",
    "\n",
    "\n",
    "# [Pick-up Process] 05: vehicle that leave at dummy cross dock visit cross dock immdiately after last pickup\n",
    "@constraint(cd_modl, p_cd_entry[j = O_pick, k=1:m],\n",
    "    sum(x_ijk[i,j,k] for i= P) <= 1)\n",
    "\n",
    "# [Pick-up Process] 06: \n",
    "@constraint(cd_modl, p_pick_qnt[i = P, j = P,  k=1:m; i!=j],\n",
    "    y_i[j] \n",
    "    - y_i[i] \n",
    "    - p_i[j] \n",
    "    + Q \n",
    "    - (Q*(x_ijk[i,j,k] + x_ijk[j,i,k])) \n",
    "    + ((p_i[j]+p_i[i])*x_ijk[j,i,k])\n",
    "    >= 0)\n",
    "\n",
    "# [Pick-up Process] 07: \n",
    "@constraint(cd_modl, p_pick_qnt2[i = O_dum_pick, j = P, k=1:m],\n",
    "    y_i[j]\n",
    "    - x_ijk[i,j,k]*p_i[j]\n",
    "    - (1-x_ijk[i,j,k])*Q\n",
    "    <= 0)\n",
    "\n",
    "# [Pick-up Process] 08a: \n",
    "@constraint(cd_modl, pick_cap1[i = P],\n",
    "    y_i[i] >= p_i[i] )\n",
    "\n",
    "# [Pick-up Process] 08b: \n",
    "@constraint(cd_modl, pick_cap2[i = P],\n",
    "    y_i[i] <= Q)"
   ]
  },
  {
   "cell_type": "code",
   "execution_count": 83,
   "metadata": {},
   "outputs": [
    {
     "data": {
      "text/plain": [
       "1-dimensional DenseAxisArray{ConstraintRef{Model,MathOptInterface.ConstraintIndex{MathOptInterface.ScalarAffineFunction{Float64},MathOptInterface.LessThan{Float64}},ScalarShape},1,...} with index sets:\n",
       "    Dimension 1, [6, 7]\n",
       "And data, a 2-element Array{ConstraintRef{Model,MathOptInterface.ConstraintIndex{MathOptInterface.ScalarAffineFunction{Float64},MathOptInterface.LessThan{Float64}},ScalarShape},1}:\n",
       " del_cap2[6] : y_i[6] <= 50.0\n",
       " del_cap2[7] : y_i[7] <= 50.0"
      ]
     },
     "execution_count": 83,
     "metadata": {},
     "output_type": "execute_result"
    }
   ],
   "source": [
    "#*****************************************\n",
    "# Constraints\n",
    "#*****************************************\n",
    "\n",
    "# Delivery Process\n",
    "#----------------\n",
    "\n",
    "# [Delivery Process] 01: only one vehicle can arrive at a pickup node\n",
    "@constraint(cd_modl, d_node_entry[j= D],\n",
    "                    sum(x_ijk[i,j,k] for i=vcat(O_del, D) for k=1:m if i != j) == 1)\n",
    "\n",
    "# [Delivery Process] 02: Only one vehicle depart from the pickup node\n",
    "@constraint(cd_modl, d_node_exit[i= D],\n",
    "                    sum(x_ijk[i,j,k] for j=vcat(D,O_dum_del) for k=1:m if i != j) == 1)\n",
    "\n",
    "# [Delivery Process] 03: Consecutive movement of vehicles\n",
    "@constraint(cd_modl, cons_move_del[l = D, k=1:m],\n",
    "    sum(x_ijk[i,l,k] for i=vcat(O_del, D) if i != l) \n",
    "    -sum(x_ijk[l,j,k] for j=vcat(D,O_dum_del) if j != l) \n",
    "    == 0)\n",
    "\n",
    "# [Delivery Process] 04: vehicle enter at dummy cross dock after last delivery\n",
    "@constraint(cd_modl, d_dum_enter[k=1:m],\n",
    "    sum(x_ijk[i,j,k] for i= D for j = O_dum_del) <= 1)\n",
    "\n",
    "# [Delivery Process] 05: vehicle leave cross dock\n",
    "@constraint(cd_modl, d_cd_leave[k=1:m],\n",
    "    sum(x_ijk[i,j,k] for i= O_del for j = D) <= 1)\n",
    "\n",
    "# [Delivery Process] 06: \n",
    "@constraint(cd_modl, d_del_qnt[k=1:m, i = D, j = D; i!=j],\n",
    "    y_i[j] \n",
    "    - y_i[i] \n",
    "    - d_i[j] \n",
    "    + Q \n",
    "    - (Q*(x_ijk[i,j,k] + x_ijk[j,i,k])) \n",
    "    + ((d_i[j]+d_i[i])*x_ijk[j,i,k])\n",
    "    >= 0)\n",
    "\n",
    "# [Delivery Process] 07: \n",
    "@constraint(cd_modl, d_del_qnt2[i = O_del, j = D, k=1:m],\n",
    "    y_i[j]\n",
    "    - x_ijk[i,j,k]*d_i[j]\n",
    "    - (1-x_ijk[i,j,k])*Q\n",
    "    <= 0)\n",
    "\n",
    "# [Delivery Process] 08a: \n",
    "@constraint(cd_modl, del_cap1[i = D],\n",
    "    y_i[i] >= d_i[i] )\n",
    "\n",
    "# [Delivery Process] 08b: \n",
    "@constraint(cd_modl, del_cap2[i = D],\n",
    "    y_i[i] <= Q)"
   ]
  },
  {
   "cell_type": "code",
   "execution_count": 84,
   "metadata": {},
   "outputs": [
    {
     "data": {
      "text/plain": [
       "4-element Array{ConstraintRef{Model,MathOptInterface.ConstraintIndex{MathOptInterface.ScalarAffineFunction{Float64},MathOptInterface.LessThan{Float64}},ScalarShape},1}:\n",
       " time_hor[1] : 70 x_ijk[5,6,1] + 70 x_ijk[7,6,1] + 80 x_ijk[5,7,1] + 70 x_ijk[6,7,1] + 60 x_ijk[6,8,1] + 60 x_ijk[7,8,1] + t_pick[1] <= 945.0\n",
       " time_hor[2] : 70 x_ijk[5,6,2] + 70 x_ijk[7,6,2] + 80 x_ijk[5,7,2] + 70 x_ijk[6,7,2] + 60 x_ijk[6,8,2] + 60 x_ijk[7,8,2] + t_pick[1] <= 945.0\n",
       " time_hor[3] : 70 x_ijk[5,6,3] + 70 x_ijk[7,6,3] + 80 x_ijk[5,7,3] + 70 x_ijk[6,7,3] + 60 x_ijk[6,8,3] + 60 x_ijk[7,8,3] + t_pick[1] <= 945.0\n",
       " time_hor[4] : 70 x_ijk[5,6,4] + 70 x_ijk[7,6,4] + 80 x_ijk[5,7,4] + 70 x_ijk[6,7,4] + 60 x_ijk[6,8,4] + 60 x_ijk[7,8,4] + t_pick[1] <= 945.0"
      ]
     },
     "execution_count": 84,
     "metadata": {},
     "output_type": "execute_result"
    }
   ],
   "source": [
    "#*****************************************\n",
    "# Constraints\n",
    "#*****************************************\n",
    "\n",
    "# @cross dock:: Connection Between Pickup and Delivery Process (using time)\n",
    "#------------------------------------------------------------\n",
    "\n",
    "# [cross-dock] 01: track time for product collection in the pickup process\n",
    "@constraint(cd_modl, cd_prod_col[k = 1: m],\n",
    "    AT_k[k]\n",
    "    -sum(t_ij[i,j] * x_ijk[i,j,k] for i=vcat(O_dum_pick, P) for j=vcat(P, O_pick) if i != j) >= 0)\n",
    "\n",
    "# [cross-dock] 02: all trucks arrive at the same time at cross-dock\n",
    "@constraint(cd_modl, cd_truck_arr[k = 1: m, k_prime = 1:m; k != k_prime],\n",
    "    AT_k[k] - AT_k[k_prime] == 0)\n",
    "\n",
    "# [cross-dock] 03: total time at the pickup process\n",
    "@constraint(cd_modl, time_pick[k = 1: m],\n",
    "    t_pick[o_pick] - AT_k[k] >= 0)\n",
    "\n",
    "# [cross-dock] 04: total transportation time and processing time does not exceed the planning horizon T_max\n",
    "@constraint(cd_modl, time_hor[k = 1: m],\n",
    "    t_pick[o_pick]+ T_o + sum(t_ij[i,j] * x_ijk[i,j,k] for i = vcat(O_del, D) for j = vcat(D, O_dum_del)) - T_max <= 0)\n"
   ]
  },
  {
   "cell_type": "code",
   "execution_count": 85,
   "metadata": {},
   "outputs": [
    {
     "data": {
      "text/latex": [
       "$$ 20 x_ijk_{1,2,1} + 20 x_ijk_{1,2,2} + 20 x_ijk_{1,2,3} + 20 x_ijk_{1,2,4} + 30 x_ijk_{1,3,1} + 30 x_ijk_{1,3,2} + 30 x_ijk_{1,3,3} + 30 x_ijk_{1,3,4} + 50 x_ijk_{2,3,1} + 50 x_ijk_{2,3,2} + 50 x_ijk_{2,3,3} + 50 x_ijk_{2,3,4} + 40 x_ijk_{2,4,1} + 40 x_ijk_{2,4,2} + 40 x_ijk_{2,4,3} + 40 x_ijk_{2,4,4} + 50 x_ijk_{3,2,1} + 50 x_ijk_{3,2,2} + 50 x_ijk_{3,2,3} + 50 x_ijk_{3,2,4} + 40 x_ijk_{3,4,1} + 40 x_ijk_{3,4,2} + 40 x_ijk_{3,4,3} + 40 x_ijk_{3,4,4} + 70 x_ijk_{5,6,1} + 70 x_ijk_{5,6,2} + 70 x_ijk_{5,6,3} + 70 x_ijk_{5,6,4} + 80 x_ijk_{5,7,1} + 80 x_ijk_{5,7,2} + 80 x_ijk_{5,7,3} + 80 x_ijk_{5,7,4} + 70 x_ijk_{6,7,1} + 70 x_ijk_{6,7,2} + 70 x_ijk_{6,7,3} + 70 x_ijk_{6,7,4} + 60 x_ijk_{6,8,1} + 60 x_ijk_{6,8,2} + 60 x_ijk_{6,8,3} + 60 x_ijk_{6,8,4} + 70 x_ijk_{7,6,1} + 70 x_ijk_{7,6,2} + 70 x_ijk_{7,6,3} + 70 x_ijk_{7,6,4} + 60 x_ijk_{7,8,1} + 60 x_ijk_{7,8,2} + 60 x_ijk_{7,8,3} + 60 x_ijk_{7,8,4} $$"
      ],
      "text/plain": [
       "20 x_ijk[1,2,1] + 20 x_ijk[1,2,2] + 20 x_ijk[1,2,3] + 20 x_ijk[1,2,4] + 30 x_ijk[1,3,1] + 30 x_ijk[1,3,2] + 30 x_ijk[1,3,3] + 30 x_ijk[1,3,4] + 50 x_ijk[2,3,1] + 50 x_ijk[2,3,2] + 50 x_ijk[2,3,3] + 50 x_ijk[2,3,4] + 40 x_ijk[2,4,1] + 40 x_ijk[2,4,2] + 40 x_ijk[2,4,3] + 40 x_ijk[2,4,4] + 50 x_ijk[3,2,1] + 50 x_ijk[3,2,2] + 50 x_ijk[3,2,3] + 50 x_ijk[3,2,4] + 40 x_ijk[3,4,1] + 40 x_ijk[3,4,2] + 40 x_ijk[3,4,3] + 40 x_ijk[3,4,4] + 70 x_ijk[5,6,1] + 70 x_ijk[5,6,2] + 70 x_ijk[5,6,3] + 70 x_ijk[5,6,4] + 80 x_ijk[5,7,1] + 80 x_ijk[5,7,2] + 80 x_ijk[5,7,3] + 80 x_ijk[5,7,4] + 70 x_ijk[6,7,1] + 70 x_ijk[6,7,2] + 70 x_ijk[6,7,3] + 70 x_ijk[6,7,4] + 60 x_ijk[6,8,1] + 60 x_ijk[6,8,2] + 60 x_ijk[6,8,3] + 60 x_ijk[6,8,4] + 70 x_ijk[7,6,1] + 70 x_ijk[7,6,2] + 70 x_ijk[7,6,3] + 70 x_ijk[7,6,4] + 60 x_ijk[7,8,1] + 60 x_ijk[7,8,2] + 60 x_ijk[7,8,3] + 60 x_ijk[7,8,4]"
      ]
     },
     "execution_count": 85,
     "metadata": {},
     "output_type": "execute_result"
    }
   ],
   "source": [
    "#*****************************************\n",
    "# Objective\n",
    "#*****************************************\n",
    "\n",
    "@objective(cd_modl, Min, sum(t_ij[i,j]*x_ijk[i,j,k] for i=vcat(O_dum_pick, P) for j=vcat(P, O_pick) for k=1:m) + sum(t_ij[i,j]*x_ijk[i,j,k] for i=vcat(O_del, D) for j=vcat(D, O_dum_del) for k=1:m))"
   ]
  },
  {
   "cell_type": "code",
   "execution_count": null,
   "metadata": {},
   "outputs": [],
   "source": [
    "print(cd_modl)"
   ]
  },
  {
   "cell_type": "code",
   "execution_count": 87,
   "metadata": {},
   "outputs": [],
   "source": [
    "optimize!(cd_modl)"
   ]
  },
  {
   "cell_type": "code",
   "execution_count": 88,
   "metadata": {},
   "outputs": [
    {
     "name": "stdout",
     "output_type": "stream",
     "text": [
      "objective_value(cd_modl) = 400.0\n"
     ]
    },
    {
     "data": {
      "text/plain": [
       "400.0"
      ]
     },
     "execution_count": 88,
     "metadata": {},
     "output_type": "execute_result"
    }
   ],
   "source": [
    "@show objective_value(cd_modl)"
   ]
  },
  {
   "cell_type": "code",
   "execution_count": null,
   "metadata": {},
   "outputs": [],
   "source": [
    "@show value.(x_ijk);"
   ]
  },
  {
   "cell_type": "code",
   "execution_count": 90,
   "metadata": {},
   "outputs": [
    {
     "name": "stdout",
     "output_type": "stream",
     "text": [
      "value.(y_i) = [0.0, 30.0, 50.0, 0.0, 0.0, 30.0, 50.0, 0.0]\n"
     ]
    },
    {
     "data": {
      "text/plain": [
       "8-element Array{Float64,1}:\n",
       "  0.0\n",
       " 30.0\n",
       " 50.0\n",
       "  0.0\n",
       "  0.0\n",
       " 30.0\n",
       " 50.0\n",
       "  0.0"
      ]
     },
     "execution_count": 90,
     "metadata": {},
     "output_type": "execute_result"
    }
   ],
   "source": [
    "@show value.(y_i);\n",
    "prod_qnt = value.(y_i)"
   ]
  },
  {
   "cell_type": "code",
   "execution_count": 91,
   "metadata": {},
   "outputs": [
    {
     "name": "stdout",
     "output_type": "stream",
     "text": [
      "value.(AT_k) = [70.0, 70.0, 70.0, 70.0]\n"
     ]
    }
   ],
   "source": [
    "@show value.(AT_k);"
   ]
  },
  {
   "cell_type": "code",
   "execution_count": 92,
   "metadata": {},
   "outputs": [
    {
     "name": "stdout",
     "output_type": "stream",
     "text": [
      "value.(t_pick) = [70.0]\n"
     ]
    }
   ],
   "source": [
    "@show value.(t_pick);"
   ]
  },
  {
   "cell_type": "code",
   "execution_count": 99,
   "metadata": {},
   "outputs": [
    {
     "name": "stdout",
     "output_type": "stream",
     "text": [
      "\n",
      "veh: 1\t5-->7\t7-->8\t\n",
      "veh: 2\t1-->3\t3-->4\t5-->6\t6-->8\t\n",
      "veh: 3\t\n",
      "veh: 4\t1-->2\t2-->4\t"
     ]
    }
   ],
   "source": [
    "# vehicle routing information\n",
    "\n",
    "for k=1:m\n",
    "    print(\"\\nveh: \", k, \"\\t\")\n",
    "    for i= 1:n\n",
    "        for j=1:n\n",
    "            if value.(x_ijk[i,j,k]) == 1\n",
    "                print(i, \"-->\", j, \"\\t\")\n",
    "            end\n",
    "        end\n",
    "    end\n",
    "end"
   ]
  },
  {
   "cell_type": "code",
   "execution_count": 109,
   "metadata": {},
   "outputs": [
    {
     "name": "stdout",
     "output_type": "stream",
     "text": [
      "\n",
      "veh: 1\test. arr. time @ CD: 140\n",
      "veh: 2\test. arr. time @ CD: 70est. arr. time @ CD: 200\n",
      "veh: 3\t\n",
      "veh: 4\test. arr. time @ CD: 60"
     ]
    }
   ],
   "source": [
    "# vehicle estimated arrival time at cross dock\n",
    "\n",
    "for k=1:m\n",
    "    print(\"\\nveh: \", k, \"\\t\")\n",
    "    temp = 0\n",
    "    for i=1:n\n",
    "        for j=1:n\n",
    "            if value.(x_ijk[i,j,k]) == 1\n",
    "                temp = temp + t_ij[i,j]\n",
    "                if j == 4 || j==8\n",
    "                    print(\"est. arr. time @ CD: \", temp)\n",
    "                end\n",
    "            end\n",
    "        end\n",
    "    end\n",
    "end"
   ]
  },
  {
   "cell_type": "code",
   "execution_count": 152,
   "metadata": {},
   "outputs": [
    {
     "name": "stdout",
     "output_type": "stream",
     "text": [
      "1\t0.0\n",
      "2\t30.0\n",
      "3\t50.0\n",
      "4\t0.0\n",
      "5\t0.0\n",
      "6\t30.0\n",
      "7\t50.0\n",
      "8\t0.0\n"
     ]
    }
   ],
   "source": [
    "using DataFrames\n",
    "pick_amt = DataFrame(node =[], amount =[])\n",
    "\n",
    "for k in keys(y_i)\n",
    "    val = value.(y_i[k...])\n",
    "    print(k..., \"\\t\")\n",
    "    print(val, \"\\n\")\n",
    "    push!(pick_amt, vcat(k..., val))\n",
    "end\n",
    "\n",
    "# pick_amt\n"
   ]
  },
  {
   "cell_type": "code",
   "execution_count": 176,
   "metadata": {},
   "outputs": [
    {
     "ename": "LoadError",
     "evalue": "iteration is deliberately unsupported for CartesianIndex. Use `I` rather than `I...`, or use `Tuple(I)...`",
     "output_type": "error",
     "traceback": [
      "iteration is deliberately unsupported for CartesianIndex. Use `I` rather than `I...`, or use `Tuple(I)...`",
      "",
      "Stacktrace:",
      " [1] error(::String) at .\\error.jl:33",
      " [2] iterate(::CartesianIndex{3}) at .\\multidimensional.jl:166",
      " [3] copyto!(::Array{Int64,1}, ::CartesianIndex{3}) at .\\abstractarray.jl:733",
      " [4] _collect(::UnitRange{Int64}, ::CartesianIndex{3}, ::Base.HasEltype, ::Base.HasLength) at .\\array.jl:630",
      " [5] collect(::CartesianIndex{3}) at .\\array.jl:624",
      " [6] broadcastable(::CartesianIndex{3}) at .\\broadcast.jl:682",
      " [7] broadcasted(::Type{T} where T, ::CartesianIndex{3}) at .\\broadcast.jl:1255",
      " [8] top-level scope at .\\In[176]:4",
      " [9] include_string(::Function, ::Module, ::String, ::String) at .\\loading.jl:1091"
     ]
    }
   ],
   "source": [
    "movement = DataFrame(x1=[], x2=[], x3=[], x4=[])\n",
    "for k in keys(x_ijk)\n",
    "    #print(k, \"\\t\")\n",
    "    print(getindex.(Tuple.(k), [1 2 3]))\n",
    "end"
   ]
  },
  {
   "cell_type": "code",
   "execution_count": null,
   "metadata": {},
   "outputs": [],
   "source": []
  }
 ],
 "metadata": {
  "kernelspec": {
   "display_name": "JuliaPro_v1.5.2-1 1.5.2",
   "language": "julia",
   "name": "juliapro_v1.5.2-1-1.5"
  },
  "language_info": {
   "file_extension": ".jl",
   "mimetype": "application/julia",
   "name": "julia",
   "version": "1.5.2"
  }
 },
 "nbformat": 4,
 "nbformat_minor": 4
}
