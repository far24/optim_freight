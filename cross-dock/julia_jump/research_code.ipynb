{
 "cells": [
  {
   "cell_type": "markdown",
   "metadata": {},
   "source": [
    "---\n",
    "title: \"VRPCD with information exchange\"\n",
    "author: \"FA\"\n",
    "date: 2021-01-07\n",
    "tags: [\"VRPCD\", \"realtime\", \"information exchange\"]\n",
    "categories: \"research\"\n",
    "---"
   ]
  },
  {
   "cell_type": "code",
   "execution_count": 1,
   "metadata": {},
   "outputs": [],
   "source": [
    "#*****************************************\n",
    "# Necessary Package\n",
    "#*****************************************\n",
    "using Random\n",
    "using JuMP\n",
    "using LinearAlgebra\n",
    "using GLPK"
   ]
  },
  {
   "cell_type": "code",
   "execution_count": 82,
   "metadata": {},
   "outputs": [
    {
     "name": "stdout",
     "output_type": "stream",
     "text": [
      "[2, 3][6, 7][4][5][1, 2, 3, 4][5, 6, 7, 8][1, 2, 3, 4, 5, 6, 7, 8][\"v1\", \"v2\", \"v3\", \"v4\"]"
     ]
    }
   ],
   "source": [
    "#*****************************************\n",
    "# Network Property\n",
    "#*****************************************\n",
    "# P: set of pickup nodes\n",
    "P = [2,3]\n",
    "\n",
    "# D: set of delivery nodes\n",
    "D = [6,7]\n",
    "\n",
    "# O: cross-dock (assume single cross dock in the network)\n",
    "O_pick = [4]\n",
    "O_del = [5]\n",
    "\n",
    "# O1: dummy cross-dock\n",
    "O_dum_pick = [1]\n",
    "O_dum_del = [8]\n",
    "\n",
    "# pickup nodes\n",
    "N_pickup = vcat(O_dum_pick, P, O_pick)\n",
    "\n",
    "# delivery nodes\n",
    "N_delivery = vcat(O_del, D, O_dum_del)\n",
    "\n",
    "# all nodes\n",
    "N = vcat(O_dum_pick, P, O_pick, O_del, D, O_dum_del)\n",
    "\n",
    "# M: set of available vehicles\n",
    "M = [\"v1\", \"v2\", \"v3\", \"v4\"]\n",
    "\n",
    "# may be we need to position each entity in a graph to find distance/ time automatically\n",
    "print(P,D,O_pick, O_del, N_pickup, N_delivery, N, M)\n"
   ]
  },
  {
   "cell_type": "code",
   "execution_count": 83,
   "metadata": {},
   "outputs": [
    {
     "data": {
      "text/plain": [
       "960"
      ]
     },
     "execution_count": 83,
     "metadata": {},
     "output_type": "execute_result"
    }
   ],
   "source": [
    "#****************************************\n",
    "# parameters\n",
    "#*****************************************\n",
    "# p = number of pickup nodes\n",
    "p = length(P)\n",
    "\n",
    "# d = number of delivery nodes\n",
    "d = length(D)\n",
    "\n",
    "# o = number of cross dock\n",
    "o_pick = length(O_pick)\n",
    "o_del = length(O_del)\n",
    "\n",
    "\n",
    "# p_cd: number of nodes in pickup process (dummy CD + P + CD)\n",
    "p_cd = length(N_pickup)\n",
    "\n",
    "# d_cd: number of nodes in delivery process (CD + P + dummy CD)\n",
    "d_cd = length(N_delivery)\n",
    "\n",
    "# n: total nodes in the network\n",
    "n = length(N)\n",
    "\n",
    "# number of availble vehicles\n",
    "m = length(M)\n",
    "\n",
    "# p_i: quantity of products to be collected at pickup node i; [include product type in future]\n",
    "p_i = [0, 30, 50, 0, 0, 0, 0, 0]\n",
    "\n",
    "# d_i: quantity of products to be delivered at delivery node i; [include product type in future]\n",
    "d_i = [0, 0, 0, 0, 0, 30, 50, 0]\n",
    "\n",
    "# capacity of vehicle (homogenous)\n",
    "Q = 50\n",
    "\n",
    "# Random.seed!(314)\n",
    "# c_ij = the travel time (minutes)/cost between node i and node j; (assuming the cost is the same as the time req.)\n",
    "t_ij= \n",
    "    [0 20 30 0 0 0 0 0;\n",
    "    20 0 50 40 0 0 0 0;\n",
    "    30 50 0 40 0 0 0 0;\n",
    "    0 40 40 0 0 0 0 0;\n",
    "    0 0 0 0 0 70 80 0;\n",
    "    0 0 0 0 20 0 70 60;\n",
    "    0 0 0 0 80 70 0 60;\n",
    "    0 0 0 0 0 60 60 0]\n",
    "\n",
    "# Cross-dock activity time\n",
    "T_o = 15\n",
    "\n",
    "# time horizon (16 hr a day)\n",
    "T_max = 16*60"
   ]
  },
  {
   "cell_type": "code",
   "execution_count": 4,
   "metadata": {},
   "outputs": [
    {
     "data": {
      "text/latex": [
       "$$ \\begin{alignat*}{1}\\text{feasibility}\\\\\n",
       "\\text{Subject to} \\quad\\end{alignat*}\n",
       " $$"
      ],
      "text/plain": [
       "A JuMP Model\n",
       "Feasibility problem with:\n",
       "Variables: 0\n",
       "Model mode: AUTOMATIC\n",
       "CachingOptimizer state: EMPTY_OPTIMIZER\n",
       "Solver name: GLPK"
      ]
     },
     "execution_count": 4,
     "metadata": {},
     "output_type": "execute_result"
    }
   ],
   "source": [
    "# ****************************************\n",
    "# Create a JuMP model\n",
    "# ****************************************\n",
    "cd_modl = Model(GLPK.Optimizer)"
   ]
  },
  {
   "cell_type": "code",
   "execution_count": 6,
   "metadata": {},
   "outputs": [
    {
     "data": {
      "text/plain": [
       "1-dimensional DenseAxisArray{ConstraintRef{Model,MathOptInterface.ConstraintIndex{MathOptInterface.ScalarAffineFunction{Float64},MathOptInterface.LessThan{Float64}},ScalarShape},1,...} with index sets:\n",
       "    Dimension 1, [2, 3]\n",
       "And data, a 2-element Array{ConstraintRef{Model,MathOptInterface.ConstraintIndex{MathOptInterface.ScalarAffineFunction{Float64},MathOptInterface.LessThan{Float64}},ScalarShape},1}:\n",
       " pick_cap2[2] : y_i[2] <= 50.0\n",
       " pick_cap2[3] : y_i[3] <= 50.0"
      ]
     },
     "execution_count": 6,
     "metadata": {},
     "output_type": "execute_result"
    }
   ],
   "source": [
    "#*****************************************\n",
    "# Constraints\n",
    "#*****************************************\n",
    "\n",
    "# Pick-up Process\n",
    "#----------------\n",
    "\n",
    "\n",
    "# [Pick-up Process] 01: only one vehicle can arrive at a pickup node\n",
    "@constraint(cd_modl, p_node_entry[j= P],\n",
    "                    sum(x_ijk[i,j,k] for i=vcat(O_dum_pick, P) for k=1:m if i != j) == 1)\n",
    "\n",
    "#[Pick-up Process] 02: Only one vehicle depart from the pickup node\n",
    "@constraint(cd_modl, p_node_exit[i= P],\n",
    "                    sum(x_ijk[i,j,k] for j=vcat(P,O_pick) for k=1:m if i != j) == 1)\n",
    "\n",
    "# [Pick-up Process] 03: Consecutive movement of vehicles\n",
    "@constraint(cd_modl, cons_move_pick[l = P, k=1:m],\n",
    "    sum(x_ijk[i,l,k] for i=vcat(O_dum_pick, P) if i != l) \n",
    "    -sum(x_ijk[l,j,k] for j=vcat(P,O_pick) if j != l) \n",
    "    == 0)\n",
    "\n",
    "# [Pick-up Process] 04: vehicle leave at dummy cross dock\n",
    "@constraint(cd_modl, p_dum_leave[i= O_dum_pick, k=1:m],\n",
    "    sum(x_ijk[i,j,k] for j = P) <= 1)\n",
    "\n",
    "\n",
    "# [Pick-up Process] 05: vehicle that leave at dummy cross dock visit cross dock immdiately after last pickup\n",
    "@constraint(cd_modl, p_cd_entry[j = O_pick, k=1:m],\n",
    "    sum(x_ijk[i,j,k] for i= P) <= 1)\n",
    "\n",
    "# [Pick-up Process] 06: \n",
    "@constraint(cd_modl, p_pick_qnt[i = P, j = P,  k=1:m; i!=j],\n",
    "    y_i[j] \n",
    "    - y_i[i] \n",
    "    - p_i[j] \n",
    "    + Q \n",
    "    - (Q*(x_ijk[i,j,k] + x_ijk[j,i,k])) \n",
    "    + ((p_i[j]+p_i[i])*x_ijk[j,i,k])\n",
    "    >= 0)\n",
    "\n",
    "# [Pick-up Process] 07: \n",
    "@constraint(cd_modl, p_pick_qnt2[i = O_dum_pick, j = P, k=1:m],\n",
    "    y_i[j]\n",
    "    - x_ijk[i,j,k]*p_i[j]\n",
    "    - (1-x_ijk[i,j,k])*Q\n",
    "    <= 0)\n",
    "\n",
    "# [Pick-up Process] 08a: \n",
    "@constraint(cd_modl, pick_cap1[i = P],\n",
    "    y_i[i] >= p_i[i] )\n",
    "\n",
    "# [Pick-up Process] 08b: \n",
    "@constraint(cd_modl, pick_cap2[i = P],\n",
    "    y_i[i] <= Q)"
   ]
  },
  {
   "cell_type": "code",
   "execution_count": 7,
   "metadata": {},
   "outputs": [
    {
     "data": {
      "text/plain": [
       "1-dimensional DenseAxisArray{ConstraintRef{Model,MathOptInterface.ConstraintIndex{MathOptInterface.ScalarAffineFunction{Float64},MathOptInterface.LessThan{Float64}},ScalarShape},1,...} with index sets:\n",
       "    Dimension 1, [6, 7]\n",
       "And data, a 2-element Array{ConstraintRef{Model,MathOptInterface.ConstraintIndex{MathOptInterface.ScalarAffineFunction{Float64},MathOptInterface.LessThan{Float64}},ScalarShape},1}:\n",
       " del_cap2[6] : y_i[6] <= 50.0\n",
       " del_cap2[7] : y_i[7] <= 50.0"
      ]
     },
     "execution_count": 7,
     "metadata": {},
     "output_type": "execute_result"
    }
   ],
   "source": [
    "#*****************************************\n",
    "# Constraints\n",
    "#*****************************************\n",
    "\n",
    "# Delivery Process\n",
    "#----------------\n",
    "\n",
    "# [Delivery Process] 01: only one vehicle can arrive at a pickup node\n",
    "@constraint(cd_modl, d_node_entry[j= D],\n",
    "                    sum(x_ijk[i,j,k] for i=vcat(O_del, D) for k=1:m if i != j) == 1)\n",
    "\n",
    "# [Delivery Process] 02: Only one vehicle depart from the pickup node\n",
    "@constraint(cd_modl, d_node_exit[i= D],\n",
    "                    sum(x_ijk[i,j,k] for j=vcat(D,O_dum_del) for k=1:m if i != j) == 1)\n",
    "\n",
    "# [Delivery Process] 03: Consecutive movement of vehicles\n",
    "@constraint(cd_modl, cons_move_del[l = D, k=1:m],\n",
    "    sum(x_ijk[i,l,k] for i=vcat(O_del, D) if i != l) \n",
    "    -sum(x_ijk[l,j,k] for j=vcat(D,O_dum_del) if j != l) \n",
    "    == 0)\n",
    "\n",
    "# [Delivery Process] 04: vehicle enter at dummy cross dock after last delivery\n",
    "@constraint(cd_modl, d_dum_enter[k=1:m],\n",
    "    sum(x_ijk[i,j,k] for i= D for j = O_dum_del) <= 1)\n",
    "\n",
    "# [Delivery Process] 05: vehicle leave cross dock\n",
    "@constraint(cd_modl, d_cd_leave[k=1:m],\n",
    "    sum(x_ijk[i,j,k] for i= O_del for j = D) <= 1)\n",
    "\n",
    "# [Delivery Process] 06: \n",
    "@constraint(cd_modl, d_del_qnt[k=1:m, i = D, j = D; i!=j],\n",
    "    y_i[j] \n",
    "    - y_i[i] \n",
    "    - d_i[j] \n",
    "    + Q \n",
    "    - (Q*(x_ijk[i,j,k] + x_ijk[j,i,k])) \n",
    "    + ((d_i[j]+d_i[i])*x_ijk[j,i,k])\n",
    "    >= 0)\n",
    "\n",
    "# [Delivery Process] 07: \n",
    "@constraint(cd_modl, d_del_qnt2[i = O_del, j = D, k=1:m],\n",
    "    y_i[j]\n",
    "    - x_ijk[i,j,k]*d_i[j]\n",
    "    - (1-x_ijk[i,j,k])*Q\n",
    "    <= 0)\n",
    "\n",
    "# [Delivery Process] 08a: \n",
    "@constraint(cd_modl, del_cap1[i = D],\n",
    "    y_i[i] >= d_i[i] )\n",
    "\n",
    "# [Delivery Process] 08b: \n",
    "@constraint(cd_modl, del_cap2[i = D],\n",
    "    y_i[i] <= Q)"
   ]
  },
  {
   "cell_type": "code",
   "execution_count": 8,
   "metadata": {},
   "outputs": [
    {
     "data": {
      "text/plain": [
       "4-element Array{ConstraintRef{Model,MathOptInterface.ConstraintIndex{MathOptInterface.ScalarAffineFunction{Float64},MathOptInterface.LessThan{Float64}},ScalarShape},1}:\n",
       " time_hor[1] : 70 x_ijk[5,6,1] + 70 x_ijk[7,6,1] + 80 x_ijk[5,7,1] + 70 x_ijk[6,7,1] + 60 x_ijk[6,8,1] + 60 x_ijk[7,8,1] + t_pick[1] <= 945.0\n",
       " time_hor[2] : 70 x_ijk[5,6,2] + 70 x_ijk[7,6,2] + 80 x_ijk[5,7,2] + 70 x_ijk[6,7,2] + 60 x_ijk[6,8,2] + 60 x_ijk[7,8,2] + t_pick[1] <= 945.0\n",
       " time_hor[3] : 70 x_ijk[5,6,3] + 70 x_ijk[7,6,3] + 80 x_ijk[5,7,3] + 70 x_ijk[6,7,3] + 60 x_ijk[6,8,3] + 60 x_ijk[7,8,3] + t_pick[1] <= 945.0\n",
       " time_hor[4] : 70 x_ijk[5,6,4] + 70 x_ijk[7,6,4] + 80 x_ijk[5,7,4] + 70 x_ijk[6,7,4] + 60 x_ijk[6,8,4] + 60 x_ijk[7,8,4] + t_pick[1] <= 945.0"
      ]
     },
     "execution_count": 8,
     "metadata": {},
     "output_type": "execute_result"
    }
   ],
   "source": [
    "#*****************************************\n",
    "# Constraints\n",
    "#*****************************************\n",
    "\n",
    "# @cross dock:: Connection Between Pickup and Delivery Process (using time)\n",
    "#------------------------------------------------------------\n",
    "\n",
    "# [cross-dock] 01: track time for product collection in the pickup process\n",
    "@constraint(cd_modl, cd_prod_col[k = 1: m],\n",
    "    AT_k[k]\n",
    "    -sum(t_ij[i,j] * x_ijk[i,j,k] for i=vcat(O_dum_pick, P) for j=vcat(P, O_pick) if i != j) >= 0)\n",
    "\n",
    "# [cross-dock] 02: all trucks arrive at the same time at cross-dock\n",
    "@constraint(cd_modl, cd_truck_arr[k = 1: m, k_prime = 1:m; k != k_prime],\n",
    "    AT_k[k] - AT_k[k_prime] == 0)\n",
    "\n",
    "# [cross-dock] 03: total time at the pickup process\n",
    "@constraint(cd_modl, time_pick[k = 1: m],\n",
    "    t_pick[o_pick] - AT_k[k] >= 0)\n",
    "\n",
    "# [cross-dock] 04: total transportation time and processing time does not exceed the planning horizon T_max\n",
    "@constraint(cd_modl, time_hor[k = 1: m],\n",
    "    t_pick[o_pick]+ T_o + sum(t_ij[i,j] * x_ijk[i,j,k] for i = vcat(O_del, D) for j = vcat(D, O_dum_del)) - T_max <= 0)\n"
   ]
  },
  {
   "cell_type": "code",
   "execution_count": 9,
   "metadata": {},
   "outputs": [
    {
     "data": {
      "text/latex": [
       "$$ 20 x_ijk_{1,2,1} + 20 x_ijk_{1,2,2} + 20 x_ijk_{1,2,3} + 20 x_ijk_{1,2,4} + 30 x_ijk_{1,3,1} + 30 x_ijk_{1,3,2} + 30 x_ijk_{1,3,3} + 30 x_ijk_{1,3,4} + 50 x_ijk_{2,3,1} + 50 x_ijk_{2,3,2} + 50 x_ijk_{2,3,3} + 50 x_ijk_{2,3,4} + 40 x_ijk_{2,4,1} + 40 x_ijk_{2,4,2} + 40 x_ijk_{2,4,3} + 40 x_ijk_{2,4,4} + 50 x_ijk_{3,2,1} + 50 x_ijk_{3,2,2} + 50 x_ijk_{3,2,3} + 50 x_ijk_{3,2,4} + 40 x_ijk_{3,4,1} + 40 x_ijk_{3,4,2} + 40 x_ijk_{3,4,3} + 40 x_ijk_{3,4,4} + 70 x_ijk_{5,6,1} + 70 x_ijk_{5,6,2} + 70 x_ijk_{5,6,3} + 70 x_ijk_{5,6,4} + 80 x_ijk_{5,7,1} + 80 x_ijk_{5,7,2} + 80 x_ijk_{5,7,3} + 80 x_ijk_{5,7,4} + 70 x_ijk_{6,7,1} + 70 x_ijk_{6,7,2} + 70 x_ijk_{6,7,3} + 70 x_ijk_{6,7,4} + 60 x_ijk_{6,8,1} + 60 x_ijk_{6,8,2} + 60 x_ijk_{6,8,3} + 60 x_ijk_{6,8,4} + 70 x_ijk_{7,6,1} + 70 x_ijk_{7,6,2} + 70 x_ijk_{7,6,3} + 70 x_ijk_{7,6,4} + 60 x_ijk_{7,8,1} + 60 x_ijk_{7,8,2} + 60 x_ijk_{7,8,3} + 60 x_ijk_{7,8,4} $$"
      ],
      "text/plain": [
       "20 x_ijk[1,2,1] + 20 x_ijk[1,2,2] + 20 x_ijk[1,2,3] + 20 x_ijk[1,2,4] + 30 x_ijk[1,3,1] + 30 x_ijk[1,3,2] + 30 x_ijk[1,3,3] + 30 x_ijk[1,3,4] + 50 x_ijk[2,3,1] + 50 x_ijk[2,3,2] + 50 x_ijk[2,3,3] + 50 x_ijk[2,3,4] + 40 x_ijk[2,4,1] + 40 x_ijk[2,4,2] + 40 x_ijk[2,4,3] + 40 x_ijk[2,4,4] + 50 x_ijk[3,2,1] + 50 x_ijk[3,2,2] + 50 x_ijk[3,2,3] + 50 x_ijk[3,2,4] + 40 x_ijk[3,4,1] + 40 x_ijk[3,4,2] + 40 x_ijk[3,4,3] + 40 x_ijk[3,4,4] + 70 x_ijk[5,6,1] + 70 x_ijk[5,6,2] + 70 x_ijk[5,6,3] + 70 x_ijk[5,6,4] + 80 x_ijk[5,7,1] + 80 x_ijk[5,7,2] + 80 x_ijk[5,7,3] + 80 x_ijk[5,7,4] + 70 x_ijk[6,7,1] + 70 x_ijk[6,7,2] + 70 x_ijk[6,7,3] + 70 x_ijk[6,7,4] + 60 x_ijk[6,8,1] + 60 x_ijk[6,8,2] + 60 x_ijk[6,8,3] + 60 x_ijk[6,8,4] + 70 x_ijk[7,6,1] + 70 x_ijk[7,6,2] + 70 x_ijk[7,6,3] + 70 x_ijk[7,6,4] + 60 x_ijk[7,8,1] + 60 x_ijk[7,8,2] + 60 x_ijk[7,8,3] + 60 x_ijk[7,8,4]"
      ]
     },
     "execution_count": 9,
     "metadata": {},
     "output_type": "execute_result"
    }
   ],
   "source": [
    "#*****************************************\n",
    "# Objective\n",
    "#*****************************************\n",
    "\n",
    "@objective(cd_modl, Min, sum(t_ij[i,j]*x_ijk[i,j,k] for i=vcat(O_dum_pick, P) for j=vcat(P, O_pick) for k=1:m) + sum(t_ij[i,j]*x_ijk[i,j,k] for i=vcat(O_del, D) for j=vcat(D, O_dum_del) for k=1:m))"
   ]
  },
  {
   "cell_type": "code",
   "execution_count": null,
   "metadata": {},
   "outputs": [],
   "source": [
    "print(cd_modl)"
   ]
  },
  {
   "cell_type": "code",
   "execution_count": 11,
   "metadata": {},
   "outputs": [],
   "source": [
    "optimize!(cd_modl)"
   ]
  },
  {
   "cell_type": "code",
   "execution_count": 12,
   "metadata": {},
   "outputs": [
    {
     "name": "stdout",
     "output_type": "stream",
     "text": [
      "objective_value(cd_modl) = 400.0\n"
     ]
    },
    {
     "data": {
      "text/plain": [
       "400.0"
      ]
     },
     "execution_count": 12,
     "metadata": {},
     "output_type": "execute_result"
    }
   ],
   "source": [
    "@show objective_value(cd_modl)"
   ]
  },
  {
   "cell_type": "code",
   "execution_count": 13,
   "metadata": {},
   "outputs": [
    {
     "name": "stdout",
     "output_type": "stream",
     "text": [
      "value.(x_ijk) = [0.0 0.0 0.0 0.0 0.0 0.0 0.0 0.0; 0.0 0.0 0.0 0.0 0.0 0.0 0.0 0.0; 0.0 0.0 0.0 0.0 0.0 0.0 0.0 0.0; 0.0 0.0 0.0 0.0 0.0 0.0 0.0 0.0; 0.0 0.0 0.0 0.0 0.0 0.0 1.0 0.0; 0.0 0.0 0.0 0.0 0.0 0.0 0.0 0.0; 0.0 0.0 0.0 0.0 0.0 0.0 0.0 1.0; 0.0 0.0 0.0 0.0 0.0 0.0 0.0 0.0]\n",
      "\n",
      "[0.0 0.0 1.0 0.0 0.0 0.0 0.0 0.0; 0.0 0.0 0.0 0.0 0.0 0.0 0.0 0.0; 0.0 0.0 0.0 1.0 0.0 0.0 0.0 0.0; 0.0 0.0 0.0 0.0 0.0 0.0 0.0 0.0; 0.0 0.0 0.0 0.0 0.0 1.0 0.0 0.0; 0.0 0.0 0.0 0.0 0.0 0.0 0.0 1.0; 0.0 0.0 0.0 0.0 0.0 0.0 0.0 0.0; 0.0 0.0 0.0 0.0 0.0 0.0 0.0 0.0]\n",
      "\n",
      "[0.0 0.0 0.0 0.0 0.0 0.0 0.0 0.0; 0.0 0.0 0.0 0.0 0.0 0.0 0.0 0.0; 0.0 0.0 0.0 0.0 0.0 0.0 0.0 0.0; 0.0 0.0 0.0 0.0 0.0 0.0 0.0 0.0; 0.0 0.0 0.0 0.0 0.0 0.0 0.0 0.0; 0.0 0.0 0.0 0.0 0.0 0.0 0.0 0.0; 0.0 0.0 0.0 0.0 0.0 0.0 0.0 0.0; 0.0 0.0 0.0 0.0 0.0 0.0 0.0 0.0]\n",
      "\n",
      "[0.0 1.0 0.0 0.0 0.0 0.0 0.0 0.0; 0.0 0.0 0.0 1.0 0.0 0.0 0.0 0.0; 0.0 0.0 0.0 0.0 0.0 0.0 0.0 0.0; 0.0 0.0 0.0 0.0 0.0 0.0 0.0 0.0; 0.0 0.0 0.0 0.0 0.0 0.0 0.0 0.0; 0.0 0.0 0.0 0.0 0.0 0.0 0.0 0.0; 0.0 0.0 0.0 0.0 0.0 0.0 0.0 0.0; 0.0 0.0 0.0 0.0 0.0 0.0 0.0 0.0]\n"
     ]
    }
   ],
   "source": [
    "@show value.(x_ijk);"
   ]
  },
  {
   "cell_type": "code",
   "execution_count": 14,
   "metadata": {},
   "outputs": [
    {
     "name": "stdout",
     "output_type": "stream",
     "text": [
      "value.(y_i) = [0.0, 30.0, 50.0, 0.0, 0.0, 30.0, 50.0, 0.0]\n"
     ]
    },
    {
     "data": {
      "text/plain": [
       "8-element Array{Float64,1}:\n",
       "  0.0\n",
       " 30.0\n",
       " 50.0\n",
       "  0.0\n",
       "  0.0\n",
       " 30.0\n",
       " 50.0\n",
       "  0.0"
      ]
     },
     "execution_count": 14,
     "metadata": {},
     "output_type": "execute_result"
    }
   ],
   "source": [
    "@show value.(y_i);\n",
    "prod_qnt = value.(y_i)"
   ]
  },
  {
   "cell_type": "code",
   "execution_count": 15,
   "metadata": {},
   "outputs": [
    {
     "name": "stdout",
     "output_type": "stream",
     "text": [
      "value.(AT_k) = [70.0, 70.0, 70.0, 70.0]\n"
     ]
    }
   ],
   "source": [
    "@show value.(AT_k);"
   ]
  },
  {
   "cell_type": "code",
   "execution_count": 16,
   "metadata": {},
   "outputs": [
    {
     "name": "stdout",
     "output_type": "stream",
     "text": [
      "value.(t_pick) = [70.0]\n"
     ]
    }
   ],
   "source": [
    "@show value.(t_pick);"
   ]
  },
  {
   "cell_type": "code",
   "execution_count": 17,
   "metadata": {},
   "outputs": [
    {
     "name": "stdout",
     "output_type": "stream",
     "text": [
      "\n",
      "veh: 1\t5-->7\t7-->8\t\n",
      "veh: 2\t1-->3\t3-->4\t5-->6\t6-->8\t\n",
      "veh: 3\t\n",
      "veh: 4\t1-->2\t2-->4\t"
     ]
    }
   ],
   "source": [
    "# vehicle routing information\n",
    "\n",
    "for k=1:m\n",
    "    print(\"\\nveh: \", k, \"\\t\")\n",
    "    for i= 1:n\n",
    "        for j=1:n\n",
    "            if value.(x_ijk[i,j,k]) == 1\n",
    "                print(i, \"-->\", j, \"\\t\")\n",
    "            end\n",
    "        end\n",
    "    end\n",
    "end"
   ]
  },
  {
   "cell_type": "code",
   "execution_count": 18,
   "metadata": {},
   "outputs": [
    {
     "name": "stdout",
     "output_type": "stream",
     "text": [
      "\n",
      "veh: 1\test. arr. time @ CD: 140\n",
      "veh: 2\test. arr. time @ CD: 70est. arr. time @ CD: 200\n",
      "veh: 3\t\n",
      "veh: 4\test. arr. time @ CD: 60"
     ]
    }
   ],
   "source": [
    "# vehicle estimated arrival time at cross dock\n",
    "\n",
    "for k=1:m\n",
    "    print(\"\\nveh: \", k, \"\\t\")\n",
    "    temp = 0\n",
    "    for i=1:n\n",
    "        for j=1:n\n",
    "            if value.(x_ijk[i,j,k]) == 1\n",
    "                temp = temp + t_ij[i,j]\n",
    "                if j == 4 || j==8\n",
    "                    print(\"est. arr. time @ CD: \", temp)\n",
    "                end\n",
    "            end\n",
    "        end\n",
    "    end\n",
    "end"
   ]
  },
  {
   "cell_type": "code",
   "execution_count": 19,
   "metadata": {},
   "outputs": [
    {
     "data": {
      "text/html": [
       "<table class=\"data-frame\"><thead><tr><th></th><th>node</th><th>amount</th></tr><tr><th></th><th>Any</th><th>Any</th></tr></thead><tbody><p>8 rows × 2 columns</p><tr><th>1</th><td>1.0</td><td>0.0</td></tr><tr><th>2</th><td>2.0</td><td>30.0</td></tr><tr><th>3</th><td>3.0</td><td>50.0</td></tr><tr><th>4</th><td>4.0</td><td>0.0</td></tr><tr><th>5</th><td>5.0</td><td>0.0</td></tr><tr><th>6</th><td>6.0</td><td>30.0</td></tr><tr><th>7</th><td>7.0</td><td>50.0</td></tr><tr><th>8</th><td>8.0</td><td>0.0</td></tr></tbody></table>"
      ],
      "text/latex": [
       "\\begin{tabular}{r|cc}\n",
       "\t& node & amount\\\\\n",
       "\t\\hline\n",
       "\t& Any & Any\\\\\n",
       "\t\\hline\n",
       "\t1 & 1.0 & 0.0 \\\\\n",
       "\t2 & 2.0 & 30.0 \\\\\n",
       "\t3 & 3.0 & 50.0 \\\\\n",
       "\t4 & 4.0 & 0.0 \\\\\n",
       "\t5 & 5.0 & 0.0 \\\\\n",
       "\t6 & 6.0 & 30.0 \\\\\n",
       "\t7 & 7.0 & 50.0 \\\\\n",
       "\t8 & 8.0 & 0.0 \\\\\n",
       "\\end{tabular}\n"
      ],
      "text/plain": [
       "8×2 DataFrame\n",
       "│ Row │ node │ amount │\n",
       "│     │ \u001b[90mAny\u001b[39m  │ \u001b[90mAny\u001b[39m    │\n",
       "├─────┼──────┼────────┤\n",
       "│ 1   │ 1.0  │ 0.0    │\n",
       "│ 2   │ 2.0  │ 30.0   │\n",
       "│ 3   │ 3.0  │ 50.0   │\n",
       "│ 4   │ 4.0  │ 0.0    │\n",
       "│ 5   │ 5.0  │ 0.0    │\n",
       "│ 6   │ 6.0  │ 30.0   │\n",
       "│ 7   │ 7.0  │ 50.0   │\n",
       "│ 8   │ 8.0  │ 0.0    │"
      ]
     },
     "execution_count": 19,
     "metadata": {},
     "output_type": "execute_result"
    }
   ],
   "source": [
    "using DataFrames\n",
    "pick_amt = DataFrame(node =[], amount =[])\n",
    "\n",
    "for k in keys(y_i)\n",
    "    val = value.(y_i[k...])\n",
    "    push!(pick_amt, vcat(k..., val))\n",
    "end\n",
    "\n",
    "pick_amt\n"
   ]
  },
  {
   "cell_type": "code",
   "execution_count": 39,
   "metadata": {},
   "outputs": [],
   "source": [
    "mvmt_pick = DataFrame(from=[], to=[], veh=[], status=[])\n",
    "mvmt_del = DataFrame(from=[], to=[], veh=[], status=[])\n",
    "\n",
    "for k in keys(x_ijk)\n",
    "    val = getvalue.(x_ijk[k])\n",
    "    #print([Tuple(k)...][2]) # vehicles end node of a movement\n",
    "    end_node = [Tuple(k)...][2]\n",
    "    \n",
    "    # record the routing of pickup process\n",
    "    if val > 0 && end_node <= 4\n",
    "        push!(mvmt_pick, vcat([Tuple(k)...], val))\n",
    "    end\n",
    "    \n",
    "    # record the routing of delivery process\n",
    "    if val > 0 && end_node > 4\n",
    "        push!(mvmt_del, vcat([Tuple(k)...], val))\n",
    "    end\n",
    "end"
   ]
  },
  {
   "cell_type": "code",
   "execution_count": 40,
   "metadata": {},
   "outputs": [
    {
     "data": {
      "text/html": [
       "<table class=\"data-frame\"><thead><tr><th></th><th>from</th><th>to</th><th>veh</th><th>status</th></tr><tr><th></th><th>Any</th><th>Any</th><th>Any</th><th>Any</th></tr></thead><tbody><p>4 rows × 4 columns</p><tr><th>1</th><td>1.0</td><td>3.0</td><td>2.0</td><td>1.0</td></tr><tr><th>2</th><td>3.0</td><td>4.0</td><td>2.0</td><td>1.0</td></tr><tr><th>3</th><td>1.0</td><td>2.0</td><td>4.0</td><td>1.0</td></tr><tr><th>4</th><td>2.0</td><td>4.0</td><td>4.0</td><td>1.0</td></tr></tbody></table>"
      ],
      "text/latex": [
       "\\begin{tabular}{r|cccc}\n",
       "\t& from & to & veh & status\\\\\n",
       "\t\\hline\n",
       "\t& Any & Any & Any & Any\\\\\n",
       "\t\\hline\n",
       "\t1 & 1.0 & 3.0 & 2.0 & 1.0 \\\\\n",
       "\t2 & 3.0 & 4.0 & 2.0 & 1.0 \\\\\n",
       "\t3 & 1.0 & 2.0 & 4.0 & 1.0 \\\\\n",
       "\t4 & 2.0 & 4.0 & 4.0 & 1.0 \\\\\n",
       "\\end{tabular}\n"
      ],
      "text/plain": [
       "4×4 DataFrame\n",
       "│ Row │ from │ to  │ veh │ status │\n",
       "│     │ \u001b[90mAny\u001b[39m  │ \u001b[90mAny\u001b[39m │ \u001b[90mAny\u001b[39m │ \u001b[90mAny\u001b[39m    │\n",
       "├─────┼──────┼─────┼─────┼────────┤\n",
       "│ 1   │ 1.0  │ 3.0 │ 2.0 │ 1.0    │\n",
       "│ 2   │ 3.0  │ 4.0 │ 2.0 │ 1.0    │\n",
       "│ 3   │ 1.0  │ 2.0 │ 4.0 │ 1.0    │\n",
       "│ 4   │ 2.0  │ 4.0 │ 4.0 │ 1.0    │"
      ]
     },
     "execution_count": 40,
     "metadata": {},
     "output_type": "execute_result"
    }
   ],
   "source": [
    "mvmt_pick"
   ]
  },
  {
   "cell_type": "code",
   "execution_count": 41,
   "metadata": {},
   "outputs": [
    {
     "data": {
      "text/html": [
       "<table class=\"data-frame\"><thead><tr><th></th><th>from</th><th>to</th><th>veh</th><th>status</th></tr><tr><th></th><th>Any</th><th>Any</th><th>Any</th><th>Any</th></tr></thead><tbody><p>4 rows × 4 columns</p><tr><th>1</th><td>5.0</td><td>7.0</td><td>1.0</td><td>1.0</td></tr><tr><th>2</th><td>7.0</td><td>8.0</td><td>1.0</td><td>1.0</td></tr><tr><th>3</th><td>5.0</td><td>6.0</td><td>2.0</td><td>1.0</td></tr><tr><th>4</th><td>6.0</td><td>8.0</td><td>2.0</td><td>1.0</td></tr></tbody></table>"
      ],
      "text/latex": [
       "\\begin{tabular}{r|cccc}\n",
       "\t& from & to & veh & status\\\\\n",
       "\t\\hline\n",
       "\t& Any & Any & Any & Any\\\\\n",
       "\t\\hline\n",
       "\t1 & 5.0 & 7.0 & 1.0 & 1.0 \\\\\n",
       "\t2 & 7.0 & 8.0 & 1.0 & 1.0 \\\\\n",
       "\t3 & 5.0 & 6.0 & 2.0 & 1.0 \\\\\n",
       "\t4 & 6.0 & 8.0 & 2.0 & 1.0 \\\\\n",
       "\\end{tabular}\n"
      ],
      "text/plain": [
       "4×4 DataFrame\n",
       "│ Row │ from │ to  │ veh │ status │\n",
       "│     │ \u001b[90mAny\u001b[39m  │ \u001b[90mAny\u001b[39m │ \u001b[90mAny\u001b[39m │ \u001b[90mAny\u001b[39m    │\n",
       "├─────┼──────┼─────┼─────┼────────┤\n",
       "│ 1   │ 5.0  │ 7.0 │ 1.0 │ 1.0    │\n",
       "│ 2   │ 7.0  │ 8.0 │ 1.0 │ 1.0    │\n",
       "│ 3   │ 5.0  │ 6.0 │ 2.0 │ 1.0    │\n",
       "│ 4   │ 6.0  │ 8.0 │ 2.0 │ 1.0    │"
      ]
     },
     "execution_count": 41,
     "metadata": {},
     "output_type": "execute_result"
    }
   ],
   "source": [
    "mvmt_del"
   ]
  },
  {
   "cell_type": "code",
   "execution_count": 42,
   "metadata": {},
   "outputs": [
    {
     "name": "stdout",
     "output_type": "stream",
     "text": [
      "1\t3\t50.0\n",
      "3\t4\t0.0\n",
      "1\t2\t30.0\n",
      "2\t4\t0.0\n"
     ]
    },
    {
     "data": {
      "text/html": [
       "<table class=\"data-frame\"><thead><tr><th></th><th>from</th><th>to</th><th>veh</th><th>status</th><th>tt</th><th>prod_amt</th></tr><tr><th></th><th>Any</th><th>Any</th><th>Any</th><th>Any</th><th>Any</th><th>Any</th></tr></thead><tbody><p>4 rows × 6 columns</p><tr><th>1</th><td>1.0</td><td>3.0</td><td>2.0</td><td>1.0</td><td>30</td><td>50.0</td></tr><tr><th>2</th><td>3.0</td><td>4.0</td><td>2.0</td><td>1.0</td><td>40</td><td>0.0</td></tr><tr><th>3</th><td>1.0</td><td>2.0</td><td>4.0</td><td>1.0</td><td>20</td><td>30.0</td></tr><tr><th>4</th><td>2.0</td><td>4.0</td><td>4.0</td><td>1.0</td><td>40</td><td>0.0</td></tr></tbody></table>"
      ],
      "text/latex": [
       "\\begin{tabular}{r|cccccc}\n",
       "\t& from & to & veh & status & tt & prod\\_amt\\\\\n",
       "\t\\hline\n",
       "\t& Any & Any & Any & Any & Any & Any\\\\\n",
       "\t\\hline\n",
       "\t1 & 1.0 & 3.0 & 2.0 & 1.0 & 30 & 50.0 \\\\\n",
       "\t2 & 3.0 & 4.0 & 2.0 & 1.0 & 40 & 0.0 \\\\\n",
       "\t3 & 1.0 & 2.0 & 4.0 & 1.0 & 20 & 30.0 \\\\\n",
       "\t4 & 2.0 & 4.0 & 4.0 & 1.0 & 40 & 0.0 \\\\\n",
       "\\end{tabular}\n"
      ],
      "text/plain": [
       "4×6 DataFrame\n",
       "│ Row │ from │ to  │ veh │ status │ tt  │ prod_amt │\n",
       "│     │ \u001b[90mAny\u001b[39m  │ \u001b[90mAny\u001b[39m │ \u001b[90mAny\u001b[39m │ \u001b[90mAny\u001b[39m    │ \u001b[90mAny\u001b[39m │ \u001b[90mAny\u001b[39m      │\n",
       "├─────┼──────┼─────┼─────┼────────┼─────┼──────────┤\n",
       "│ 1   │ 1.0  │ 3.0 │ 2.0 │ 1.0    │ 30  │ 50.0     │\n",
       "│ 2   │ 3.0  │ 4.0 │ 2.0 │ 1.0    │ 40  │ 0.0      │\n",
       "│ 3   │ 1.0  │ 2.0 │ 4.0 │ 1.0    │ 20  │ 30.0     │\n",
       "│ 4   │ 2.0  │ 4.0 │ 4.0 │ 1.0    │ 40  │ 0.0      │"
      ]
     },
     "execution_count": 42,
     "metadata": {},
     "output_type": "execute_result"
    }
   ],
   "source": [
    "# inialize empty array to capture travel time, tt\n",
    "tt_pick = []\n",
    "prod_pick = []\n",
    "for i=1:nrow(mvmt_pick)\n",
    "    x = Int(mvmt_pick[i,1])\n",
    "    y = Int(mvmt_pick[i,2])\n",
    "    prod_amt = pick_amt[y, 2]\n",
    "    print(x, \"\\t\", y, \"\\t\", prod_amt, \"\\n\")\n",
    "    append!(tt_pick,t_ij[x,y]) ## append data to the tt array\n",
    "    append!(prod_pick,prod_amt)\n",
    "end\n",
    "\n",
    "tt_pick\n",
    "prod_pick\n",
    "insert!(mvmt_pick, 5, tt_pick, :tt)\n",
    "insert!(mvmt_pick, 6, prod_pick, :prod_amt)"
   ]
  },
  {
   "cell_type": "code",
   "execution_count": 137,
   "metadata": {},
   "outputs": [
    {
     "data": {
      "text/html": [
       "<table class=\"data-frame\"><thead><tr><th></th><th>from</th><th>to</th><th>veh</th><th>status</th><th>tt</th><th>prod_del</th></tr><tr><th></th><th>Any</th><th>Any</th><th>Any</th><th>Any</th><th>Any</th><th>Any</th></tr></thead><tbody><p>4 rows × 6 columns</p><tr><th>1</th><td>5.0</td><td>7.0</td><td>1.0</td><td>1.0</td><td>80</td><td>50.0</td></tr><tr><th>2</th><td>7.0</td><td>8.0</td><td>1.0</td><td>1.0</td><td>60</td><td>0.0</td></tr><tr><th>3</th><td>5.0</td><td>6.0</td><td>2.0</td><td>1.0</td><td>70</td><td>30.0</td></tr><tr><th>4</th><td>6.0</td><td>8.0</td><td>2.0</td><td>1.0</td><td>60</td><td>0.0</td></tr></tbody></table>"
      ],
      "text/latex": [
       "\\begin{tabular}{r|cccccc}\n",
       "\t& from & to & veh & status & tt & prod\\_del\\\\\n",
       "\t\\hline\n",
       "\t& Any & Any & Any & Any & Any & Any\\\\\n",
       "\t\\hline\n",
       "\t1 & 5.0 & 7.0 & 1.0 & 1.0 & 80 & 50.0 \\\\\n",
       "\t2 & 7.0 & 8.0 & 1.0 & 1.0 & 60 & 0.0 \\\\\n",
       "\t3 & 5.0 & 6.0 & 2.0 & 1.0 & 70 & 30.0 \\\\\n",
       "\t4 & 6.0 & 8.0 & 2.0 & 1.0 & 60 & 0.0 \\\\\n",
       "\\end{tabular}\n"
      ],
      "text/plain": [
       "4×6 DataFrame\n",
       "│ Row │ from │ to  │ veh │ status │ tt  │ prod_del │\n",
       "│     │ \u001b[90mAny\u001b[39m  │ \u001b[90mAny\u001b[39m │ \u001b[90mAny\u001b[39m │ \u001b[90mAny\u001b[39m    │ \u001b[90mAny\u001b[39m │ \u001b[90mAny\u001b[39m      │\n",
       "├─────┼──────┼─────┼─────┼────────┼─────┼──────────┤\n",
       "│ 1   │ 5.0  │ 7.0 │ 1.0 │ 1.0    │ 80  │ 50.0     │\n",
       "│ 2   │ 7.0  │ 8.0 │ 1.0 │ 1.0    │ 60  │ 0.0      │\n",
       "│ 3   │ 5.0  │ 6.0 │ 2.0 │ 1.0    │ 70  │ 30.0     │\n",
       "│ 4   │ 6.0  │ 8.0 │ 2.0 │ 1.0    │ 60  │ 0.0      │"
      ]
     },
     "execution_count": 137,
     "metadata": {},
     "output_type": "execute_result"
    }
   ],
   "source": [
    "# inialize empty array to capture travel time, tt\n",
    "tt_del = []\n",
    "prod_del = []\n",
    "for i=1:nrow(mvmt_del)\n",
    "    x = Int(mvmt_del[i,1])\n",
    "    y = Int(mvmt_del[i,2])\n",
    "    prod_amt = pick_amt[y, 2]\n",
    "    append!(tt_del,t_ij[x,y]) ## append data to the tt array\n",
    "    append!(prod_del,prod_amt)\n",
    "end\n",
    "\n",
    "tt_del\n",
    "\n",
    "#insert!(mvmt_del, 5, tt_del, :tt)\n",
    "insert!(mvmt_del, 6, prod_del, :prod_del)"
   ]
  },
  {
   "cell_type": "code",
   "execution_count": 25,
   "metadata": {},
   "outputs": [
    {
     "data": {
      "text/html": [
       "<table class=\"data-frame\"><thead><tr><th></th><th>veh</th><th>tt_sum</th></tr><tr><th></th><th>Any</th><th>Int64</th></tr></thead><tbody><p>2 rows × 2 columns</p><tr><th>1</th><td>2.0</td><td>70</td></tr><tr><th>2</th><td>4.0</td><td>60</td></tr></tbody></table>"
      ],
      "text/latex": [
       "\\begin{tabular}{r|cc}\n",
       "\t& veh & tt\\_sum\\\\\n",
       "\t\\hline\n",
       "\t& Any & Int64\\\\\n",
       "\t\\hline\n",
       "\t1 & 2.0 & 70 \\\\\n",
       "\t2 & 4.0 & 60 \\\\\n",
       "\\end{tabular}\n"
      ],
      "text/plain": [
       "2×2 DataFrame\n",
       "│ Row │ veh │ tt_sum │\n",
       "│     │ \u001b[90mAny\u001b[39m │ \u001b[90mInt64\u001b[39m  │\n",
       "├─────┼─────┼────────┤\n",
       "│ 1   │ 2.0 │ 70     │\n",
       "│ 2   │ 4.0 │ 60     │"
      ]
     },
     "execution_count": 25,
     "metadata": {},
     "output_type": "execute_result"
    }
   ],
   "source": [
    "# group by vehicle number and sum the travel time to get the estimated arrival at cross-dock\n",
    "cd_arr_time = combine(groupby(mvmt_pick,  [:veh]) , :tt => sum)"
   ]
  },
  {
   "cell_type": "code",
   "execution_count": 44,
   "metadata": {},
   "outputs": [
    {
     "data": {
      "text/html": [
       "<table class=\"data-frame\"><thead><tr><th></th><th>veh</th><th>prod_amt_sum</th></tr><tr><th></th><th>Any</th><th>Float64</th></tr></thead><tbody><p>2 rows × 2 columns</p><tr><th>1</th><td>2.0</td><td>50.0</td></tr><tr><th>2</th><td>4.0</td><td>30.0</td></tr></tbody></table>"
      ],
      "text/latex": [
       "\\begin{tabular}{r|cc}\n",
       "\t& veh & prod\\_amt\\_sum\\\\\n",
       "\t\\hline\n",
       "\t& Any & Float64\\\\\n",
       "\t\\hline\n",
       "\t1 & 2.0 & 50.0 \\\\\n",
       "\t2 & 4.0 & 30.0 \\\\\n",
       "\\end{tabular}\n"
      ],
      "text/plain": [
       "2×2 DataFrame\n",
       "│ Row │ veh │ prod_amt_sum │\n",
       "│     │ \u001b[90mAny\u001b[39m │ \u001b[90mFloat64\u001b[39m      │\n",
       "├─────┼─────┼──────────────┤\n",
       "│ 1   │ 2.0 │ 50.0         │\n",
       "│ 2   │ 4.0 │ 30.0         │"
      ]
     },
     "execution_count": 44,
     "metadata": {},
     "output_type": "execute_result"
    }
   ],
   "source": [
    "# group by vehicle number and sum the travel time to get the estimated arrival at cross-dock\n",
    "cd_product = combine(groupby(mvmt_pick,  [:veh]) , :prod_amt => sum)"
   ]
  },
  {
   "cell_type": "code",
   "execution_count": 27,
   "metadata": {},
   "outputs": [
    {
     "data": {
      "text/html": [
       "<table class=\"data-frame\"><thead><tr><th></th><th>veh</th><th>tt_sum</th><th>prod_amt_sum</th></tr><tr><th></th><th>Any</th><th>Int64</th><th>Float64</th></tr></thead><tbody><p>2 rows × 3 columns</p><tr><th>1</th><td>2.0</td><td>70</td><td>50.0</td></tr><tr><th>2</th><td>4.0</td><td>60</td><td>30.0</td></tr></tbody></table>"
      ],
      "text/latex": [
       "\\begin{tabular}{r|ccc}\n",
       "\t& veh & tt\\_sum & prod\\_amt\\_sum\\\\\n",
       "\t\\hline\n",
       "\t& Any & Int64 & Float64\\\\\n",
       "\t\\hline\n",
       "\t1 & 2.0 & 70 & 50.0 \\\\\n",
       "\t2 & 4.0 & 60 & 30.0 \\\\\n",
       "\\end{tabular}\n"
      ],
      "text/plain": [
       "2×3 DataFrame\n",
       "│ Row │ veh │ tt_sum │ prod_amt_sum │\n",
       "│     │ \u001b[90mAny\u001b[39m │ \u001b[90mInt64\u001b[39m  │ \u001b[90mFloat64\u001b[39m      │\n",
       "├─────┼─────┼────────┼──────────────┤\n",
       "│ 1   │ 2.0 │ 70     │ 50.0         │\n",
       "│ 2   │ 4.0 │ 60     │ 30.0         │"
      ]
     },
     "execution_count": 27,
     "metadata": {},
     "output_type": "execute_result"
    }
   ],
   "source": [
    "join(cd_arr_time, cd_product, on = :veh)"
   ]
  },
  {
   "cell_type": "code",
   "execution_count": 61,
   "metadata": {},
   "outputs": [
    {
     "name": "stdout",
     "output_type": "stream",
     "text": [
      "Any[210.0, 200.0]"
     ]
    },
    {
     "data": {
      "text/html": [
       "<table class=\"data-frame\"><thead><tr><th></th><th>veh</th><th>tt_sum</th><th>est_del</th></tr><tr><th></th><th>Any</th><th>Int64</th><th>Any</th></tr></thead><tbody><p>2 rows × 3 columns</p><tr><th>1</th><td>1.0</td><td>140</td><td>210.0</td></tr><tr><th>2</th><td>2.0</td><td>130</td><td>200.0</td></tr></tbody></table>"
      ],
      "text/latex": [
       "\\begin{tabular}{r|ccc}\n",
       "\t& veh & tt\\_sum & est\\_del\\\\\n",
       "\t\\hline\n",
       "\t& Any & Int64 & Any\\\\\n",
       "\t\\hline\n",
       "\t1 & 1.0 & 140 & 210.0 \\\\\n",
       "\t2 & 2.0 & 130 & 200.0 \\\\\n",
       "\\end{tabular}\n"
      ],
      "text/plain": [
       "2×3 DataFrame\n",
       "│ Row │ veh │ tt_sum │ est_del │\n",
       "│     │ \u001b[90mAny\u001b[39m │ \u001b[90mInt64\u001b[39m  │ \u001b[90mAny\u001b[39m     │\n",
       "├─────┼─────┼────────┼─────────┤\n",
       "│ 1   │ 1.0 │ 140    │ 210.0   │\n",
       "│ 2   │ 2.0 │ 130    │ 200.0   │"
      ]
     },
     "execution_count": 61,
     "metadata": {},
     "output_type": "execute_result"
    }
   ],
   "source": [
    "del_time = combine(groupby(mvmt_del,  [:veh]) , :tt => sum)\n",
    "\n",
    "est_del = []\n",
    "for i= 1:nrow(del_time)\n",
    "    temp = del_time[i, 2] + value.(t_pick)[1]  # add the latest time for pickup process\n",
    "    append!(est_del, temp)\n",
    "end\n",
    "\n",
    "insert!(del_time, 3, est_del, :est_del)"
   ]
  },
  {
   "cell_type": "code",
   "execution_count": 68,
   "metadata": {},
   "outputs": [
    {
     "name": "stdout",
     "output_type": "stream",
     "text": [
      "\n",
      "\n",
      "current time: 0\n",
      "vehicles in PICKUP process\n",
      " Pickup Process2×3 DataFrame\n",
      "│ Row │ veh │ tt_sum │ est │\n",
      "│     │ \u001b[90mAny\u001b[39m │ \u001b[90mInt64\u001b[39m  │ \u001b[90mAny\u001b[39m │\n",
      "├─────┼─────┼────────┼─────┤\n",
      "│ 1   │ 2.0 │ 70     │ 70  │\n",
      "│ 2   │ 4.0 │ 60     │ 60  │\n",
      "\n",
      " Delivery Process:2×4 DataFrame\n",
      "│ Row │ veh │ tt_sum │ est_del │ est   │\n",
      "│     │ \u001b[90mAny\u001b[39m │ \u001b[90mInt64\u001b[39m  │ \u001b[90mAny\u001b[39m     │ \u001b[90mAny\u001b[39m   │\n",
      "├─────┼─────┼────────┼─────────┼───────┤\n",
      "│ 1   │ 1.0 │ 140    │ 210.0   │ 210.0 │\n",
      "│ 2   │ 2.0 │ 130    │ 200.0   │ 200.0 │\n",
      "\n",
      "\n",
      "current time: 15\n",
      "vehicles in PICKUP process\n",
      " Pickup Process2×3 DataFrame\n",
      "│ Row │ veh │ tt_sum │ est │\n",
      "│     │ \u001b[90mAny\u001b[39m │ \u001b[90mInt64\u001b[39m  │ \u001b[90mAny\u001b[39m │\n",
      "├─────┼─────┼────────┼─────┤\n",
      "│ 1   │ 2.0 │ 70     │ 55  │\n",
      "│ 2   │ 4.0 │ 60     │ 45  │\n",
      "\n",
      " Delivery Process:2×4 DataFrame\n",
      "│ Row │ veh │ tt_sum │ est_del │ est   │\n",
      "│     │ \u001b[90mAny\u001b[39m │ \u001b[90mInt64\u001b[39m  │ \u001b[90mAny\u001b[39m     │ \u001b[90mAny\u001b[39m   │\n",
      "├─────┼─────┼────────┼─────────┼───────┤\n",
      "│ 1   │ 1.0 │ 140    │ 210.0   │ 195.0 │\n",
      "│ 2   │ 2.0 │ 130    │ 200.0   │ 185.0 │\n",
      "\n",
      "\n",
      "current time: 30\n",
      "vehicles in PICKUP process\n",
      " Pickup Process2×3 DataFrame\n",
      "│ Row │ veh │ tt_sum │ est │\n",
      "│     │ \u001b[90mAny\u001b[39m │ \u001b[90mInt64\u001b[39m  │ \u001b[90mAny\u001b[39m │\n",
      "├─────┼─────┼────────┼─────┤\n",
      "│ 1   │ 2.0 │ 70     │ 40  │\n",
      "│ 2   │ 4.0 │ 60     │ 30  │\n",
      "\n",
      " Delivery Process:2×4 DataFrame\n",
      "│ Row │ veh │ tt_sum │ est_del │ est   │\n",
      "│     │ \u001b[90mAny\u001b[39m │ \u001b[90mInt64\u001b[39m  │ \u001b[90mAny\u001b[39m     │ \u001b[90mAny\u001b[39m   │\n",
      "├─────┼─────┼────────┼─────────┼───────┤\n",
      "│ 1   │ 1.0 │ 140    │ 210.0   │ 180.0 │\n",
      "│ 2   │ 2.0 │ 130    │ 200.0   │ 170.0 │\n",
      "\n",
      "\n",
      "current time: 45\n",
      "vehicles in PICKUP process\n",
      " Pickup Process2×3 DataFrame\n",
      "│ Row │ veh │ tt_sum │ est │\n",
      "│     │ \u001b[90mAny\u001b[39m │ \u001b[90mInt64\u001b[39m  │ \u001b[90mAny\u001b[39m │\n",
      "├─────┼─────┼────────┼─────┤\n",
      "│ 1   │ 2.0 │ 70     │ 25  │\n",
      "│ 2   │ 4.0 │ 60     │ 15  │\n",
      "\n",
      " Delivery Process:2×4 DataFrame\n",
      "│ Row │ veh │ tt_sum │ est_del │ est   │\n",
      "│     │ \u001b[90mAny\u001b[39m │ \u001b[90mInt64\u001b[39m  │ \u001b[90mAny\u001b[39m     │ \u001b[90mAny\u001b[39m   │\n",
      "├─────┼─────┼────────┼─────────┼───────┤\n",
      "│ 1   │ 1.0 │ 140    │ 210.0   │ 165.0 │\n",
      "│ 2   │ 2.0 │ 130    │ 200.0   │ 155.0 │\n",
      "\n",
      "\n",
      "current time: 60\n",
      "vehicles in PICKUP process\n",
      " Pickup Process2×3 DataFrame\n",
      "│ Row │ veh │ tt_sum │ est │\n",
      "│     │ \u001b[90mAny\u001b[39m │ \u001b[90mInt64\u001b[39m  │ \u001b[90mAny\u001b[39m │\n",
      "├─────┼─────┼────────┼─────┤\n",
      "│ 1   │ 2.0 │ 70     │ 10  │\n",
      "│ 2   │ 4.0 │ 60     │ 0   │\n",
      "\n",
      " Delivery Process:2×4 DataFrame\n",
      "│ Row │ veh │ tt_sum │ est_del │ est   │\n",
      "│     │ \u001b[90mAny\u001b[39m │ \u001b[90mInt64\u001b[39m  │ \u001b[90mAny\u001b[39m     │ \u001b[90mAny\u001b[39m   │\n",
      "├─────┼─────┼────────┼─────────┼───────┤\n",
      "│ 1   │ 1.0 │ 140    │ 210.0   │ 150.0 │\n",
      "│ 2   │ 2.0 │ 130    │ 200.0   │ 140.0 │\n",
      "\n",
      "\n",
      "current time: 75\n",
      "vehicles in DELIVERY process\n",
      " Pickup Process2×3 DataFrame\n",
      "│ Row │ veh │ tt_sum │ est │\n",
      "│     │ \u001b[90mAny\u001b[39m │ \u001b[90mInt64\u001b[39m  │ \u001b[90mAny\u001b[39m │\n",
      "├─────┼─────┼────────┼─────┤\n",
      "│ 1   │ 2.0 │ 70     │ 10  │\n",
      "│ 2   │ 4.0 │ 60     │ 0   │\n",
      "\n",
      " Delivery Process:2×4 DataFrame\n",
      "│ Row │ veh │ tt_sum │ est_del │ est   │\n",
      "│     │ \u001b[90mAny\u001b[39m │ \u001b[90mInt64\u001b[39m  │ \u001b[90mAny\u001b[39m     │ \u001b[90mAny\u001b[39m   │\n",
      "├─────┼─────┼────────┼─────────┼───────┤\n",
      "│ 1   │ 1.0 │ 140    │ 210.0   │ 150.0 │\n",
      "│ 2   │ 2.0 │ 130    │ 200.0   │ 140.0 │\n",
      "\n",
      "\n",
      "current time: 90\n",
      "vehicles in DELIVERY process\n",
      " Pickup Process2×3 DataFrame\n",
      "│ Row │ veh │ tt_sum │ est │\n",
      "│     │ \u001b[90mAny\u001b[39m │ \u001b[90mInt64\u001b[39m  │ \u001b[90mAny\u001b[39m │\n",
      "├─────┼─────┼────────┼─────┤\n",
      "│ 1   │ 2.0 │ 70     │ 10  │\n",
      "│ 2   │ 4.0 │ 60     │ 0   │\n",
      "\n",
      " Delivery Process:2×4 DataFrame\n",
      "│ Row │ veh │ tt_sum │ est_del │ est   │\n",
      "│     │ \u001b[90mAny\u001b[39m │ \u001b[90mInt64\u001b[39m  │ \u001b[90mAny\u001b[39m     │ \u001b[90mAny\u001b[39m   │\n",
      "├─────┼─────┼────────┼─────────┼───────┤\n",
      "│ 1   │ 1.0 │ 140    │ 210.0   │ 150.0 │\n",
      "│ 2   │ 2.0 │ 130    │ 200.0   │ 140.0 │\n",
      "\n",
      "\n",
      "current time: 105\n",
      "vehicles in DELIVERY process\n",
      " Pickup Process2×3 DataFrame\n",
      "│ Row │ veh │ tt_sum │ est │\n",
      "│     │ \u001b[90mAny\u001b[39m │ \u001b[90mInt64\u001b[39m  │ \u001b[90mAny\u001b[39m │\n",
      "├─────┼─────┼────────┼─────┤\n",
      "│ 1   │ 2.0 │ 70     │ 10  │\n",
      "│ 2   │ 4.0 │ 60     │ 0   │\n",
      "\n",
      " Delivery Process:2×4 DataFrame\n",
      "│ Row │ veh │ tt_sum │ est_del │ est   │\n",
      "│     │ \u001b[90mAny\u001b[39m │ \u001b[90mInt64\u001b[39m  │ \u001b[90mAny\u001b[39m     │ \u001b[90mAny\u001b[39m   │\n",
      "├─────┼─────┼────────┼─────────┼───────┤\n",
      "│ 1   │ 1.0 │ 140    │ 210.0   │ 150.0 │\n",
      "│ 2   │ 2.0 │ 130    │ 200.0   │ 140.0 │\n",
      "\n",
      "\n",
      "current time: 120\n",
      "vehicles in DELIVERY process\n",
      " Pickup Process2×3 DataFrame\n",
      "│ Row │ veh │ tt_sum │ est │\n",
      "│     │ \u001b[90mAny\u001b[39m │ \u001b[90mInt64\u001b[39m  │ \u001b[90mAny\u001b[39m │\n",
      "├─────┼─────┼────────┼─────┤\n",
      "│ 1   │ 2.0 │ 70     │ 10  │\n",
      "│ 2   │ 4.0 │ 60     │ 0   │\n",
      "\n",
      " Delivery Process:2×4 DataFrame\n",
      "│ Row │ veh │ tt_sum │ est_del │ est   │\n",
      "│     │ \u001b[90mAny\u001b[39m │ \u001b[90mInt64\u001b[39m  │ \u001b[90mAny\u001b[39m     │ \u001b[90mAny\u001b[39m   │\n",
      "├─────┼─────┼────────┼─────────┼───────┤\n",
      "│ 1   │ 1.0 │ 140    │ 210.0   │ 150.0 │\n",
      "│ 2   │ 2.0 │ 130    │ 200.0   │ 140.0 │\n"
     ]
    }
   ],
   "source": [
    "for t in [0:15:120;]\n",
    "    print(\"\\n\\ncurrent time: \", t)\n",
    "    # check status of each vehicle\n",
    "    \n",
    "    # where is the position of each vehicle?\n",
    "    # is the current time less than t_pick? if yes \"pickup process\"; \"delivery process\" other wise\n",
    "    tt = []\n",
    "    tt_del = []\n",
    "    if t <= value.(t_pick)[1]\n",
    "        print(\"\\nvehicles in PICKUP process\")\n",
    "        for i=1:nrow(cd_arr_time)\n",
    "            curr_arr_time = cd_arr_time[i,2]\n",
    "            update_time = curr_arr_time - t\n",
    "            append!(tt, update_time)\n",
    "        end\n",
    "        \n",
    "        # update time for delivery process\n",
    "        for i=1:nrow(del_time)\n",
    "            curr_del_time = del_time[i,3]\n",
    "            update_time = curr_del_time - t\n",
    "            append!(tt_del, update_time)\n",
    "        end\n",
    "        \n",
    "        # print table\n",
    "        cd_arr_time.est = tt\n",
    "        del_time.est = tt_del\n",
    "    else\n",
    "        print(\"\\nvehicles in DELIVERY process\")\n",
    "    end\n",
    "    print(\"\\n Pickup Process\", cd_arr_time, \"\\n\")\n",
    "    print(\"\\n Delivery Process:\", del_time, \"\\n\")\n",
    "\n",
    "end"
   ]
  },
  {
   "cell_type": "code",
   "execution_count": 29,
   "metadata": {},
   "outputs": [
    {
     "data": {
      "text/plain": [
       "4-element Array{Int64,1}:\n",
       " 1\n",
       " 3\n",
       " 0\n",
       " 2"
      ]
     },
     "execution_count": 29,
     "metadata": {},
     "output_type": "execute_result"
    }
   ],
   "source": [
    "# vehicle status: first digit indicate whether it is used in none(0)/pickup(1)/delivery(2)/both(3); last two digits indicate active(10)/broke(99)/available(00)\n",
    "veh_status = [10, 99, 10, 10]\n",
    "veh_use = [1,3,0,2]"
   ]
  },
  {
   "cell_type": "code",
   "execution_count": 62,
   "metadata": {},
   "outputs": [
    {
     "data": {
      "text/plain": [
       "3"
      ]
     },
     "execution_count": 62,
     "metadata": {},
     "output_type": "execute_result"
    }
   ],
   "source": [
    "# current time\n",
    "t = 15\n",
    "\n",
    "veh_break = findall( x -> x == 999, veh_status)\n",
    "num_veh_break = length(veh_break)\n",
    "\n",
    "veh_avl = \n",
    "num_veh_avl = length(m) - num_veh_break"
   ]
  },
  {
   "cell_type": "code",
   "execution_count": 158,
   "metadata": {},
   "outputs": [
    {
     "data": {
      "text/latex": [
       "$$ \\begin{alignat*}{1}\\text{feasibility}\\\\\n",
       "\\text{Subject to} \\quad\\end{alignat*}\n",
       " $$"
      ],
      "text/plain": [
       "A JuMP Model\n",
       "Feasibility problem with:\n",
       "Variables: 0\n",
       "Model mode: AUTOMATIC\n",
       "CachingOptimizer state: EMPTY_OPTIMIZER\n",
       "Solver name: GLPK"
      ]
     },
     "execution_count": 158,
     "metadata": {},
     "output_type": "execute_result"
    }
   ],
   "source": [
    "# updated available veh\n",
    "\n",
    "m2 = [1,3, 4]\n",
    "\n",
    "# ****************************************\n",
    "# Create a JuMP model\n",
    "# ****************************************\n",
    "cd_modl2 = Model(GLPK.Optimizer)"
   ]
  },
  {
   "cell_type": "code",
   "execution_count": 159,
   "metadata": {},
   "outputs": [
    {
     "data": {
      "text/plain": [
       "8-element Array{VariableRef,1}:\n",
       " y_i[1]\n",
       " y_i[2]\n",
       " y_i[3]\n",
       " y_i[4]\n",
       " y_i[5]\n",
       " y_i[6]\n",
       " y_i[7]\n",
       " y_i[8]"
      ]
     },
     "execution_count": 159,
     "metadata": {},
     "output_type": "execute_result"
    }
   ],
   "source": [
    "# ****************************************\n",
    "# Decision variables\n",
    "#*****************************************\n",
    "# x_ijk = 1 if vehicle k travels from node i to node j; 0 otherwise;\n",
    "@variable(cd_modl2, p_ijk[i=1:n, j=1:n, k=1:m], Bin)\n",
    "\n",
    "# y_i = total quantity of collected/delivered products after leaving node i\n",
    "@variable(cd_modl2, y_i[i = 1:n], Int)\n",
    "\n",
    "\n"
   ]
  },
  {
   "cell_type": "code",
   "execution_count": 160,
   "metadata": {},
   "outputs": [
    {
     "data": {
      "text/plain": [
       "3-dimensional DenseAxisArray{ConstraintRef{Model,MathOptInterface.ConstraintIndex{MathOptInterface.ScalarAffineFunction{Float64},MathOptInterface.LessThan{Float64}},ScalarShape},3,...} with index sets:\n",
       "    Dimension 1, [5]\n",
       "    Dimension 2, [6, 7]\n",
       "    Dimension 3, [1, 3, 4]\n",
       "And data, a 1×2×3 Array{ConstraintRef{Model,MathOptInterface.ConstraintIndex{MathOptInterface.ScalarAffineFunction{Float64},MathOptInterface.LessThan{Float64}},ScalarShape},3}:\n",
       "[:, :, 1] =\n",
       " d_del_qnt2[5,6,1] : 20 p_ijk[5,6,1] + y_i[6] <= 50.0  …  d_del_qnt2[5,7,1] : y_i[7] <= 50.0\n",
       "\n",
       "[:, :, 3] =\n",
       " d_del_qnt2[5,6,3] : 20 p_ijk[5,6,3] + y_i[6] <= 50.0  …  d_del_qnt2[5,7,3] : y_i[7] <= 50.0\n",
       "\n",
       "[:, :, 4] =\n",
       " d_del_qnt2[5,6,4] : 20 p_ijk[5,6,4] + y_i[6] <= 50.0  …  d_del_qnt2[5,7,4] : y_i[7] <= 50.0"
      ]
     },
     "execution_count": 160,
     "metadata": {},
     "output_type": "execute_result"
    }
   ],
   "source": [
    "#*****************************************\n",
    "# Constraints\n",
    "#*****************************************\n",
    "\n",
    "# Delivery Process\n",
    "#----------------\n",
    "\n",
    "# [Delivery Process] 01: only one vehicle can arrive at a pickup node\n",
    "@constraint(cd_modl2, d_node_entry[j= D],\n",
    "                    sum(p_ijk[i,j,k] for i=vcat(O_del, D) for k=m2 if i != j) == 1)\n",
    "\n",
    "# [Delivery Process] 02: Only one vehicle depart from the pickup node\n",
    "@constraint(cd_modl2, d_node_exit[i= D],\n",
    "                    sum(p_ijk[i,j,k] for j=vcat(D,O_dum_del) for k=m2 if i != j) == 1)\n",
    "\n",
    "# [Delivery Process] 03: Consecutive movement of vehicles\n",
    "@constraint(cd_modl2, cons_move_del[l = D, k=m2],\n",
    "    sum(p_ijk[i,l,k] for i=vcat(O_del, D) if i != l) \n",
    "    -sum(p_ijk[l,j,k] for j=vcat(D,O_dum_del) if j != l) \n",
    "    == 0)\n",
    "\n",
    "# [Delivery Process] 04: vehicle enter at dummy cross dock after last delivery\n",
    "@constraint(cd_modl2, d_dum_enter[k=m2],\n",
    "    sum(p_ijk[i,j,k] for i= D for j = O_dum_del) <= 1)\n",
    "\n",
    "# [Delivery Process] 05: vehicle leave cross dock\n",
    "@constraint(cd_modl2, d_cd_leave[k=m2],\n",
    "    sum(p_ijk[i,j,k] for i= O_del for j = D) <= 1)\n",
    "\n",
    "# [Delivery Process] 06: \n",
    "@constraint(cd_modl2, d_del_qnt[k=m, i = D, j = D; i!=j],\n",
    "    y_i[j] \n",
    "    - y_i[i] \n",
    "    - d_i[j] \n",
    "    + Q \n",
    "    - (Q*(p_ijk[i,j,k] + p_ijk[j,i,k])) \n",
    "    + ((d_i[j]+d_i[i])*p_ijk[j,i,k])\n",
    "    >= 0)\n",
    "\n",
    "# [Delivery Process] 07: \n",
    "@constraint(cd_modl2, d_del_qnt2[i = O_del, j = D, k=m2],\n",
    "    y_i[j]\n",
    "    - p_ijk[i,j,k]*d_i[j]\n",
    "    - (1-p_ijk[i,j,k])*Q\n",
    "    <= 0)"
   ]
  },
  {
   "cell_type": "code",
   "execution_count": 161,
   "metadata": {},
   "outputs": [
    {
     "data": {
      "text/latex": [
       "$$ 70 p_ijk_{5,6,1} + 70 p_ijk_{5,6,3} + 70 p_ijk_{5,6,4} + 80 p_ijk_{5,7,1} + 80 p_ijk_{5,7,3} + 80 p_ijk_{5,7,4} + 70 p_ijk_{6,7,1} + 70 p_ijk_{6,7,3} + 70 p_ijk_{6,7,4} + 60 p_ijk_{6,8,1} + 60 p_ijk_{6,8,3} + 60 p_ijk_{6,8,4} + 70 p_ijk_{7,6,1} + 70 p_ijk_{7,6,3} + 70 p_ijk_{7,6,4} + 60 p_ijk_{7,8,1} + 60 p_ijk_{7,8,3} + 60 p_ijk_{7,8,4} $$"
      ],
      "text/plain": [
       "70 p_ijk[5,6,1] + 70 p_ijk[5,6,3] + 70 p_ijk[5,6,4] + 80 p_ijk[5,7,1] + 80 p_ijk[5,7,3] + 80 p_ijk[5,7,4] + 70 p_ijk[6,7,1] + 70 p_ijk[6,7,3] + 70 p_ijk[6,7,4] + 60 p_ijk[6,8,1] + 60 p_ijk[6,8,3] + 60 p_ijk[6,8,4] + 70 p_ijk[7,6,1] + 70 p_ijk[7,6,3] + 70 p_ijk[7,6,4] + 60 p_ijk[7,8,1] + 60 p_ijk[7,8,3] + 60 p_ijk[7,8,4]"
      ]
     },
     "execution_count": 161,
     "metadata": {},
     "output_type": "execute_result"
    }
   ],
   "source": [
    "#*****************************************\n",
    "# Objective\n",
    "#*****************************************\n",
    "\n",
    "@objective(cd_modl2, Min, sum(t_ij[i,j]*p_ijk[i,j,k] for i=vcat(O_del, D) for j=vcat(D, O_dum_del) for k=m2))"
   ]
  },
  {
   "cell_type": "code",
   "execution_count": 162,
   "metadata": {},
   "outputs": [],
   "source": [
    "optimize!(cd_modl2)"
   ]
  },
  {
   "cell_type": "code",
   "execution_count": 163,
   "metadata": {},
   "outputs": [
    {
     "name": "stdout",
     "output_type": "stream",
     "text": [
      "\n",
      "veh: 4\t"
     ]
    }
   ],
   "source": [
    "# vehicle routing information\n",
    "\n",
    "for k=m\n",
    "    print(\"\\nveh: \", k, \"\\t\")\n",
    "    for i= 1:n\n",
    "        for j=1:n\n",
    "            if value.(p_ijk[i,j,k]) == 1\n",
    "                print(i, \"-->\", j, \"\\t\")\n",
    "            end\n",
    "        end\n",
    "    end\n",
    "end"
   ]
  },
  {
   "cell_type": "code",
   "execution_count": 149,
   "metadata": {},
   "outputs": [
    {
     "name": "stdout",
     "output_type": "stream",
     "text": [
      "value.(p_ijk) = 3-dimensional DenseAxisArray{Float64,3,...} with index sets:\n",
      "    Dimension 1, Base.OneTo(8)\n",
      "    Dimension 2, Base.OneTo(8)\n",
      "    Dimension 3, [1, 3, 4]\n",
      "And data, a 8×8×3 Array{Float64,3}:\n",
      "[:, :, 1] =\n",
      " 0.0  0.0  0.0  0.0  0.0  0.0  0.0  0.0\n",
      " 0.0  0.0  0.0  0.0  0.0  0.0  0.0  0.0\n",
      " 0.0  0.0  0.0  0.0  0.0  0.0  0.0  0.0\n",
      " 0.0  0.0  0.0  0.0  0.0  0.0  0.0  0.0\n",
      " 0.0  0.0  0.0  0.0  0.0  0.0  0.0  0.0\n",
      " 0.0  0.0  0.0  0.0  0.0  0.0  1.0  0.0\n",
      " 0.0  0.0  0.0  0.0  0.0  1.0  0.0  0.0\n",
      " 0.0  0.0  0.0  0.0  0.0  0.0  0.0  0.0\n",
      "\n",
      "[:, :, 3] =\n",
      " 0.0  0.0  0.0  0.0  0.0  0.0  0.0  0.0\n",
      " 0.0  0.0  0.0  0.0  0.0  0.0  0.0  0.0\n",
      " 0.0  0.0  0.0  0.0  0.0  0.0  0.0  0.0\n",
      " 0.0  0.0  0.0  0.0  0.0  0.0  0.0  0.0\n",
      " 0.0  0.0  0.0  0.0  0.0  0.0  0.0  0.0\n",
      " 0.0  0.0  0.0  0.0  0.0  0.0  0.0  0.0\n",
      " 0.0  0.0  0.0  0.0  0.0  0.0  0.0  0.0\n",
      " 0.0  0.0  0.0  0.0  0.0  0.0  0.0  0.0\n",
      "\n",
      "[:, :, 4] =\n",
      " 0.0  0.0  0.0  0.0  0.0  0.0  0.0  0.0\n",
      " 0.0  0.0  0.0  0.0  0.0  0.0  0.0  0.0\n",
      " 0.0  0.0  0.0  0.0  0.0  0.0  0.0  0.0\n",
      " 0.0  0.0  0.0  0.0  0.0  0.0  0.0  0.0\n",
      " 0.0  0.0  0.0  0.0  0.0  0.0  0.0  0.0\n",
      " 0.0  0.0  0.0  0.0  0.0  0.0  0.0  0.0\n",
      " 0.0  0.0  0.0  0.0  0.0  0.0  0.0  0.0\n",
      " 0.0  0.0  0.0  0.0  0.0  0.0  0.0  0.0\n"
     ]
    },
    {
     "data": {
      "text/plain": [
       "3-dimensional DenseAxisArray{Float64,3,...} with index sets:\n",
       "    Dimension 1, Base.OneTo(8)\n",
       "    Dimension 2, Base.OneTo(8)\n",
       "    Dimension 3, [1, 3, 4]\n",
       "And data, a 8×8×3 Array{Float64,3}:\n",
       "[:, :, 1] =\n",
       " 0.0  0.0  0.0  0.0  0.0  0.0  0.0  0.0\n",
       " 0.0  0.0  0.0  0.0  0.0  0.0  0.0  0.0\n",
       " 0.0  0.0  0.0  0.0  0.0  0.0  0.0  0.0\n",
       " 0.0  0.0  0.0  0.0  0.0  0.0  0.0  0.0\n",
       " 0.0  0.0  0.0  0.0  0.0  0.0  0.0  0.0\n",
       " 0.0  0.0  0.0  0.0  0.0  0.0  1.0  0.0\n",
       " 0.0  0.0  0.0  0.0  0.0  1.0  0.0  0.0\n",
       " 0.0  0.0  0.0  0.0  0.0  0.0  0.0  0.0\n",
       "\n",
       "[:, :, 3] =\n",
       " 0.0  0.0  0.0  0.0  0.0  0.0  0.0  0.0\n",
       " 0.0  0.0  0.0  0.0  0.0  0.0  0.0  0.0\n",
       " 0.0  0.0  0.0  0.0  0.0  0.0  0.0  0.0\n",
       " 0.0  0.0  0.0  0.0  0.0  0.0  0.0  0.0\n",
       " 0.0  0.0  0.0  0.0  0.0  0.0  0.0  0.0\n",
       " 0.0  0.0  0.0  0.0  0.0  0.0  0.0  0.0\n",
       " 0.0  0.0  0.0  0.0  0.0  0.0  0.0  0.0\n",
       " 0.0  0.0  0.0  0.0  0.0  0.0  0.0  0.0\n",
       "\n",
       "[:, :, 4] =\n",
       " 0.0  0.0  0.0  0.0  0.0  0.0  0.0  0.0\n",
       " 0.0  0.0  0.0  0.0  0.0  0.0  0.0  0.0\n",
       " 0.0  0.0  0.0  0.0  0.0  0.0  0.0  0.0\n",
       " 0.0  0.0  0.0  0.0  0.0  0.0  0.0  0.0\n",
       " 0.0  0.0  0.0  0.0  0.0  0.0  0.0  0.0\n",
       " 0.0  0.0  0.0  0.0  0.0  0.0  0.0  0.0\n",
       " 0.0  0.0  0.0  0.0  0.0  0.0  0.0  0.0\n",
       " 0.0  0.0  0.0  0.0  0.0  0.0  0.0  0.0"
      ]
     },
     "execution_count": 149,
     "metadata": {},
     "output_type": "execute_result"
    }
   ],
   "source": [
    "@show value.(p_ijk)"
   ]
  },
  {
   "cell_type": "code",
   "execution_count": 133,
   "metadata": {},
   "outputs": [
    {
     "data": {
      "text/latex": [
       "$$ \\begin{alignat*}{1}\\text{feasibility}\\\\\n",
       "\\text{Subject to} \\quad\\end{alignat*}\n",
       " $$"
      ],
      "text/plain": [
       "A JuMP Model\n",
       "Feasibility problem with:\n",
       "Variables: 0\n",
       "Model mode: AUTOMATIC\n",
       "CachingOptimizer state: EMPTY_OPTIMIZER\n",
       "Solver name: GLPK"
      ]
     },
     "execution_count": 133,
     "metadata": {},
     "output_type": "execute_result"
    }
   ],
   "source": [
    "# ****************************************\n",
    "# Create a JuMP model\n",
    "# ****************************************\n",
    "cd_modl3 = Model(GLPK.Optimizer)"
   ]
  },
  {
   "cell_type": "code",
   "execution_count": 134,
   "metadata": {},
   "outputs": [
    {
     "data": {
      "text/plain": [
       "1-dimensional DenseAxisArray{VariableRef,1,...} with index sets:\n",
       "    Dimension 1, [3]\n",
       "And data, a 1-element Array{VariableRef,1}:\n",
       " AT3_k[3]"
      ]
     },
     "execution_count": 134,
     "metadata": {},
     "output_type": "execute_result"
    }
   ],
   "source": [
    "# ****************************************\n",
    "# Decision variables\n",
    "#*****************************************\n",
    "N = [1, 3, 4, 5, 6, 7, 8]\n",
    "m3 = [3]\n",
    "\n",
    "# x_ijk = 1 if vehicle k travels from node i to node j; 0 otherwise;\n",
    "@variable(cd_modl3, x3_ijk[i=N, j=N, k=m3], Bin)\n",
    "\n",
    "# y_i = total quantity of collected/delivered products after leaving node i\n",
    "@variable(cd_modl3, y3_i[i = N], Int)\n",
    "\n",
    "# t_pickup = latest arrival time a cross dock\n",
    "@variable(cd_modl3, t3_pick[pick = 1:o_pick])\n",
    "\n",
    "# AT_k = arrival time of vehicle k at the cross-dock\n",
    "@variable(cd_modl3, AT3_k[k =m3])"
   ]
  },
  {
   "cell_type": "code",
   "execution_count": 135,
   "metadata": {},
   "outputs": [
    {
     "data": {
      "text/plain": [
       "1-dimensional DenseAxisArray{ConstraintRef{Model,MathOptInterface.ConstraintIndex{MathOptInterface.ScalarAffineFunction{Float64},MathOptInterface.LessThan{Float64}},ScalarShape},1,...} with index sets:\n",
       "    Dimension 1, [3]\n",
       "And data, a 1-element Array{ConstraintRef{Model,MathOptInterface.ConstraintIndex{MathOptInterface.ScalarAffineFunction{Float64},MathOptInterface.LessThan{Float64}},ScalarShape},1}:\n",
       " pick_cap2[3] : y3_i[3] <= 50.0"
      ]
     },
     "execution_count": 135,
     "metadata": {},
     "output_type": "execute_result"
    }
   ],
   "source": [
    "#*****************************************\n",
    "# Constraints\n",
    "#*****************************************\n",
    "\n",
    "# Pick-up Process\n",
    "#----------------\n",
    "P3 = [3]\n",
    "\n",
    "# [Pick-up Process] 01: only one vehicle can arrive at a pickup node\n",
    "@constraint(cd_modl3, p_node_entry[j= P3],\n",
    "                    sum(x3_ijk[i,j,k] for i=vcat(O_dum_pick, P3) for k=m3 if i != j) == 1)\n",
    "\n",
    "#[Pick-up Process] 02: Only one vehicle depart from the pickup node\n",
    "@constraint(cd_modl3, p_node_exit[i= P3],\n",
    "                    sum(x3_ijk[i,j,k] for j=vcat(P3,O_pick) for k=m3 if i != j) == 1)\n",
    "\n",
    "# [Pick-up Process] 03: Consecutive movement of vehicles\n",
    "@constraint(cd_modl3, cons_move_pick[l = P3, k=m3],\n",
    "    sum(x3_ijk[i,l,k] for i=vcat(O_dum_pick, P3) if i != l) \n",
    "    -sum(x3_ijk[l,j,k] for j=vcat(P3,O_pick) if j != l) \n",
    "    == 0)\n",
    "\n",
    "# [Pick-up Process] 04: vehicle leave at dummy cross dock\n",
    "@constraint(cd_modl3, p_dum_leave[i= O_dum_pick, k=m3],\n",
    "    sum(x3_ijk[i,j,k] for j = P3) <= 1)\n",
    "\n",
    "\n",
    "# [Pick-up Process] 05: vehicle that leave at dummy cross dock visit cross dock immdiately after last pickup\n",
    "@constraint(cd_modl3, p_cd_entry[j = O_pick, k=m3],\n",
    "    sum(x3_ijk[i,j,k] for i= P3) <= 1)\n",
    "\n",
    "# [Pick-up Process] 06: \n",
    "@constraint(cd_modl3, p_pick_qnt[i = P3, j = P3,  k=m3; i!=j],\n",
    "    y3_i[j] \n",
    "    - y3_i[i] \n",
    "    - p_i[j] \n",
    "    + Q \n",
    "    - (Q*(x3_ijk[i,j,k] + x3_ijk[j,i,k])) \n",
    "    + ((p_i[j]+p_i[i])*x3_ijk[j,i,k])\n",
    "    >= 0)\n",
    "\n",
    "# [Pick-up Process] 07: \n",
    "@constraint(cd_modl3, p_pick_qnt2[i = O_dum_pick, j = P3, k=m3],\n",
    "    y3_i[j]\n",
    "    - x3_ijk[i,j,k]*p_i[j]\n",
    "    - (1-x3_ijk[i,j,k])*Q\n",
    "    <= 0)\n",
    "\n",
    "# [Pick-up Process] 08a: \n",
    "@constraint(cd_modl3, pick_cap1[i = P3],\n",
    "    y3_i[i] >= p_i[i] )\n",
    "\n",
    "# [Pick-up Process] 08b: \n",
    "@constraint(cd_modl3, pick_cap2[i = P3],\n",
    "    y3_i[i] <= Q)"
   ]
  },
  {
   "cell_type": "code",
   "execution_count": 136,
   "metadata": {},
   "outputs": [
    {
     "ename": "LoadError",
     "evalue": "KeyError: key 1 not found",
     "output_type": "error",
     "traceback": [
      "KeyError: key 1 not found",
      "",
      "Stacktrace:",
      " [1] getindex at .\\dict.jl:467 [inlined]",
      " [2] lookup_index at C:\\Users\\ahmedf\\.julia\\packages\\JuMP\\qhoVb\\src\\Containers\\DenseAxisArray.jl:140 [inlined]",
      " [3] _to_index_tuple at C:\\Users\\ahmedf\\.julia\\packages\\JuMP\\qhoVb\\src\\Containers\\DenseAxisArray.jl:149 [inlined] (repeats 3 times)",
      " [4] to_index at C:\\Users\\ahmedf\\.julia\\packages\\JuMP\\qhoVb\\src\\Containers\\DenseAxisArray.jl:167 [inlined]",
      " [5] getindex(::JuMP.Containers.DenseAxisArray{VariableRef,3,Tuple{Array{Int64,1},Array{Int64,1},Array{Int64,1}},Tuple{Dict{Int64,Int64},Dict{Int64,Int64},Dict{Int64,Int64}}}, ::Int64, ::Int64, ::Int64) at C:\\Users\\ahmedf\\.julia\\packages\\JuMP\\qhoVb\\src\\Containers\\DenseAxisArray.jl:182",
      " [6] macro expansion at C:\\Users\\ahmedf\\.julia\\packages\\MutableArithmetics\\0tlz5\\src\\rewrite.jl:227 [inlined]",
      " [7] macro expansion at C:\\Users\\ahmedf\\.julia\\packages\\JuMP\\qhoVb\\src\\macros.jl:440 [inlined]",
      " [8] (::var\"#505#506\")(::Int64) at C:\\Users\\ahmedf\\.julia\\packages\\JuMP\\qhoVb\\src\\Containers\\macro.jl:183",
      " [9] #28 at C:\\Users\\ahmedf\\.julia\\packages\\JuMP\\qhoVb\\src\\Containers\\container.jl:85 [inlined]",
      " [10] iterate at .\\generator.jl:47 [inlined]",
      " [11] collect(::Base.Generator{JuMP.Containers.VectorizedProductIterator{Tuple{Array{Int64,1}}},JuMP.Containers.var\"#28#29\"{var\"#505#506\"}}) at .\\array.jl:686",
      " [12] map(::Function, ::JuMP.Containers.VectorizedProductIterator{Tuple{Array{Int64,1}}}) at .\\abstractarray.jl:2188",
      " [13] container(::Function, ::JuMP.Containers.VectorizedProductIterator{Tuple{Array{Int64,1}}}, ::Type{JuMP.Containers.DenseAxisArray}) at C:\\Users\\ahmedf\\.julia\\packages\\JuMP\\qhoVb\\src\\Containers\\container.jl:85",
      " [14] container(::Function, ::JuMP.Containers.VectorizedProductIterator{Tuple{Array{Int64,1}}}) at C:\\Users\\ahmedf\\.julia\\packages\\JuMP\\qhoVb\\src\\Containers\\container.jl:65",
      " [15] top-level scope at C:\\Users\\ahmedf\\.julia\\packages\\JuMP\\qhoVb\\src\\macros.jl:91",
      " [16] top-level scope at In[136]:10",
      " [17] include_string(::Function, ::Module, ::String, ::String) at .\\loading.jl:1091"
     ]
    }
   ],
   "source": [
    "#*****************************************\n",
    "# Constraints\n",
    "#*****************************************\n",
    "m3_del  = [1, 3, 4]\n",
    "\n",
    "# Delivery Process\n",
    "#----------------\n",
    "\n",
    "# [Delivery Process] 01: only one vehicle can arrive at a pickup node\n",
    "@constraint(cd_modl3, d_node_entry[j= D],\n",
    "                    sum(x3_ijk[i,j,k] for i=vcat(O_del, D) for k=m3_del if i != j) == 1)\n",
    "\n",
    "# [Delivery Process] 02: Only one vehicle depart from the pickup node\n",
    "@constraint(cd_modl3, d_node_exit[i= D],\n",
    "                    sum(x3_ijk[i,j,k] for j=vcat(D,O_dum_del) for k=m3_del if i != j) == 1)\n",
    "\n",
    "# [Delivery Process] 03: Consecutive movement of vehicles\n",
    "@constraint(cd_modl3, cons_move_del[l = D, k=m3_del],\n",
    "    sum(x3_ijk[i,l,k] for i=vcat(O_del, D) if i != l) \n",
    "    -sum(x3_ijk[l,j,k] for j=vcat(D,O_dum_del) if j != l) \n",
    "    == 0)\n",
    "\n",
    "# [Delivery Process] 04: vehicle enter at dummy cross dock after last delivery\n",
    "@constraint(cd_modl3, d_dum_enter[k=m3_del],\n",
    "    sum(x3_ijk[i,j,k] for i= D for j = O_dum_del) <= 1)\n",
    "\n",
    "# [Delivery Process] 05: vehicle leave cross dock\n",
    "@constraint(cd_modl3, d_cd_leave[k=m3_del],\n",
    "    sum(x3_ijk[i,j,k] for i= O_del for j = D) <= 1)\n",
    "\n",
    "# [Delivery Process] 06: \n",
    "@constraint(cd_modl3, d_del_qnt[i = D, j = D, k=m3_del; i!=j],\n",
    "    y3_i[j] \n",
    "    - y3_i[i] \n",
    "    - d_i[j] \n",
    "    + Q \n",
    "    - (Q*(x3_ijk[i,j,k] + x3_ijk[j,i,k])) \n",
    "    + ((d_i[j]+d_i[i])*x3_ijk[j,i,k])\n",
    "    >= 0)\n",
    "\n",
    "# [Delivery Process] 07: \n",
    "@constraint(cd_modl3, d_del_qnt2[i = O_del, j = D, k=m3_del],\n",
    "    y3_i[j]\n",
    "    - x3_ijk[i,j,k]*d_i[j]\n",
    "    - (1-x3_ijk[i,j,k])*Q\n",
    "    <= 0)"
   ]
  },
  {
   "cell_type": "code",
   "execution_count": 122,
   "metadata": {},
   "outputs": [
    {
     "data": {
      "text/plain": [
       "4-element Array{ConstraintRef{Model,MathOptInterface.ConstraintIndex{MathOptInterface.ScalarAffineFunction{Float64},MathOptInterface.LessThan{Float64}},ScalarShape},1}:\n",
       " time_hor[1] : 70 x3_ijk[5,6,1] + 70 x3_ijk[7,6,1] + 80 x3_ijk[5,7,1] + 70 x3_ijk[6,7,1] + 60 x3_ijk[6,8,1] + 60 x3_ijk[7,8,1] + t3_pick[1] <= 945.0\n",
       " time_hor[2] : 70 x3_ijk[5,6,2] + 70 x3_ijk[7,6,2] + 80 x3_ijk[5,7,2] + 70 x3_ijk[6,7,2] + 60 x3_ijk[6,8,2] + 60 x3_ijk[7,8,2] + t3_pick[1] <= 945.0\n",
       " time_hor[3] : 70 x3_ijk[5,6,3] + 70 x3_ijk[7,6,3] + 80 x3_ijk[5,7,3] + 70 x3_ijk[6,7,3] + 60 x3_ijk[6,8,3] + 60 x3_ijk[7,8,3] + t3_pick[1] <= 945.0\n",
       " time_hor[4] : 70 x3_ijk[5,6,4] + 70 x3_ijk[7,6,4] + 80 x3_ijk[5,7,4] + 70 x3_ijk[6,7,4] + 60 x3_ijk[6,8,4] + 60 x3_ijk[7,8,4] + t3_pick[1] <= 945.0"
      ]
     },
     "execution_count": 122,
     "metadata": {},
     "output_type": "execute_result"
    }
   ],
   "source": [
    "#*****************************************\n",
    "# Constraints\n",
    "#*****************************************\n",
    "\n",
    "# @cross dock:: Connection Between Pickup and Delivery Process (using time)\n",
    "#------------------------------------------------------------\n",
    "\n",
    "# [cross-dock] 01: track time for product collection in the pickup process\n",
    "@constraint(cd_modl3, cd_prod_col[k = 1: m],\n",
    "    AT3_k[k]\n",
    "    -sum(t_ij[i,j] * x3_ijk[i,j,k] for i=vcat(O_dum_pick, P3) for j=vcat(P3, O_pick) if i != j) >= 0)\n",
    "\n",
    "# [cross-dock] 02: all trucks arrive at the same time at cross-dock\n",
    "@constraint(cd_modl3, cd_truck_arr[k = m3, k_prime = m3; k != k_prime],\n",
    "    AT3_k[k] - AT3_k[k_prime] == 0)\n",
    "\n",
    "# [cross-dock] 03: total time at the pickup process\n",
    "@constraint(cd_modl3, time_pick[k = m3],\n",
    "    t3_pick[o_pick] - AT3_k[k] >= 0)\n",
    "\n",
    "# [cross-dock] 04: total transportation time and processing time does not exceed the planning horizon T_max\n",
    "@constraint(cd_modl3, time_hor[k = 1: m],\n",
    "    t3_pick[o_pick]+ T_o + sum(t_ij[i,j] * x3_ijk[i,j,k] for i = vcat(O_del, D) for j = vcat(D, O_dum_del)) - T_max <= 0)"
   ]
  },
  {
   "cell_type": "code",
   "execution_count": 124,
   "metadata": {},
   "outputs": [
    {
     "data": {
      "text/latex": [
       "$$ 30 x3_ijk_{1,3,3} + 40 x3_ijk_{3,4,3} + 70 x3_ijk_{5,6,1} + 70 x3_ijk_{5,6,3} + 70 x3_ijk_{5,6,4} + 80 x3_ijk_{5,7,1} + 80 x3_ijk_{5,7,3} + 80 x3_ijk_{5,7,4} + 70 x3_ijk_{6,7,1} + 70 x3_ijk_{6,7,3} + 70 x3_ijk_{6,7,4} + 60 x3_ijk_{6,8,1} + 60 x3_ijk_{6,8,3} + 60 x3_ijk_{6,8,4} + 70 x3_ijk_{7,6,1} + 70 x3_ijk_{7,6,3} + 70 x3_ijk_{7,6,4} + 60 x3_ijk_{7,8,1} + 60 x3_ijk_{7,8,3} + 60 x3_ijk_{7,8,4} $$"
      ],
      "text/plain": [
       "30 x3_ijk[1,3,3] + 40 x3_ijk[3,4,3] + 70 x3_ijk[5,6,1] + 70 x3_ijk[5,6,3] + 70 x3_ijk[5,6,4] + 80 x3_ijk[5,7,1] + 80 x3_ijk[5,7,3] + 80 x3_ijk[5,7,4] + 70 x3_ijk[6,7,1] + 70 x3_ijk[6,7,3] + 70 x3_ijk[6,7,4] + 60 x3_ijk[6,8,1] + 60 x3_ijk[6,8,3] + 60 x3_ijk[6,8,4] + 70 x3_ijk[7,6,1] + 70 x3_ijk[7,6,3] + 70 x3_ijk[7,6,4] + 60 x3_ijk[7,8,1] + 60 x3_ijk[7,8,3] + 60 x3_ijk[7,8,4]"
      ]
     },
     "execution_count": 124,
     "metadata": {},
     "output_type": "execute_result"
    }
   ],
   "source": [
    "#*****************************************\n",
    "# Objective\n",
    "#*****************************************\n",
    "\n",
    "@objective(cd_modl3, Min, \n",
    "    sum(t_ij[i,j]*x3_ijk[i,j,k] for i=vcat(O_dum_pick, P3) for j=vcat(P3, O_pick) for k=m3) \n",
    "    + sum(t_ij[i,j]*x3_ijk[i,j,k] for i=vcat(O_del, D) for j=vcat(D, O_dum_del) for k=m3_del))"
   ]
  },
  {
   "cell_type": "code",
   "execution_count": 165,
   "metadata": {},
   "outputs": [],
   "source": [
    "optimize!(cd_modl3)"
   ]
  },
  {
   "cell_type": "code",
   "execution_count": 166,
   "metadata": {},
   "outputs": [
    {
     "name": "stdout",
     "output_type": "stream",
     "text": [
      "objective_value(cd_modl3) = 0.0\n"
     ]
    },
    {
     "data": {
      "text/plain": [
       "0.0"
      ]
     },
     "execution_count": 166,
     "metadata": {},
     "output_type": "execute_result"
    }
   ],
   "source": [
    "@show objective_value(cd_modl3)"
   ]
  },
  {
   "cell_type": "code",
   "execution_count": 128,
   "metadata": {},
   "outputs": [
    {
     "name": "stdout",
     "output_type": "stream",
     "text": [
      "\n",
      "veh: 1\t5-->6\t6-->8\t\n",
      "veh: 3\t1-->3\t2-->3\t3-->4\t5-->7\t7-->8\t\n",
      "veh: 4\t"
     ]
    }
   ],
   "source": [
    "# vehicle routing information\n",
    "\n",
    "for k=m3_del\n",
    "    print(\"\\nveh: \", k, \"\\t\")\n",
    "    for i= 1:n\n",
    "        for j=1:n\n",
    "            if value.(x3_ijk[i,j,k]) == 1\n",
    "                print(i, \"-->\", j, \"\\t\")\n",
    "            end\n",
    "        end\n",
    "    end\n",
    "end"
   ]
  },
  {
   "cell_type": "code",
   "execution_count": 129,
   "metadata": {},
   "outputs": [
    {
     "name": "stdout",
     "output_type": "stream",
     "text": [
      "\n",
      "veh: 3\t1-->3\t2-->3\t3-->4\t5-->7\t7-->8\t"
     ]
    }
   ],
   "source": [
    "# vehicle routing information\n",
    "\n",
    "for k=m3\n",
    "    print(\"\\nveh: \", k, \"\\t\")\n",
    "    for i= 1:n\n",
    "        for j=1:n\n",
    "            if value.(x3_ijk[i,j,k]) == 1\n",
    "                print(i, \"-->\", j, \"\\t\")\n",
    "            end\n",
    "        end\n",
    "    end\n",
    "end"
   ]
  }
 ],
 "metadata": {
  "kernelspec": {
   "display_name": "JuliaPro_v1.5.2-1 1.5.2",
   "language": "julia",
   "name": "juliapro_v1.5.2-1-1.5"
  },
  "language_info": {
   "file_extension": ".jl",
   "mimetype": "application/julia",
   "name": "julia",
   "version": "1.5.2"
  }
 },
 "nbformat": 4,
 "nbformat_minor": 4
}
