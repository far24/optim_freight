{
 "cells": [
  {
   "cell_type": "markdown",
   "metadata": {},
   "source": [
    "---\n",
    "title: \"VRPCD with information exchange\"\n",
    "author: \"FA\"\n",
    "date: 2021-01-07\n",
    "tags: [\"VRPCD\", \"realtime\", \"information exchange\"]\n",
    "categories: \"research\"\n",
    "---"
   ]
  },
  {
   "cell_type": "code",
   "execution_count": 1,
   "metadata": {},
   "outputs": [],
   "source": [
    "#*****************************************\n",
    "# Necessary Package\n",
    "#*****************************************\n",
    "using Random\n",
    "using JuMP\n",
    "using LinearAlgebra\n",
    "using GLPK"
   ]
  },
  {
   "cell_type": "code",
   "execution_count": 2,
   "metadata": {},
   "outputs": [
    {
     "name": "stdout",
     "output_type": "stream",
     "text": [
      "[2, 3][5, 6][4][1, 2, 3, 4][4, 5, 6, 7][1, 2, 3, 4, 5, 6, 7][\"v1\", \"v2\"]"
     ]
    }
   ],
   "source": [
    "#*****************************************\n",
    "# Network Property\n",
    "#*****************************************\n",
    "# P: set of pickup nodes\n",
    "P = [2,3]\n",
    "\n",
    "# D: set of delivery nodes\n",
    "D = [5,6]\n",
    "\n",
    "# O: cross-dock (assume single cross dock in the network)\n",
    "O = [4]\n",
    "\n",
    "# O1: dummy cross-dock\n",
    "O_pickup = [1]\n",
    "O_delivery = [7]\n",
    "\n",
    "# pickup nodes\n",
    "N_pickup = vcat(O_pickup, P, O)\n",
    "\n",
    "# delivery nodes\n",
    "N_delivery = vcat(O, D, O_delivery)\n",
    "\n",
    "# all nodes\n",
    "N = vcat(O_pickup, P, O, D, O_delivery)\n",
    "\n",
    "# M: set of available vehicles\n",
    "M = [\"v1\", \"v2\"]\n",
    "\n",
    "# may be we need to position each entity in a graph to find distance/ time automatically\n",
    "print(P,D,O,N_pickup, N_delivery, N, M)\n"
   ]
  },
  {
   "cell_type": "code",
   "execution_count": 27,
   "metadata": {},
   "outputs": [
    {
     "data": {
      "text/plain": [
       "960"
      ]
     },
     "execution_count": 27,
     "metadata": {},
     "output_type": "execute_result"
    }
   ],
   "source": [
    "#****************************************\n",
    "# parameters\n",
    "#*****************************************\n",
    "# p = number of pickup nodes\n",
    "p = length(P)\n",
    "\n",
    "# d = number of delivery nodes\n",
    "d = length(D)\n",
    "\n",
    "# o = number of cross dock\n",
    "o = length(O)\n",
    "\n",
    "# p_cd: number of nodes in pickup process (dummy CD + P + CD)\n",
    "p_cd = length(N_pickup)\n",
    "\n",
    "# d_cd: number of nodes in delivery process (CD + P + dummy CD)\n",
    "d_cd = length(N_delivery)\n",
    "\n",
    "# n: total nodes in the network\n",
    "n = length(N)\n",
    "\n",
    "# number of availble vehicles\n",
    "m = length(M)\n",
    "\n",
    "# p_i: quantity of products to be collected at pickup node i; [include product type in future]\n",
    "p_i = [0, 50, 50]\n",
    "\n",
    "# d_i: quantity of products to be delivered at delivery node i; [include product type in future]\n",
    "d_i = [0, 0, 0, 0, 50, 50]\n",
    "\n",
    "# capacity of vehicle (homogenous)\n",
    "Q = 50\n",
    "\n",
    "# Random.seed!(314)\n",
    "# c_ij = the travel time (minutes)/cost between node i and node j; (assuming the cost is the same as the time req.)\n",
    "t_ij_pick = \n",
    "    [0 20 30 0;\n",
    "    20 0 50 40;\n",
    "    30 50 0 40;\n",
    "    0 40 40 0]\n",
    "\n",
    "t_ij_del = \n",
    "    [0 70 80 0;\n",
    "    20 0 70 60;\n",
    "    80 70 0 60;\n",
    "    0 60 60 0]\n",
    "\n",
    "# Cross-dock activity time\n",
    "T_o = 15\n",
    "\n",
    "# time horizon (16 hr a day)\n",
    "T_max = 16*60"
   ]
  },
  {
   "cell_type": "code",
   "execution_count": 4,
   "metadata": {},
   "outputs": [
    {
     "data": {
      "text/latex": [
       "$$ \\begin{alignat*}{1}\\text{feasibility}\\\\\n",
       "\\text{Subject to} \\quad\\end{alignat*}\n",
       " $$"
      ],
      "text/plain": [
       "A JuMP Model\n",
       "Feasibility problem with:\n",
       "Variables: 0\n",
       "Model mode: AUTOMATIC\n",
       "CachingOptimizer state: EMPTY_OPTIMIZER\n",
       "Solver name: GLPK"
      ]
     },
     "execution_count": 4,
     "metadata": {},
     "output_type": "execute_result"
    }
   ],
   "source": [
    "# ****************************************\n",
    "# Create a JuMP model\n",
    "# ****************************************\n",
    "cd_modl = Model(GLPK.Optimizer)"
   ]
  },
  {
   "cell_type": "code",
   "execution_count": 5,
   "metadata": {},
   "outputs": [
    {
     "data": {
      "text/plain": [
       "2-element Array{VariableRef,1}:\n",
       " AT_k[1]\n",
       " AT_k[2]"
      ]
     },
     "execution_count": 5,
     "metadata": {},
     "output_type": "execute_result"
    }
   ],
   "source": [
    "# ****************************************\n",
    "# Decision variables\n",
    "#*****************************************\n",
    "# x_ijk = 1 if vehicle k travels from node i to node j; 0 otherwise;\n",
    "@variable(cd_modl, x_ijk[i=1:n, j=1:n, k=1:m], Bin)\n",
    "\n",
    "# y_i = total quantity of collected/delivered products after leaving node i\n",
    "@variable(cd_modl, y_i[i = 1:n], Int)\n",
    "\n",
    "# t_pickup = latest arrival time a cross dock\n",
    "@variable(cd_modl, t_pick[pick = 1:o])\n",
    "\n",
    "# AT_k = arrival time of vehicle k at the cross-dock\n",
    "@variable(cd_modl, AT_k[k =1:m])"
   ]
  },
  {
   "cell_type": "code",
   "execution_count": 6,
   "metadata": {},
   "outputs": [
    {
     "data": {
      "text/plain": [
       "1-dimensional DenseAxisArray{ConstraintRef{Model,MathOptInterface.ConstraintIndex{MathOptInterface.ScalarAffineFunction{Float64},MathOptInterface.EqualTo{Float64}},ScalarShape},1,...} with index sets:\n",
       "    Dimension 1, [2, 3]\n",
       "And data, a 2-element Array{ConstraintRef{Model,MathOptInterface.ConstraintIndex{MathOptInterface.ScalarAffineFunction{Float64},MathOptInterface.EqualTo{Float64}},ScalarShape},1}:\n",
       " p_node_entry[2] : x_ijk[1,2,1] + x_ijk[3,2,1] + x_ijk[1,2,2] + x_ijk[3,2,2] == 1.0\n",
       " p_node_entry[3] : x_ijk[1,3,1] + x_ijk[2,3,1] + x_ijk[1,3,2] + x_ijk[2,3,2] == 1.0"
      ]
     },
     "execution_count": 6,
     "metadata": {},
     "output_type": "execute_result"
    }
   ],
   "source": [
    "#*****************************************\n",
    "# Constraints\n",
    "#*****************************************\n",
    "\n",
    "# Pick-up Process\n",
    "#----------------\n",
    "\n",
    "\n",
    "# [Pick-up Process] 01: only one vehicle can arrive at a pickup node\n",
    "@constraint(cd_modl, p_node_entry[j= P],\n",
    "                    sum(x_ijk[i,j,k] for i=vcat(O_pickup, P) for k=1:m if i != j) == 1)\n",
    "\n",
    "#[Pick-up Process] 02: Only one vehicle depart from the pickup node\n",
    "@constraint(cd_modl, p_node_exit[i= P],\n",
    "                    sum(x_ijk[i,j,k] for j=vcat(P,O) for k=1:m if i != j) == 1)\n",
    "\n",
    "# [Pick-up Process] 03: Consecutive movement of vehicles\n",
    "@constraint(cd_modl, cons_move[l = P, k=1:m],\n",
    "    sum(x_ijk[i,l,k] for i=vcat(O_pickup, P) if i != l) \n",
    "    -sum(x_ijk[l,j,k] for j=vcat(P,O) if j != l) \n",
    "    == 0)\n",
    "\n",
    "# [Pick-up Process] 04: vehicle leave at dummy cross dock\n",
    "@constraint(cd_modl, p_dum_leave[k=1:m],\n",
    "    sum(x_ijk[i,j,k] for i=O_pickup for j = P) <= 1)\n",
    "\n",
    "# [Pick-up Process] 04: vehicle leave at dummy cross dock\n",
    "@constraint(cd_modl, p_dum_leave[k=1:m],\n",
    "    sum(x_ijk[i,j,k] for i=O_pickup for j = P) <= 1)\n",
    "\n",
    "# [Pick-up Process] 05: vehicle that leave at dummy cross dock visit cross dock immdiately after last pickup\n",
    "@constraint(cd_modl, p_cd_entry[k=1:m],\n",
    "    sum(x_ijk[i,j,k] for i= P for j = O) <= 1)\n",
    "\n",
    "# [Pick-up Process] 06: \n",
    "@constraint(cd_modl, p_pick_qnt[i = P, j = P, k=1:m; i!=j],\n",
    "    y_i[j] \n",
    "    - y_i[i] \n",
    "    - p_i[j] \n",
    "    + Q \n",
    "    - (Q*(x_ijk[i,j,k] + x_ijk[i,j,k])) \n",
    "    + ((p_i[j]+p_i[i])*x_ijk[i,j,k])\n",
    "    >= 0)\n",
    "\n",
    "# [Pick-up Process] 07: \n",
    "@constraint(cd_modl, p_pick_qnt2[i = O_pickup, j = P, k=1:m],\n",
    "    y_i[j]\n",
    "    - x_ijk[i,j,k]*p_i[j]\n",
    "    - (1-x_ijk[i,j,k])*Q\n",
    "    <= 0)\n",
    "\n",
    "# [Pick-up Process] 08a: \n",
    "@constraint(cd_modl, pick_cap1[i = P],\n",
    "    y_i[i] >= p_i[i] )\n",
    "\n",
    "# [Pick-up Process] 08b: \n",
    "@constraint(cd_modl, pick_cap2[i = P],\n",
    "    y_i[i] <= Q)"
   ]
  },
  {
   "cell_type": "code",
   "execution_count": 15,
   "metadata": {},
   "outputs": [
    {
     "data": {
      "text/plain": [
       "1-dimensional DenseAxisArray{ConstraintRef{Model,MathOptInterface.ConstraintIndex{MathOptInterface.ScalarAffineFunction{Float64},MathOptInterface.LessThan{Float64}},ScalarShape},1,...} with index sets:\n",
       "    Dimension 1, [5, 6]\n",
       "And data, a 2-element Array{ConstraintRef{Model,MathOptInterface.ConstraintIndex{MathOptInterface.ScalarAffineFunction{Float64},MathOptInterface.LessThan{Float64}},ScalarShape},1}:\n",
       " del_cap2[5] : y_i[5] <= 50.0\n",
       " del_cap2[6] : y_i[6] <= 50.0"
      ]
     },
     "execution_count": 15,
     "metadata": {},
     "output_type": "execute_result"
    }
   ],
   "source": [
    "# Delivery Process\n",
    "#----------------\n",
    "\n",
    "# [Delivery Process] 01: only one vehicle can arrive at a pickup node\n",
    "@constraint(cd_modl, d_node_entry[j= D],\n",
    "                    sum(x_ijk[i,j,k] for i=vcat(O, D) for k=1:m if i != j) == 1)\n",
    "\n",
    "# [Delivery Process] 02: Only one vehicle depart from the pickup node\n",
    "@constraint(cd_modl, d_node_exit[i= D],\n",
    "                    sum(x_ijk[i,j,k] for j=vcat(D,O_delivery) for k=1:m if i != j) == 1)\n",
    "\n",
    "# [Delivery Process] 03: Consecutive movement of vehicles\n",
    "@constraint(cd_modl, cons_move_del[l = D, k=1:m],\n",
    "    sum(x_ijk[i,l,k] for i=vcat(O, D) if i != l) \n",
    "    -sum(x_ijk[l,j,k] for j=vcat(D,O_delivery) if j != l) \n",
    "    == 0)\n",
    "\n",
    "# [Delivery Process] 04: vehicle enter at dummy cross dock after last delivery\n",
    "@constraint(cd_modl, d_dum_enter[k=1:m],\n",
    "    sum(x_ijk[i,j,k] for i= D for j = O_delivery) <= 1)\n",
    "\n",
    "# [Delivery Process] 05: vehicle leave cross dock\n",
    "@constraint(cd_modl, d_cd_leave[k=1:m],\n",
    "    sum(x_ijk[i,j,k] for i= O for j = D) <= 1)\n",
    "\n",
    "# [Delivery Process] 06: \n",
    "@constraint(cd_modl, d_del_qnt[i = D, j = D, k=1:m; i!=j],\n",
    "    y_i[j] \n",
    "    - y_i[i] \n",
    "    - d_i[j] \n",
    "    + Q \n",
    "    - (Q*(x_ijk[i,j,k] + x_ijk[i,j,k])) \n",
    "    + ((d_i[j]+d_i[i])*x_ijk[i,j,k])\n",
    "    >= 0)\n",
    "\n",
    "# [Delivery Process] 07: \n",
    "@constraint(cd_modl, d_del_qnt2[i = O, j = D, k=1:m],\n",
    "    y_i[j]\n",
    "    - x_ijk[i,j,k]*d_i[j]\n",
    "    - (1-x_ijk[i,j,k])*Q\n",
    "    <= 0)\n",
    "\n",
    "# [Delivery Process] 08a: \n",
    "@constraint(cd_modl, del_cap1[i = D],\n",
    "    y_i[i] >= d_i[i] )\n",
    "\n",
    "# [Delivery Process] 08b: \n",
    "@constraint(cd_modl, del_cap2[i = D],\n",
    "    y_i[i] <= Q)"
   ]
  },
  {
   "cell_type": "code",
   "execution_count": 17,
   "metadata": {},
   "outputs": [
    {
     "data": {
      "text/plain": [
       "2-element Array{ConstraintRef{Model,MathOptInterface.ConstraintIndex{MathOptInterface.ScalarAffineFunction{Float64},MathOptInterface.GreaterThan{Float64}},ScalarShape},1}:\n",
       " cd_prod_col[1] : -20 x_ijk[1,2,1] - 50 x_ijk[3,2,1] - 30 x_ijk[1,3,1] - 50 x_ijk[2,3,1] - 40 x_ijk[2,4,1] - 40 x_ijk[3,4,1] + AT_k[1] >= 0.0\n",
       " cd_prod_col[2] : -20 x_ijk[1,2,2] - 50 x_ijk[3,2,2] - 30 x_ijk[1,3,2] - 50 x_ijk[2,3,2] - 40 x_ijk[2,4,2] - 40 x_ijk[3,4,2] + AT_k[2] >= 0.0"
      ]
     },
     "execution_count": 17,
     "metadata": {},
     "output_type": "execute_result"
    }
   ],
   "source": [
    "# @cross dock:: Connection Between Pickup and Delivery Process (using time)\n",
    "#------------------------------------------------------------\n",
    "\n",
    "# [cross-dock] 01: track time for product collection in the pickup process\n",
    "@constraint(cd_modl, cd_prod_col[k = 1: m],\n",
    "    AT_k[k]\n",
    "    -sum(t_ij_pick[i,j] * x_ijk[i,j,k] for i=vcat(O_pickup, P) for j=vcat(P, O) if i != j) >= 0)"
   ]
  },
  {
   "cell_type": "code",
   "execution_count": 23,
   "metadata": {},
   "outputs": [
    {
     "ename": "LoadError",
     "evalue": "An object of name cd_truck_arr is already attached to this model. If this is intended, consider using the anonymous construction syntax, e.g., x = @variable(model, [1:N], ...) where the name of the object does not appear inside the macro.",
     "output_type": "error",
     "traceback": [
      "An object of name cd_truck_arr is already attached to this model. If this is intended, consider using the anonymous construction syntax, e.g., x = @variable(model, [1:N], ...) where the name of the object does not appear inside the macro.",
      "",
      "Stacktrace:",
      " [1] error(::String) at .\\error.jl:33",
      " [2] _error_if_cannot_register(::Model, ::Symbol) at C:\\Users\\ahmedf\\.julia\\packages\\JuMP\\qhoVb\\src\\macros.jl:64",
      " [3] top-level scope at C:\\Users\\ahmedf\\.julia\\packages\\JuMP\\qhoVb\\src\\macros.jl:87",
      " [4] top-level scope at In[23]:2",
      " [5] include_string(::Function, ::Module, ::String, ::String) at .\\loading.jl:1091"
     ]
    }
   ],
   "source": [
    "# [cross-dock] 02: all trucks arrive at the same time at cross-dock\n",
    "@constraint(cd_modl, cd_truck_arr[k = 1: m, k_prime = 1:m; k != k_prime],\n",
    "    AT_k[k] - AT_k[k_prime] == 0)"
   ]
  },
  {
   "cell_type": "code",
   "execution_count": 26,
   "metadata": {},
   "outputs": [
    {
     "data": {
      "text/plain": [
       "2-element Array{ConstraintRef{Model,MathOptInterface.ConstraintIndex{MathOptInterface.ScalarAffineFunction{Float64},MathOptInterface.GreaterThan{Float64}},ScalarShape},1}:\n",
       " time_pick[1] : t_pick[1] - AT_k[1] >= 0.0\n",
       " time_pick[2] : t_pick[1] - AT_k[2] >= 0.0"
      ]
     },
     "execution_count": 26,
     "metadata": {},
     "output_type": "execute_result"
    }
   ],
   "source": [
    "# [cross-dock] 03: total time at the pickup process\n",
    "@constraint(cd_modl, time_pick[k = 1: m],\n",
    "    t_pick[o] - AT_k[k] >= 0)"
   ]
  },
  {
   "cell_type": "code",
   "execution_count": 38,
   "metadata": {},
   "outputs": [
    {
     "data": {
      "text/plain": [
       "2-element Array{ConstraintRef{Model,MathOptInterface.ConstraintIndex{MathOptInterface.ScalarAffineFunction{Float64},MathOptInterface.LessThan{Float64}},ScalarShape},1}:\n",
       " time_hor[1] : 70 x_ijk[1,2,1] + 70 x_ijk[3,2,1] + 80 x_ijk[1,3,1] + 70 x_ijk[2,3,1] + 60 x_ijk[2,4,1] + 60 x_ijk[3,4,1] + t_pick[1] <= 945.0\n",
       " time_hor[2] : 70 x_ijk[1,2,2] + 70 x_ijk[3,2,2] + 80 x_ijk[1,3,2] + 70 x_ijk[2,3,2] + 60 x_ijk[2,4,2] + 60 x_ijk[3,4,2] + t_pick[1] <= 945.0"
      ]
     },
     "execution_count": 38,
     "metadata": {},
     "output_type": "execute_result"
    }
   ],
   "source": [
    "# [cross-dock] 04: total transportation time and processing time does not exceed the planning horizon T_max\n",
    "@constraint(cd_modl, time_hor[k = 1: m],\n",
    "    t_pick[o]+ T_o + sum(t_ij_del[i,j] * x_ijk[i,j,k] for i = vcat(O, D) - [3,3,3] for j = vcat(D, O_delivery)- [3,3,3]) - T_max <= 0)"
   ]
  },
  {
   "cell_type": "code",
   "execution_count": 41,
   "metadata": {},
   "outputs": [
    {
     "data": {
      "text/latex": [
       "$$ 40 x_ijk_{1,2,1} + 40 x_ijk_{1,2,2} + 60 x_ijk_{1,3,1} + 60 x_ijk_{1,3,2} + 100 x_ijk_{2,3,1} + 100 x_ijk_{2,3,2} + 80 x_ijk_{2,4,1} + 80 x_ijk_{2,4,2} + 100 x_ijk_{3,2,1} + 100 x_ijk_{3,2,2} + 80 x_ijk_{3,4,1} + 80 x_ijk_{3,4,2} $$"
      ],
      "text/plain": [
       "40 x_ijk[1,2,1] + 40 x_ijk[1,2,2] + 60 x_ijk[1,3,1] + 60 x_ijk[1,3,2] + 100 x_ijk[2,3,1] + 100 x_ijk[2,3,2] + 80 x_ijk[2,4,1] + 80 x_ijk[2,4,2] + 100 x_ijk[3,2,1] + 100 x_ijk[3,2,2] + 80 x_ijk[3,4,1] + 80 x_ijk[3,4,2]"
      ]
     },
     "execution_count": 41,
     "metadata": {},
     "output_type": "execute_result"
    }
   ],
   "source": [
    "#*****************************************\n",
    "# Objective\n",
    "#*****************************************\n",
    "\n",
    "@objective(cd_modl, Min, sum(t_ij_pick[i,j]*x_ijk[i,j,k] for i=vcat(O_pickup, P) for j=vcat(P, O) for k=1:m) + sum(t_ij_pick[i,j]*x_ijk[i,j,k] for i=vcat(O, D) - [3,3,3] for j=vcat(D, O_delivery)-[3,3,3] for k=1:m))"
   ]
  },
  {
   "cell_type": "code",
   "execution_count": 42,
   "metadata": {},
   "outputs": [],
   "source": [
    "optimize!(cd_modl)"
   ]
  },
  {
   "cell_type": "code",
   "execution_count": 43,
   "metadata": {},
   "outputs": [
    {
     "name": "stdout",
     "output_type": "stream",
     "text": [
      "objective_value(cd_modl) = 200.0\n"
     ]
    },
    {
     "data": {
      "text/plain": [
       "200.0"
      ]
     },
     "execution_count": 43,
     "metadata": {},
     "output_type": "execute_result"
    }
   ],
   "source": [
    "@show objective_value(cd_modl)"
   ]
  },
  {
   "cell_type": "code",
   "execution_count": 44,
   "metadata": {},
   "outputs": [
    {
     "name": "stdout",
     "output_type": "stream",
     "text": [
      "value.(x_ijk) = [0.0 0.0 0.0 0.0 0.0 0.0 0.0; 0.0 0.0 1.0 0.0 0.0 0.0 0.0; 0.0 1.0 0.0 0.0 0.0 0.0 0.0; 0.0 0.0 0.0 0.0 0.0 0.0 0.0; 0.0 0.0 0.0 0.0 0.0 1.0 0.0; 0.0 0.0 0.0 0.0 1.0 0.0 0.0; 0.0 0.0 0.0 0.0 0.0 0.0 0.0]\n",
      "\n",
      "[0.0 0.0 0.0 0.0 0.0 0.0 0.0; 0.0 0.0 0.0 0.0 0.0 0.0 0.0; 0.0 0.0 0.0 0.0 0.0 0.0 0.0; 0.0 0.0 0.0 0.0 0.0 0.0 0.0; 0.0 0.0 0.0 0.0 0.0 0.0 0.0; 0.0 0.0 0.0 0.0 0.0 0.0 0.0; 0.0 0.0 0.0 0.0 0.0 0.0 0.0]\n"
     ]
    }
   ],
   "source": [
    "@show value.(x_ijk);"
   ]
  },
  {
   "cell_type": "code",
   "execution_count": 45,
   "metadata": {},
   "outputs": [
    {
     "name": "stdout",
     "output_type": "stream",
     "text": [
      "value.(y_i) = [0.0, 50.0, 50.0, 0.0, 50.0, 50.0, 0.0]\n"
     ]
    }
   ],
   "source": [
    "@show value.(y_i);"
   ]
  },
  {
   "cell_type": "code",
   "execution_count": 46,
   "metadata": {},
   "outputs": [
    {
     "name": "stdout",
     "output_type": "stream",
     "text": [
      "value.(AT_k) = [100.0, 100.0]\n"
     ]
    }
   ],
   "source": [
    "@show value.(AT_k);"
   ]
  },
  {
   "cell_type": "code",
   "execution_count": 47,
   "metadata": {},
   "outputs": [
    {
     "name": "stdout",
     "output_type": "stream",
     "text": [
      "value.(t_pick) = [100.0]\n"
     ]
    }
   ],
   "source": [
    "@show value.(t_pick);"
   ]
  }
 ],
 "metadata": {
  "kernelspec": {
   "display_name": "JuliaPro_v1.5.2-1 1.5.2",
   "language": "julia",
   "name": "juliapro_v1.5.2-1-1.5"
  },
  "language_info": {
   "file_extension": ".jl",
   "mimetype": "application/julia",
   "name": "julia",
   "version": "1.5.2"
  }
 },
 "nbformat": 4,
 "nbformat_minor": 4
}
