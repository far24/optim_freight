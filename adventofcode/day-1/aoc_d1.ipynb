{
 "cells": [
  {
   "cell_type": "markdown",
   "metadata": {},
   "source": [
    "---\n",
    "title: \"AOC: Day 1\"\n",
    "author: \"FA\"\n",
    "date: \n",
    "tags:\n",
    "categories:\n",
    "---"
   ]
  },
  {
   "cell_type": "markdown",
   "metadata": {},
   "source": [
    "## Problem:\n",
    "Find the pair of numbers from a input that sum upto a certain number"
   ]
  },
  {
   "cell_type": "code",
   "execution_count": 1,
   "metadata": {},
   "outputs": [
    {
     "data": {
      "text/plain": [
       "[299, 366, 675, 979, 1456, 1721]"
      ]
     },
     "execution_count": 1,
     "metadata": {},
     "output_type": "execute_result"
    }
   ],
   "source": [
    "# the test data is sorted in ascending order\n",
    "test = [1721,979,366,299,675,1456]\n",
    "test = sorted(test)\n",
    "test"
   ]
  },
  {
   "cell_type": "markdown",
   "metadata": {},
   "source": [
    "## Solution Approach:\n",
    "Algorithm:\n",
    "1. Sort the provided data.  \n",
    "2. two indices pointing to the low and high end of the sorted input\n",
    "3. sum the values indicating the low and high indices\n",
    "4. if the sum is less than the total, then increase the low indices\n",
    "5. else if the sum is higher that the total, then decreaset the high indices\n",
    "6. repeat step 3 to 5 until the solution is reached."
   ]
  },
  {
   "cell_type": "code",
   "execution_count": 89,
   "metadata": {},
   "outputs": [],
   "source": [
    "def find_number(A, sum):\n",
    "    \"\"\"this function finds a number (sum) that is a summation of two numbers in the list (A)\"\"\"\n",
    "    # sort the list in ascending order\n",
    "    A.sort()\n",
    " \n",
    "    # maintain two indices pointing to end-points of the list\n",
    "    (low, high) = (0, len(A) - 1)\n",
    " \n",
    "    # reduce search space A[low..high] at each iteration of the loop\n",
    " \n",
    "    # loop till low is less than high\n",
    "    while low < high:\n",
    " \n",
    "        if A[low] + A[high] == sum:        # sum found\n",
    "            print(\"Pair found\")\n",
    "            print(A[low], A[high])\n",
    "            return\n",
    " \n",
    "        # increment low index if total is less than the desired sum\n",
    "        # decrement high index is total is more than the sum\n",
    "        if A[low] + A[high] < sum:\n",
    "            low = low + 1\n",
    "        else:\n",
    "            high = high - 1\n",
    "  \n",
    "    "
   ]
  },
  {
   "cell_type": "code",
   "execution_count": 90,
   "metadata": {},
   "outputs": [
    {
     "name": "stdout",
     "output_type": "stream",
     "text": [
      "Pair found\n",
      "299 1721\n"
     ]
    }
   ],
   "source": [
    "# test if the function works or not\n",
    "find_number([1721,979,366,299,675,1456], 2020)"
   ]
  },
  {
   "cell_type": "code",
   "execution_count": 91,
   "metadata": {},
   "outputs": [
    {
     "name": "stdout",
     "output_type": "stream",
     "text": [
      "[1713, 1281, 1185, 1501, 1462, 1752, 1363, 1799, 1071, 1446, 1685, 1706, 1726, 1567, 1867, 1376, 1445, 1971, 1429, 1749, 438, 1291, 1261, 1585, 1859, 1835, 1630, 1975, 1467, 1829, 1669, 1638, 1961, 1719, 1238, 1751, 1514, 1744, 1547, 1677, 1811, 1820, 1371, 740, 1925, 1803, 1753, 1208, 1772, 1642, 1140, 1838, 1444, 1321, 1556, 1635, 1687, 688, 1650, 1580, 1290, 1812, 1814, 1384, 1426, 1374, 1973, 1791, 1643, 1846, 1676, 1724, 1810, 1911, 1765, 945, 1357, 1919, 1994, 1697, 1632, 1449, 1539, 1725, 1963, 1879, 1731, 1904, 1392, 1823, 1420, 1504, 204, 1661, 1575, 1401, 1806, 1417, 1965, 1960, 1990, 1409, 1649, 1566, 1957, 514, 1464, 1352, 1841, 1601, 1473, 1309, 1421, 1190, 1582, 1825, 655, 1666, 1878, 1891, 1579, 1176, 1557, 1910, 1747, 1388, 1493, 1372, 1522, 1515, 1745, 1494, 1763, 1147, 1364, 1469, 1165, 1901, 1368, 1234, 1308, 1416, 1678, 1541, 1509, 1427, 1223, 1496, 1600, 1383, 1295, 1415, 1890, 1694, 1793, 1529, 1984, 1576, 1244, 1348, 1085, 1770, 1358, 1611, 1159, 1964, 1647, 818, 1246, 1458, 1936, 1370, 1659, 1923, 1619, 1604, 1354, 1118, 1657, 1945, 1898, 1948, 798, 769, 1689, 1821, 1979, 1460, 1832, 1596, 1679, 1818, 1815, 1977, 1634, 1828, 1386, 1284, 1569, 1970]\n"
     ]
    }
   ],
   "source": [
    "# read the data\n",
    "\n",
    "my_file = open(\"input.txt\", \"r\")\n",
    "content = my_file.read()\n",
    "content_list = content.split(\"\\n\")[:-1]\n",
    "my_file.close()\n",
    "\n",
    "data = [int(i) for i in content_list]\n",
    "print(data)"
   ]
  },
  {
   "cell_type": "code",
   "execution_count": 92,
   "metadata": {},
   "outputs": [
    {
     "name": "stdout",
     "output_type": "stream",
     "text": [
      "Pair found\n",
      "438 1582\n"
     ]
    }
   ],
   "source": [
    "find_number(data, 2020)"
   ]
  },
  {
   "cell_type": "code",
   "execution_count": 93,
   "metadata": {},
   "outputs": [
    {
     "name": "stdout",
     "output_type": "stream",
     "text": [
      "i:204\n",
      "i:438\n",
      "i:514\n",
      "Pair found\n",
      "688 818\n",
      "i:655\n",
      "i:688\n",
      "Pair found\n",
      "514 818\n",
      "i:740\n",
      "i:769\n",
      "i:798\n",
      "i:818\n",
      "Pair found\n",
      "514 688\n",
      "i:945\n",
      "i:1071\n",
      "i:1085\n",
      "i:1118\n",
      "i:1140\n",
      "i:1147\n",
      "i:1159\n",
      "i:1165\n",
      "i:1176\n",
      "i:1185\n",
      "i:1190\n",
      "i:1208\n",
      "i:1223\n",
      "i:1234\n",
      "i:1238\n",
      "i:1244\n",
      "i:1246\n",
      "i:1261\n",
      "i:1281\n",
      "i:1284\n",
      "i:1290\n",
      "i:1291\n",
      "i:1295\n",
      "i:1308\n",
      "i:1309\n",
      "i:1321\n",
      "i:1348\n",
      "i:1352\n",
      "i:1354\n",
      "i:1357\n",
      "i:1358\n",
      "i:1363\n",
      "i:1364\n",
      "i:1368\n",
      "i:1370\n",
      "i:1371\n",
      "i:1372\n",
      "i:1374\n",
      "i:1376\n",
      "i:1383\n",
      "i:1384\n",
      "i:1386\n",
      "i:1388\n",
      "i:1392\n",
      "i:1401\n",
      "i:1409\n",
      "i:1415\n",
      "i:1416\n",
      "i:1417\n",
      "i:1420\n",
      "i:1421\n",
      "i:1426\n",
      "i:1427\n",
      "i:1429\n",
      "i:1444\n",
      "i:1445\n",
      "i:1446\n",
      "i:1449\n",
      "i:1458\n",
      "i:1460\n",
      "i:1462\n",
      "i:1464\n",
      "i:1467\n",
      "i:1469\n",
      "i:1473\n",
      "i:1493\n",
      "i:1494\n",
      "i:1496\n",
      "i:1501\n",
      "i:1504\n",
      "i:1509\n",
      "i:1514\n",
      "i:1515\n",
      "i:1522\n",
      "i:1529\n",
      "i:1539\n",
      "i:1541\n",
      "i:1547\n",
      "i:1556\n",
      "i:1557\n",
      "i:1566\n",
      "i:1567\n",
      "i:1569\n",
      "i:1575\n",
      "i:1576\n",
      "i:1579\n",
      "i:1580\n",
      "i:1582\n",
      "i:1585\n",
      "i:1596\n",
      "i:1600\n",
      "i:1601\n",
      "i:1604\n",
      "i:1611\n",
      "i:1619\n",
      "i:1630\n",
      "i:1632\n",
      "i:1634\n",
      "i:1635\n",
      "i:1638\n",
      "i:1642\n",
      "i:1643\n",
      "i:1647\n",
      "i:1649\n",
      "i:1650\n",
      "i:1657\n",
      "i:1659\n",
      "i:1661\n",
      "i:1666\n",
      "i:1669\n",
      "i:1676\n",
      "i:1677\n",
      "i:1678\n",
      "i:1679\n",
      "i:1685\n",
      "i:1687\n",
      "i:1689\n",
      "i:1694\n",
      "i:1697\n",
      "i:1706\n",
      "i:1713\n",
      "i:1719\n",
      "i:1724\n",
      "i:1725\n",
      "i:1726\n",
      "i:1731\n",
      "i:1744\n",
      "i:1745\n",
      "i:1747\n",
      "i:1749\n",
      "i:1751\n",
      "i:1752\n",
      "i:1753\n",
      "i:1763\n",
      "i:1765\n",
      "i:1770\n",
      "i:1772\n",
      "i:1791\n",
      "i:1793\n",
      "i:1799\n",
      "i:1803\n",
      "i:1806\n",
      "i:1810\n",
      "i:1811\n",
      "i:1812\n",
      "i:1814\n",
      "i:1815\n",
      "i:1818\n",
      "i:1820\n",
      "i:1821\n",
      "i:1823\n",
      "i:1825\n",
      "i:1828\n",
      "i:1829\n",
      "i:1832\n",
      "i:1835\n",
      "i:1838\n",
      "i:1841\n",
      "i:1846\n",
      "i:1859\n",
      "i:1867\n",
      "i:1878\n",
      "i:1879\n",
      "i:1890\n",
      "i:1891\n",
      "i:1898\n",
      "i:1901\n",
      "i:1904\n",
      "i:1910\n",
      "i:1911\n",
      "i:1919\n",
      "i:1923\n",
      "i:1925\n",
      "i:1936\n",
      "i:1945\n",
      "i:1948\n",
      "i:1957\n",
      "i:1960\n",
      "i:1961\n",
      "i:1963\n",
      "i:1964\n",
      "i:1965\n",
      "i:1970\n",
      "i:1971\n",
      "i:1973\n",
      "i:1975\n",
      "i:1977\n",
      "i:1979\n",
      "i:1984\n",
      "i:1990\n",
      "i:1994\n"
     ]
    }
   ],
   "source": [
    "for i in data:\n",
    "    print(f\"i:{i}\")\n",
    "    find_number(data, 2020-i)"
   ]
  },
  {
   "cell_type": "code",
   "execution_count": null,
   "metadata": {},
   "outputs": [],
   "source": []
  }
 ],
 "metadata": {
  "kernelspec": {
   "display_name": "Python 3",
   "language": "python",
   "name": "python3"
  },
  "language_info": {
   "codemirror_mode": {
    "name": "ipython",
    "version": 3
   },
   "file_extension": ".py",
   "mimetype": "text/x-python",
   "name": "python",
   "nbconvert_exporter": "python",
   "pygments_lexer": "ipython3",
   "version": "3.8.6"
  },
  "varInspector": {
   "cols": {
    "lenName": 16,
    "lenType": 16,
    "lenVar": 40
   },
   "kernels_config": {
    "python": {
     "delete_cmd_postfix": "",
     "delete_cmd_prefix": "del ",
     "library": "var_list.py",
     "varRefreshCmd": "print(var_dic_list())"
    },
    "r": {
     "delete_cmd_postfix": ") ",
     "delete_cmd_prefix": "rm(",
     "library": "var_list.r",
     "varRefreshCmd": "cat(var_dic_list()) "
    }
   },
   "types_to_exclude": [
    "module",
    "function",
    "builtin_function_or_method",
    "instance",
    "_Feature"
   ],
   "window_display": false
  }
 },
 "nbformat": 4,
 "nbformat_minor": 4
}
